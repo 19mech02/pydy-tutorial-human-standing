{
 "metadata": {
  "name": ""
 },
 "nbformat": 3,
 "nbformat_minor": 0,
 "worksheets": [
  {
   "cells": [
    {
     "cell_type": "heading",
     "level": 1,
     "metadata": {},
     "source": [
      "An overview of rigid body dynamics"
     ]
    },
    {
     "cell_type": "markdown",
     "metadata": {},
     "source": [
      "$$\n",
      "% vector\n",
      "\\newcommand{\\v}[1]{\\mathbf{\\vec{#1}}}\n",
      "% unit vector\n",
      "\\newcommand{\\u}[1]{\\mathbf{\\hat{#1}}}\n",
      "% dot product\n",
      "\\newcommand{\\dp}[2]{#1 \\cdot #2}\n",
      "% cross product\n",
      "\\newcommand{\\cp}[2]{#1 \\times #2}\n",
      "% rotation matrix\n",
      "\\newcommand{\\R}[2]{{}^{#1} R ^{#2}}\n",
      "% vector derivative\n",
      "\\newcommand{\\d}[2]{\\frac{{}^#2d#1}{dt}}\n",
      "% angular velocity\n",
      "\\newcommand{\\av}[2]{{}^{#2} \\v{\\omega} {}^{#1}}\n",
      "% angular acceleration\n",
      "\\newcommand{\\aa}[2]{{}^{#2} \\v{\\alpha} {}^{#1}}\n",
      "% position\n",
      "\\newcommand{\\pos}[2]{\\v{r} {}^{#2/#1}}\n",
      "% velocity\n",
      "\\newcommand{\\vel}[2]{{}^#2 \\v{v} {}^{#1}}\n",
      "$$"
     ]
    },
    {
     "cell_type": "markdown",
     "metadata": {},
     "source": [
      "Rigid body dynamics is concerned with describing the motion of systems composed of solid bodies; such as vehicles, skeletons, robots [1-4]:\n",
      "\n",
      "![Examples of rigid body systems](files/figures/example_rigid_body_systems.svg)"
     ]
    },
    {
     "cell_type": "markdown",
     "metadata": {},
     "source": [
      "This document borrows heavily from [5, 6]."
     ]
    },
    {
     "cell_type": "heading",
     "level": 1,
     "metadata": {},
     "source": [
      "Newton's Second Law"
     ]
    },
    {
     "cell_type": "markdown",
     "metadata": {},
     "source": [
      "For all these systems, our goal is to determine how each body's position changes in time. Newton told us that the acceleration $\\v{a}$ of a system is proportional to the force $\\v{F}$ applied to it:\n",
      "\n",
      "$$\\v{F} = m\\v{a}$$\n",
      "\n",
      "Newton gave us the bodies' acceleration, but we would really prefer to obtain their position. Thus, Newton gave us a second order ordinary differential equation for the quantity we seek. This equation is actually far too simple for the systems we want to study, but it reveals that there are three topics to consider in describing a rigid body system: its kinematics ($\\v{a}$), its mass properties ($m$), and the external forces applied to the system ($\\v{F}$). In this notebook, we present the tools necessary to mathematically describe a rigid body system. Once equipped with a mathematical description of a system, we can generate equations that describe its motion. Regardless, we always end up with second-order ordinary differential equations in time."
     ]
    },
    {
     "cell_type": "heading",
     "level": 1,
     "metadata": {},
     "source": [
      "Vectors"
     ]
    },
    {
     "cell_type": "markdown",
     "metadata": {},
     "source": [
      "Newton's second law is a vector equation. A vector is a quantity that has a **magnitude** and a **direction**. For example, \"5 miles East\" is a vector quantity with magnitude 5 miles and direction East. We draw them as arrows:\n",
      "\n",
      "![What does a vector look like?](files/figures/vector_basics.svg)\n",
      "\n",
      "We represent the magnitude of a vector $\\v{v}$ as $|\\v{v}|$. We represent the direction of a vector $\\v{v}$ using a unit vector $\\u{u}$ (magnitude of 1) that has the same direction as $\\v{v}$: \n",
      "\n",
      "$$\\u{u} = \\frac{\\v{v}}{|\\v{v}|}$$"
     ]
    },
    {
     "cell_type": "markdown",
     "metadata": {},
     "source": [
      "We will work with the following vector quantities: positions, velocities, accelerations, forces, angular velocities, and torques/moments. Don't think about these vectors as linear algebra vectors. Our vectors always have a physical interpretation (and thus are always 2 or 3 dimensinonal), while linear algebra vectors are often more abstract."
     ]
    },
    {
     "cell_type": "heading",
     "level": 3,
     "metadata": {},
     "source": [
      "Addition"
     ]
    },
    {
     "cell_type": "markdown",
     "metadata": {},
     "source": [
      "When we add vector $\\v{b}$ to vector $\\v{a}$, the result is a vector that starts at the tail of $\\v{a}$ and ends at the tip of $\\v{b}$:\n",
      "\n",
      "![Vector addition](files/figures/vector_addition.svg)"
     ]
    },
    {
     "cell_type": "heading",
     "level": 3,
     "metadata": {},
     "source": [
      "Scaling "
     ]
    },
    {
     "cell_type": "markdown",
     "metadata": {},
     "source": [
      "Multiplying a vector by a scalar changes its magnitude, but not its direction. Scaling by a negative number changes a vector's magnitude and reverses its sense (rotates it by 180 degrees).\n",
      "\n",
      "![Vector scaling](files/figures/vector_scaling.svg)"
     ]
    },
    {
     "cell_type": "heading",
     "level": 3,
     "metadata": {},
     "source": [
      "Dot product (scalar product)"
     ]
    },
    {
     "cell_type": "markdown",
     "metadata": {},
     "source": [
      "The dot product, which yields a scalar quantity, is defined as:\n",
      "\n",
      "$$\\v{a} \\cdot \\v{b} = |\\v{a}||\\v{b}| \\cos{\\theta}$$\n",
      "\n",
      "where $\\theta$ is the angle between the two vectors. It is used to determine:\n",
      "\n",
      "* the angle between two vectors: $\\theta = \\cos^{-1}[\\v{a} \\cdot \\v{b} / (|\\v{a}||\\v{b}|)]$\n",
      "* a vector's magnitude: $ |\\v{v}| = \\sqrt{\\v{v} \\cdot \\v{v}} $\n",
      "* the length of a vector along a direction/unit vector $\\u{u}$ (called the projection): $ \\mbox{proj}_{\\u{u}}\\v{v} = \\v{v} \\cdot \\u{u}$\n",
      "* if two vectors are perpendicular: $ \\v{a} \\cdot \\v{b} = 0 \\mbox{ if } \\v{a} \\perp \\v{b} $\n",
      "* compute power: $ P = \\dp{\\v{F}}{\\v{v}}$\n",
      "\n",
      "Also, dot products are used to convert a vector equation into a scalar equation (by \"dotting\" an entire equation with a vector).\n",
      "\n",
      "![Vector dot product](files/figures/vector_dot.svg)"
     ]
    },
    {
     "cell_type": "heading",
     "level": 3,
     "metadata": {},
     "source": [
      "Cross product (vector product)"
     ]
    },
    {
     "cell_type": "markdown",
     "metadata": {},
     "source": [
      "The cross product, which yields a vector quantity, is defined as:\n",
      "\n",
      "$$ \\cp{\\v{a}}{\\v{b}} = |\\v{a}||\\v{b}| \\sin\\theta \\u{u}$$\n",
      "\n",
      "where $\\theta$ is the angle between the two vectors, and $\\u{u}$ is the unit vector perpendicular to both $\\v{a}$ and $\\v{b}$ whose sense is given by the right-hand rule. It is used to:\n",
      "\n",
      "* obtain a vector/direction perpendicular to two other vectors\n",
      "* determine if two vectors are parallel: $\\cp{\\v{a}}{\\v{b}} = \\v{0} \\mbox{ if } \\v{a} \\parallel \\v{b}$\n",
      "* compute moments: $ \\cp{\\v{r}}{\\v{F}}$\n",
      "* compute the area of a triangle\n",
      "\n",
      "![Vector cross product](files/figures/vector_cross.svg)"
     ]
    },
    {
     "cell_type": "heading",
     "level": 3,
     "metadata": {},
     "source": [
      "Some vector properties"
     ]
    },
    {
     "cell_type": "markdown",
     "metadata": {},
     "source": [
      "* The order in which you add them does not matter: $\\v{a} + \\v{b} = \\v{b} + \\v{a}$\n",
      "* You can distrubute a scalar among vectors: $ s (\\v{a} + \\v{b}) = s\\v{a} + s\\v{b} $\n",
      "\n",
      "**Dot product**\n",
      "\n",
      "* You can pull out scalars: $ c \\v{a} \\cdot d \\v{b} = cd (\\v{a} \\cdot \\v{b})$\n",
      "* Order does not matter: $\\dp{\\v{a}}{\\v{b}} = \\dp{\\v{b}}{\\v{a}}$\n",
      "* You can distribute: $\\dp{\\v{a}}{(\\v{b} + \\v{c})} = \\dp{\\v{a}}{\\v{b}} + \\dp{\\v{a}}{\\v{c}}$\n",
      "\n",
      "**Cross product**\n",
      "\n",
      "* Crossing a vector with itself \"cancels\" it: $\\cp{\\v{a}}{\\v{b}} = \\vec{0}$\n",
      "* You can pull out scalars: $ c \\v{a} \\times d \\v{b} = cd (\\v{a} \\times \\v{b})$\n",
      "* Order DOES matter (because of the right-hand rule): $\\cp{\\v{a}}{\\v{b}} = -\\cp{\\v{b}}{\\v{a}}$\n",
      "* You can distribute: $\\cp{\\v{a}}{(\\v{b} + \\v{c})} = \\cp{\\v{a}}{\\v{b}} + \\cp{\\v{a}}{\\v{c}}$\n",
      "* They are NOT associative: $\\cp{\\v{a}}{(\\cp{\\v{b}}{\\v{c}})} \\neq \\cp{(\\cp{\\v{a}}{\\v{b}})}{\\v{c}}$"
     ]
    },
    {
     "cell_type": "heading",
     "level": 3,
     "metadata": {},
     "source": [
      "Expressing vectors with a vector basis"
     ]
    },
    {
     "cell_type": "markdown",
     "metadata": {},
     "source": [
      "We have shown you what a vector $\\v{v}$ looks like, but have yet to express an actual vector mathematically. To do so, we first choose three unit vectors $\\u{a}_x$, $\\u{a}_y$, and $\\u{a}_z$ whose directions we accept as given. Consider the human jumper from above; we choose:\n",
      "\n",
      "* $\\u{a}_x$ to point forward,\n",
      "* $\\u{a}_y$ to point upwards,\n",
      "* $\\u{a}_z$ to point out of the plane (to the subject's right).\n",
      "\n",
      "![Express a vector in different bases](files/figures/vector_express.svg)\n",
      "\n",
      "These three unit vectors are mutually perpendicular. For pratical reasons, we will always make sure that's the case. If so, the three vectors define a vector basis. We can express the position of the subject's hand from its toes in terms of these three vectors:\n",
      "\n",
      "$$ \\v{r} = d_x \\u{a}_x + d_y \\u{a}_y + 0 \\u{a}_z$$\n",
      "\n",
      "We call $d_x$ the **measure** of $\\v{r}$ along $\\u{a}_x$, and it is equal to $\\v{r} \\cdot \\u{a}_x$. Note that a vector basis does not have an origin.\n",
      "\n",
      "We could have chosen a different vector basis, such as $\\u{b}_x$, $\\u{b}_y$, $\\u{b}_z$. Then, we would express $\\v{r}$ as:\n",
      "\n",
      "$$ \\v{r} = f_x \\u{b}_x + f_y \\u{b}_y + 0 \\u{b}_z$$\n",
      "\n",
      "Using this alternative vector basis does not change the fact that $\\v{r}$ is the position of the hand from the toes; it simply changes how we *express* this quantity. It is possible to express a single vector in infinitely many ways, since we can choose to use any valid vector basis. In the next section, we will learn how to relate different vector bases to each other.\n",
      "\n",
      "#### Operating on vectors expressed in a basis\n",
      "Once we express a vector in a vector basis, it is easy to perform operations on it with vectors expressed in the same basis. Consider the two vectors:\n",
      "\n",
      "* $\\v{a} = a_x \\u{n}_x + a_y \\u{n}_y + a_z \\u{n}_z$\n",
      "* $\\v{b} = b_x \\u{n}_x + b_y \\u{n}_y + b_z \\u{n}_z$\n",
      "\n",
      "Here are the addition, dot, and cross operations between these two vectors:\n",
      "\n",
      "$$\n",
      "\\v{a} + \\v{b} = (a_x + b_x) \\u{n}_x + (a_y + b_y) \\u{n}_y + (a_z + b_z) \\u{n}_z \\\\\n",
      "\\dp{\\v{a}}{\\v{b}} = a_x b_x + a_y b_y + a_z b_z\\\\\n",
      "\\cp{\\v{a}}{\\v{b}} = \\det{\n",
      "    \\begin{bmatrix} \\u{n}_x & \\u{n}_y & \\u{n}_z \\\\\n",
      "                    a_x & a_y & a_z \\\\\n",
      "                    b_x & b_y & b_z\n",
      "    \\end{bmatrix}}\n",
      "$$\n",
      "\n",
      "#### We must specify a vector basis\n",
      "When a vector is expressed in typical linear algebra notation, information is lost. For example, we don't know the basis in which the following vector is expressed:\n",
      "\n",
      "$$\n",
      "\\v{v} = \\begin{bmatrix} v_x \\\\ v_y \\\\ v_z \\end{bmatrix}\n",
      "$$\n",
      "\n",
      "If we don't know the basis in which $v_x$, $v_y$, and $v_z$ are its measures, we cannot add $\\v{v}$ to another vector, etc. To express a vector in matrix form, we must carry along the basis in which it is expressed. One option for doing so is the following:\n",
      "\n",
      "$$\n",
      "[\\v{v}]_{n} = \\begin{bmatrix} v_x \\\\ v_y \\\\ v_z \\end{bmatrix}_{n} $$\n",
      "\n",
      "The notation $[\\v{v}]_{n}$ specifies that $\\v{v}$ is expressed in the vector basis $\\u{n}_x$, $\\u{n}_y$, $\\u{n}_z$."
     ]
    },
    {
     "cell_type": "heading",
     "level": 1,
     "metadata": {},
     "source": [
      "Rotation matrices (direction cosine matrices)"
     ]
    },
    {
     "cell_type": "markdown",
     "metadata": {},
     "source": [
      "In almost every problem, we make use of multiple vector bases. The reason is that there is usually a particular basis in which a vector is most conveniently expressed. And, that convenient basis is usually not the same for all vectors we'll deal with. A side effect is that we will often want to change the basis in which a vector is expressed. To do so, we use a rotation matrix (also called a direction cosine matrix). The rotation matrix ${}^a R^b$ allows us to take a vector $\\v{v}$ expressed in $\\u{b}_x$, $\\u{b}_y$, $\\u{b}_z$ and re-express it in $\\u{a}_x$, $\\u{a}_y$, $\\u{a}_z$:\n",
      "\n",
      "$$\n",
      "[\\v{v}]_{a} = {}^a R^b ~ [\\v{v}]_{b}\n",
      "$$\n",
      "\n",
      "The rotation matrix is given by dot products across the two the vector bases:\n",
      "\n",
      "$$\n",
      "\\R{a}{b} = \n",
      "    \\begin{bmatrix}\n",
      "        \\dp{\\u{a}_x}{\\u{b}_x} & \\dp{\\u{a}_x}{\\u{b}_y} & \\dp{\\u{a}_x}{\\u{b}_z} \\\\\n",
      "        \\dp{\\u{a}_y}{\\u{b}_x} & \\dp{\\u{a}_y}{\\u{b}_y} & \\dp{\\u{a}_y}{\\u{b}_z} \\\\\n",
      "        \\dp{\\u{a}_z}{\\u{b}_x} & \\dp{\\u{a}_z}{\\u{b}_y} & \\dp{\\u{a}_z}{\\u{b}_z} \\\\\n",
      "    \\end{bmatrix}\n",
      "$$\n",
      "\n",
      "Because of the nature of vector bases, this matrix is symmetric and orthogonal. If we instead have a vector in basis $a$ and want to express it in $b$, we can simply use the inverse of $\\R{a}{b}$. Since the matrix is orthogonal, its inverse is the same as its transpose.\n",
      "\n",
      "$$\n",
      "\\R{b}{a} = (\\R{a}{b})^{-1} = (\\R{a}{b})^T \\\\\n",
      "[\\v{v}]_{b} = {}^b R^a ~ [\\v{v}]_{a} \\\\\n",
      "[\\v{v}]_{b} = ({}^a R^b)^T ~ [\\v{v}]_{a}\n",
      "$$\n",
      "\n",
      "The columns of $\\R{a}{b}$ are the unit vectors $\\u{b}_x$, $\\u{b}_y$, $\\u{b}_z$ expressed in $a$:\n",
      "\n",
      "$$\n",
      "\\R{a}{b} = \\begin{bmatrix} [\\u{b}_x]_a & [\\u{b}_y]_a & [\\u{b}_z]_a \\end{bmatrix}\n",
      "$$\n",
      "\n",
      "#### Successive rotations\n",
      "\n",
      "We'll usually need to re-express a vector multiple times. Luckily, we can do so by multiplying rotation matrices together:\n",
      "\n",
      "$$\n",
      "\\R{d}{a} = (\\R{d}{c} )(\\R{c}{b}) (\\R{b}{a}) \\\\\n",
      "[\\v{v}]_{d} = \\R{d}{a} [\\v{v}]_{a} \\\\\n",
      "[\\v{v}]_{d} = (\\R{d}{c} )(\\R{c}{b}) (\\R{b}{a})[\\v{v}]_{a} \n",
      "$$\n",
      "\n",
      "#### A point of confusion: rotating vs. re-expressing\n",
      "\n",
      "Sometimes, rotation matrices are used to rotate vectors; that is, cause the vector to point somewhere different. That is NOT how we are using rotation matrices here. Rotating a vector  changes the vector itself, while we are only changing how the *same* vector is expressed."
     ]
    },
    {
     "cell_type": "heading",
     "level": 1,
     "metadata": {},
     "source": [
      "Reference frames"
     ]
    },
    {
     "cell_type": "markdown",
     "metadata": {},
     "source": [
      "A reference frame (or simply, frame) is a rigid 3D object. We always attach a reference frame to rigid bodies in order to describe their motion. We may also use \"empty\" reference frames to make a system easier to model.\n",
      "\n",
      "A reference frame has some *location* in space, but it does *not* have a position. Reference frames contain points, and those *points* have positions.\n",
      "\n",
      "A reference frame also has an *orientation* in space. To specify its orientation, we choose a  vector basis whose orientation is fixed with respect to the reference frame (but there are infinitely many vector bases we *could* label on the frame). In general, we are only interested in the vector bases we attach to reference frames; from here on, we will instead refer to reference frames in the places where we referred vector bases. That is, we express vectors in a reference frame instead of in a vector basis.\n",
      "\n",
      "A reference frame's location and orientation vary in time. Two important attributes of a reference frame are its **angular velocity** $\\v{\\omega}$ and its **angular acceleration** $\\v{\\alpha}$; we'll describe these shortly.\n",
      "\n",
      "A **Newtonian reference frame** is one in which Newton's second law holds.\n",
      "\n",
      "![Reference frames](files/figures/reference_frame.svg)"
     ]
    },
    {
     "cell_type": "heading",
     "level": 1,
     "metadata": {},
     "source": [
      "Derivatives of vectors"
     ]
    },
    {
     "cell_type": "markdown",
     "metadata": {},
     "source": [
      "Consider the vector $\\u{a}_x$ in the figure above. To an observer sitting on $A$, $\\u{a}_x$ never changes; it is fixed rigidly to $A$. Therefore, the observer would say the time derivative of $\\u{a}_x$ is $\\v{0}$. However, an observer on $N$ would indeed observe that $\\u{a}_x$ changes in time. For this reason, when we take the time derivative of a vector, we must specify the frame in which we take the derivative. The derivative of a generic vector $\\v{p}$ in frame $N$ is denoted as:\n",
      "\n",
      "$$\\d{\\v{p}}{N}$$\n",
      "\n",
      "Consider a vector $\\v{p}$ expressed in $A$:\n",
      "\n",
      "$$\\v{p} = p_x \\u{a}_x + p_y \\u{a}_y + p_z \\u{a}_z$$\n",
      "\n",
      "Its time derivative in frame $A$ is:\n",
      "\n",
      "$$\\d{\\v{p}}{A} = \\dot{p}_x \\u{a}_x + \\dot{p}_y \\u{a}_y + \\dot{p}_z \\u{a}_z$$\n",
      "\n",
      "Here, we have benefitted from the fact that $\\u{a}_x$, $\\u{a}_y$, and $\\u{a}_z$ are constant in $A$. We are not so fortunate when taking the derivative in $N$, since these basis vectors are not constant in $N$:\n",
      "\n",
      "$$\\d{\\v{p}}{N} = \\dot{p}_x \\u{a}_x + p_x \\d{\\u{a}_x}{N} + \\dot{p}_y \\u{a}_y + p_y \\d{\\u{a}_y}{A} + \\dot{p}_z \\u{a}_z + p_z \\d{\\u{a}_z}{N}$$\n",
      "\n",
      "This formula for the derivative in $N$ of a vector expressed in $A$ is not so great to use.  Once we introduce angular velocity, we will have a much better way to compute such quantities."
     ]
    },
    {
     "cell_type": "heading",
     "level": 1,
     "metadata": {},
     "source": [
      "Angular velocity and angular acceleration"
     ]
    },
    {
     "cell_type": "markdown",
     "metadata": {},
     "source": [
      "A reference frame's angular velocity describes the rate of change of the frame's orientation. Consider frame $A$. Since angular velocity is a vector quantity, we must specify the frame from which we observe the change in $A$'s orientation.\n",
      "\n",
      "<div class=\"text-info\" style=\"margin: 10px\">\n",
      " $\\av{A}{N}$: the angular velocity of frame $A$ as observed from frame $N$\n",
      "</div>\n",
      "\n",
      "There are some complicated formulas for $\\av{A}{N}$, but you usually don't need them. Typically, you know $\\av{A}{N}$ by inspection. Take the linkage below:\n",
      "\n",
      "![Angular velocity](files/figures/angular_velocity.svg)\n",
      "\n",
      "In this linkage, the only way that frame/body $B$ can move with respect to $A$ is by rotating about $B_o$ by the angle $q_1$. Thus, by inspection:\n",
      "\n",
      "$$\\av{B}{A} = \\dot{q}_1 \\u{b}_z$$\n",
      "\n",
      "$C$ is attached to $B$ similarly:\n",
      "\n",
      "$$\\av{C}{B} = \\dot{q}_2 \\u{c}_z$$\n",
      "\n",
      "#### Angular velocity addition theorem\n",
      "\n",
      "We can add angular velocities together, similar to how we multiplied reference frames:\n",
      "\n",
      "$$\\av{C}{A} = \\av{B}{A} + \\av{C}{B}$$\n",
      "\n",
      "#### Derivative theorem\n",
      "\n",
      "For any vector $\\v{p}$, the following equation relates the derivative of $\\v{p}$ in two different reference frames via the angular velocity between these two frames:\n",
      "\n",
      "$$\\d{\\v{p}}{A} = \\d{\\v{p}}{B} + \\av{B}{A} \\times \\v{p}$$\n",
      "\n",
      "Again, this works for *any* vector, not just position vectors.\n",
      "This theorem is really important, and is the primary way that we compute derivatives of vectors in other frames.\n",
      "\n",
      "#### Angular acceleration\n",
      "\n",
      "The equations of rigid body dynamics will also require angular accelerations $\\aa{B}{A}$ of the rigid bodies in the system, but this can usually be computed automatically from  $\\av{B}{A}$.\n",
      "\n",
      "<div class=\"text-info\" style=\"margin: 10px\">\n",
      " $\\aa{A}{N}$: the angular acceleration of frame $A$ as observed from frame $N$\n",
      "</div>"
     ]
    },
    {
     "cell_type": "heading",
     "level": 1,
     "metadata": {},
     "source": [
      "Position, velocity, and acceleration"
     ]
    },
    {
     "cell_type": "markdown",
     "metadata": {},
     "source": [
      "#### Position\n",
      "\n",
      "Position vectors have the special property that two points must be specified. For example, if I want to obtain the position of point $P$ in the figure above, I must specify the point from which I want that position.\n",
      "\n",
      "<div class=\"text-info\" style=\"margin: 10px\">\n",
      " $\\pos{Q}{P}$: the position of point $Q$ with respect to point $P$.\n",
      "</div>\n",
      "\n",
      "In modeling, we often must write down various position vectors via inspection.\n",
      "\n",
      "#### Velocity\n",
      "\n",
      "A velocity of a point is the derivative of its position, and must have associated with it the frame in which the derivative is taken.\n",
      "\n",
      "<div class=\"text-info\" style=\"margin: 10px\">\n",
      "$\\vel{Q}{N}$: the velocity of point $Q$ in frame $N$\n",
      "</div>\n",
      "\n",
      "Previously, we used the symbol $\\v{v}$ to denote a generic vector. Henceforth, $\\v{v}$ refers to a velocity. If $N_o$ is a point fixed in $N$, then:\n",
      "\n",
      "$$\\vel{Q}{N}\\d{\\pos{Q}{N_o}}{N}$$\n",
      "\n",
      "When using PyDy, we rarely need to use inspection to determine the velocity of points of interest. Instead, we are usually in the situation that we want the velocity (in $N$) of point $Q$ fixed on body $B$, and we already know the velocity of another point $P$ fixed on $B$. In this case, we use the following formula to obtain $\\vel{Q}{N}$ (`v2pt_theory` in PyDy):\n",
      "\n",
      "$$\\vel{Q}{N} = \\vel{P}{N} + \\av{B}{N} \\times \\pos{Q}{P}$$ \n",
      "\n",
      "#### Acceleration\n",
      "\n",
      "TODO"
     ]
    },
    {
     "cell_type": "heading",
     "level": 1,
     "metadata": {},
     "source": [
      "Mass properties"
     ]
    },
    {
     "cell_type": "heading",
     "level": 1,
     "metadata": {},
     "source": [
      "Forces and moments/torques"
     ]
    },
    {
     "cell_type": "heading",
     "level": 1,
     "metadata": {},
     "source": [
      "Equations of motion"
     ]
    },
    {
     "cell_type": "heading",
     "level": 1,
     "metadata": {},
     "source": [
      "Ordinary differential equations"
     ]
    },
    {
     "cell_type": "heading",
     "level": 1,
     "metadata": {},
     "source": [
      "References"
     ]
    },
    {
     "cell_type": "markdown",
     "metadata": {},
     "source": [
      "[1] Moore, J. K. (2012). Human Control of a Bicycle. University of California, Davis.\n",
      "\n",
      "[2] Ashby, B. M., & Delp, S. L. (2006). Optimal control simulations reveal mechanisms by which arm movement improves standing long jump performance. Journal of biomechanics, 39(9), 1726\u201334. doi:10.1016/j.jbiomech.2005.04.017\n",
      "\n",
      "[3] Gong, X., Bai, Y., Hou, Z., Zhao, C., Tian, Y., & Sun, Q. (2012). Backstepping sliding mode tracking control of quad-rotor under input saturation. International Journal of Intelligent Computing and Cybernetics, 5(4), 515\u2013532. doi:10.1108/17563781211282268\n",
      "\n",
      "[4] Wu, J. Z., An, K.-N., Cutlip, R. G., Krajnak, K., Welcome, D., & Dong, R. G. (2008). Analysis of musculoskeletal loading in an index finger during tapping. Journal of biomechanics, 41(3), 668\u201376. doi:10.1016/j.jbiomech.2007.09.025\n",
      "\n",
      "[5] Mitiguy, P. Advanced Dynamics & Motion Simulation. 2013.\n",
      "\n",
      "[6] http://docs.sympy.org/latest/modules/physics/mechanics/index.html"
     ]
    }
   ],
   "metadata": {}
  }
 ]
}