{
 "metadata": {
  "name": ""
 },
 "nbformat": 3,
 "nbformat_minor": 0,
 "worksheets": [
  {
   "cells": [
    {
     "cell_type": "heading",
     "level": 1,
     "metadata": {},
     "source": [
      "Introduction"
     ]
    },
    {
     "cell_type": "markdown",
     "metadata": {},
     "source": [
      "In this last notebook, we will create a full state feedback controller that will allow the human model to balance. There isn't time to give a good overview of controls, but we will use the very common optimal control method to quickly create a controller for our system."
     ]
    },
    {
     "cell_type": "heading",
     "level": 1,
     "metadata": {},
     "source": [
      "Setup"
     ]
    },
    {
     "cell_type": "markdown",
     "metadata": {},
     "source": [
      "Bring in the results from the previous notebooks."
     ]
    },
    {
     "cell_type": "code",
     "collapsed": false,
     "input": [
      "from solution.visualization import *"
     ],
     "language": "python",
     "metadata": {},
     "outputs": [],
     "prompt_number": 1
    },
    {
     "cell_type": "markdown",
     "metadata": {},
     "source": [
      "We will be working with numerical matrices so we will need several functions from NumPy."
     ]
    },
    {
     "cell_type": "code",
     "collapsed": false,
     "input": [
      "from numpy import array, zeros, eye, asarray, dot, rad2deg\n",
      "from numpy.linalg import inv"
     ],
     "language": "python",
     "metadata": {},
     "outputs": [],
     "prompt_number": 2
    },
    {
     "cell_type": "markdown",
     "metadata": {},
     "source": [
      "We will be simulating the model again with the controller in place and will make some plots of the state trajectories as before so bring in some useful functions from matplotlib."
     ]
    },
    {
     "cell_type": "code",
     "collapsed": false,
     "input": [
      "%matplotlib inline"
     ],
     "language": "python",
     "metadata": {},
     "outputs": [],
     "prompt_number": 3
    },
    {
     "cell_type": "code",
     "collapsed": false,
     "input": [
      "from matplotlib.pyplot import plot, xlabel, ylabel, legend, rcParams"
     ],
     "language": "python",
     "metadata": {},
     "outputs": [],
     "prompt_number": 4
    },
    {
     "cell_type": "code",
     "collapsed": false,
     "input": [
      "rcParams['figure.figsize'] = (14, 8)"
     ],
     "language": "python",
     "metadata": {},
     "outputs": [],
     "prompt_number": 5
    },
    {
     "cell_type": "code",
     "collapsed": false,
     "input": [
      "from sympy.physics.vector import init_vprinting, vlatex"
     ],
     "language": "python",
     "metadata": {},
     "outputs": [],
     "prompt_number": 6
    },
    {
     "cell_type": "code",
     "collapsed": false,
     "input": [
      "from sympy import simplify\n",
      "init_vprinting()"
     ],
     "language": "python",
     "metadata": {},
     "outputs": [],
     "prompt_number": 7
    },
    {
     "cell_type": "markdown",
     "metadata": {},
     "source": [
      "We will be displaying numerical matrices and the IPython magic `%precision` can be used to adjust how many decimal places are shown for nice compact printing."
     ]
    },
    {
     "cell_type": "code",
     "collapsed": false,
     "input": [
      "%precision 3"
     ],
     "language": "python",
     "metadata": {},
     "outputs": [
      {
       "metadata": {},
       "output_type": "pyout",
       "prompt_number": 8,
       "text": [
        "u'%.3f'"
       ]
      }
     ],
     "prompt_number": 8
    },
    {
     "cell_type": "heading",
     "level": 1,
     "metadata": {},
     "source": [
      "Linearization"
     ]
    },
    {
     "cell_type": "markdown",
     "metadata": {},
     "source": [
      "We current have symbolic equations of motion in this form:\n",
      "\n",
      "$$ \\mathbf{M} \\dot{\\mathbf{x}} = \\mathbf{f}(\\mathbf{x}, \\mathbf{u}) $$\n",
      "\n",
      "where $\\mathbf{M}$ is the mass matric which only depends on the coordinates (and speeds?, I forget), $\\mathbf{x}$ is the state vector made up of the generalized coordinates and speeds, and $\\mathbf{f}(\\mathbf{x}, \\mathbf{u})$ is a vector of non-linear functions of the states, $\\mathbf{x}$, and the specified inputs, $\\mathbf{u}$.\n",
      "\n",
      "This model is relatively easy to linearize. In general, the non-linear equations of motion (for an unconstrained system) can be transformed into a linear form by expanding the Taylor series about small perturbations and truncating any non-linear terms. For this problem, it ultimately amounts to computing the [Jacobian](https://en.wikipedia.org/wiki/Jacobian) of the forcing vector, $\\mathbf{f}$. The linear equations can take this form:\n",
      "\n",
      "$$ \\mathbf{M} \\Delta \\dot{\\mathbf{x}} = \\mathbf{f}_A \\Delta \\mathbf{x} + \\mathbf{f}_B \\Delta \\mathbf{u} $$\n",
      "\n",
      "where\n",
      "\n",
      "$$ \\mathbf{f}_A = \\left[ \\frac{\\delta \\mathbf{f} }{ \\delta x_1}, \\ldots, \\frac{\\delta \\mathbf{f} }{ \\delta x_n} \\right] $$\n",
      "\n",
      "$$ \\mathbf{f}_B = \\left[ \\frac{\\delta \\mathbf{f} }{ \\delta u_1}, \\ldots, \\frac{\\delta \\mathbf{f} }{ \\delta u_n} \\right] $$\n",
      "\n",
      "and \\( \\delta x \\) and \\( \\delta u \\) are _differential_ changes in \\(x\\) and \\(u\\) respectively.\n",
      "\n",
      "Once $\\mathbf{f}_A$ and $\\mathbf{f}_B$ are found, then the standard state space form of the linear equations can be formed by transforming the linear equations.\n",
      "\n",
      "$$ \\Delta \\dot{x} = \\mathbf{M}^{-1} \\mathbf{f}_A \\Delta \\mathbf{x} + \\mathbf{M}^{-1} \\mathbf{f}_B \\Delta \\mathbf{u} $$\n",
      "\n",
      "which can be rewritten as\n",
      "\n",
      "$$ \\Delta \\dot{x} = \\mathbf{A} \\mathbf{x} + \\mathbf{B} \\mathbf{u} $$\n",
      "   \n",
      "where $\\mathbf{A}$ is the state matrix and $\\mathbf{B}$ is the input matrix."
     ]
    },
    {
     "cell_type": "markdown",
     "metadata": {},
     "source": [
      "The first step is to specify the equilbrium point at which to linearize about. Our system has two unique equilibrium points, one when the person is upright, $\\mathbf{x} = [0, \\ldots, 0]$, and one when the person is upside down, $\\mathbf{x} = [\\pi, \\ldots, \\pi]$ (180 degrees). We are only concerned with the former."
     ]
    },
    {
     "cell_type": "code",
     "collapsed": false,
     "input": [
      "equilibrium_point = zeros(len(coordinates + speeds))\n",
      "equilibrium_point"
     ],
     "language": "python",
     "metadata": {},
     "outputs": [
      {
       "metadata": {},
       "output_type": "pyout",
       "prompt_number": 9,
       "text": [
        "array([ 0.,  0.,  0.,  0.,  0.,  0.])"
       ]
      }
     ],
     "prompt_number": 9
    },
    {
     "cell_type": "markdown",
     "metadata": {},
     "source": [
      "We will use SymPy's `sub()` method to convert the equations of motion to numerical calculations, so we create two dictionaries containing the numerical values of the equilibrium point and the "
     ]
    },
    {
     "cell_type": "code",
     "collapsed": false,
     "input": [
      "equilibrium_dict = dict(zip(coordinates + speeds, equilibrium_point))\n",
      "equilibrium_dict"
     ],
     "language": "python",
     "metadata": {},
     "outputs": [
      {
       "latex": [
        "$$\\begin{Bmatrix}\\omega_{1} : 0.0, & \\omega_{2} : 0.0, & \\omega_{3} : 0.0, & \\theta_{1} : 0.0, & \\theta_{2} : 0.0, & \\theta_{3} : 0.0\\end{Bmatrix}$$"
       ],
       "metadata": {},
       "output_type": "pyout",
       "png": "[encoded data removed]",
       "prompt_number": 10,
       "text": [
        "{\u03c9\u2081: 0.0, \u03c9\u2082: 0.0, \u03c9\u2083: 0.0, \u03b8\u2081: 0.0, \u03b8\u2082: 0.0, \u03b8\u2083: 0.0}"
       ]
      }
     ],
     "prompt_number": 10
    },
    {
     "cell_type": "markdown",
     "metadata": {},
     "source": [
      "As an exercise, create a `parameter_dict` that maps the symbolic constants to the numerical constants. We have variable names for each already available from the previous notebooks."
     ]
    },
    {
     "cell_type": "code",
     "collapsed": false,
     "input": [
      "parameter_dict = dict(zip(constants, numerical_constants))\n",
      "parameter_dict"
     ],
     "language": "python",
     "metadata": {},
     "outputs": [
      {
       "latex": [
        "$$\\begin{Bmatrix}I_{Lz} : 0.101, & I_{Tz} : 1.485, & I_{Uz} : 0.282, & d_{L} : 0.387, & d_{T} : 0.305, & d_{U} : 0.193, & g : 9.81, & l_{L} : 0.611, & l_{U} : 0.424, & m_{L} : 6.769, & m_{T} : 32.44, & m_{U} : 17.01\\end{Bmatrix}$$"
       ],
       "metadata": {},
       "output_type": "pyout",
       "prompt_number": 11,
       "text": [
        "{I_Lz: 0.101, I_Tz: 1.485, I_Uz: 0.282, d_L: 0.387, d_T: 0.305, d_U: 0.193, g:\n",
        " 9.81, l_L: 0.611, l_U: 0.424, m_L: 6.769, m_T: 32.44, m_U: 17.01}"
       ]
      }
     ],
     "prompt_number": 11
    },
    {
     "cell_type": "markdown",
     "metadata": {},
     "source": [
      "Now we can compute the Jacobian of the forcing vector with respect to the states and the inputs."
     ]
    },
    {
     "cell_type": "code",
     "collapsed": false,
     "input": [
      "F_A = forcing_vector.jacobian(coordinates + speeds)"
     ],
     "language": "python",
     "metadata": {},
     "outputs": [],
     "prompt_number": 12
    },
    {
     "cell_type": "code",
     "collapsed": false,
     "input": [
      "F_A = simplify(F_A.subs(equilibrium_dict))\n",
      "F_A"
     ],
     "language": "python",
     "metadata": {},
     "outputs": [
      {
       "latex": [
        "$$\\left[\\begin{matrix}0 & 0 & 0 & 1 & 0 & 0\\\\0 & 0 & 0 & 0 & 1 & 0\\\\0 & 0 & 0 & 0 & 0 & 1\\\\g \\left(d_{L} m_{L} + d_{T} m_{T} + d_{U} m_{U} + l_{L} m_{T} + l_{L} m_{U} + l_{U} m_{T}\\right) & g \\left(d_{T} m_{T} + d_{U} m_{U} + l_{U} m_{T}\\right) & d_{T} g m_{T} & 0 & 0 & 0\\\\g \\left(d_{T} m_{T} + d_{U} m_{U} + l_{U} m_{T}\\right) & g \\left(d_{T} m_{T} + d_{U} m_{U} + l_{U} m_{T}\\right) & d_{T} g m_{T} & 0 & 0 & 0\\\\d_{T} g m_{T} & d_{T} g m_{T} & d_{T} g m_{T} & 0 & 0 & 0\\end{matrix}\\right]$$"
       ],
       "metadata": {},
       "output_type": "pyout",
       "png": "[encoded data removed]",
       "prompt_number": 13,
       "text": [
        "\u23a1                              0                                              \n",
        "\u23a2                                                                             \n",
        "\u23a2                              0                                              \n",
        "\u23a2                                                                             \n",
        "\u23a2                              0                                              \n",
        "\u23a2                                                                             \n",
        "\u23a2g\u22c5(d_L\u22c5m_L + d_T\u22c5m_T + d_U\u22c5m_U + l_L\u22c5m_T + l_L\u22c5m_U + l_U\u22c5m_T)  g\u22c5(d_T\u22c5m_T + d\n",
        "\u23a2                                                                             \n",
        "\u23a2               g\u22c5(d_T\u22c5m_T + d_U\u22c5m_U + l_U\u22c5m_T)                 g\u22c5(d_T\u22c5m_T + d\n",
        "\u23a2                                                                             \n",
        "\u23a3                          d_T\u22c5g\u22c5m_T                                       d_T\n",
        "\n",
        " 0                     0      1  0  0\u23a4\n",
        "                                     \u23a5\n",
        " 0                     0      0  1  0\u23a5\n",
        "                                     \u23a5\n",
        " 0                     0      0  0  1\u23a5\n",
        "                                     \u23a5\n",
        "_U\u22c5m_U + l_U\u22c5m_T)  d_T\u22c5g\u22c5m_T  0  0  0\u23a5\n",
        "                                     \u23a5\n",
        "_U\u22c5m_U + l_U\u22c5m_T)  d_T\u22c5g\u22c5m_T  0  0  0\u23a5\n",
        "                                     \u23a5\n",
        "\u22c5g\u22c5m_T             d_T\u22c5g\u22c5m_T  0  0  0\u23a6"
       ]
      }
     ],
     "prompt_number": 13
    },
    {
     "cell_type": "code",
     "collapsed": false,
     "input": [
      "F_A = F_A.subs(parameter_dict)\n",
      "F_A = array(F_A.tolist(), dtype=float)\n",
      "print(F_A)"
     ],
     "language": "python",
     "metadata": {},
     "outputs": [
      {
       "output_type": "stream",
       "stream": "stdout",
       "text": [
        "[[   0.       0.       0.       1.       0.       0.   ]\n",
        " [   0.       0.       0.       0.       1.       0.   ]\n",
        " [   0.       0.       0.       0.       0.       1.   ]\n",
        " [ 586.297  264.2     97.062    0.       0.       0.   ]\n",
        " [ 264.2    264.2     97.062    0.       0.       0.   ]\n",
        " [  97.062   97.062   97.062    0.       0.       0.   ]]\n"
       ]
      }
     ],
     "prompt_number": 14
    },
    {
     "cell_type": "markdown",
     "metadata": {},
     "source": [
      "**Exercise**: Linearize the forcing vector with respect to the specified inputs by computing the correct Jacobian."
     ]
    },
    {
     "cell_type": "code",
     "collapsed": false,
     "input": [
      "F_B = forcing_vector.jacobian(specified)\n",
      "F_B = F_B.subs(equilibrium_dict).subs(parameter_dict)\n",
      "F_B = array(F_B.tolist(), dtype=float)"
     ],
     "language": "python",
     "metadata": {},
     "outputs": [],
     "prompt_number": 15
    },
    {
     "cell_type": "markdown",
     "metadata": {},
     "source": [
      "We also need the mass matrix evaluated at the equilibrium and with numerical values."
     ]
    },
    {
     "cell_type": "code",
     "collapsed": false,
     "input": [
      "M = mass_matrix.subs(equilibrium_dict)\n",
      "simplify(M)"
     ],
     "language": "python",
     "metadata": {},
     "outputs": [
      {
       "latex": [
        "$$\\left[\\begin{matrix}1 & 0 & 0 & 0 & 0 & 0\\\\0 & 1 & 0 & 0 & 0 & 0\\\\0 & 0 & 1 & 0 & 0 & 0\\\\0 & 0 & 0 & I_{Lz} + I_{Tz} + I_{Uz} + d_{L}^{2} m_{L} + m_{T} \\left(d_{T}^{2} + 2 d_{T} l_{L} + 2 d_{T} l_{U} + l_{L}^{2} + 2 l_{L} l_{U} + l_{U}^{2}\\right) + m_{U} \\left(d_{U}^{2} + 2 d_{U} l_{L} + l_{L}^{2}\\right) & I_{Tz} + I_{Uz} + d_{U} m_{U} \\left(d_{U} + l_{L}\\right) + m_{T} \\left(d_{T}^{2} + d_{T} l_{L} + 2 d_{T} l_{U} + l_{L} l_{U} + l_{U}^{2}\\right) & I_{Tz} + d_{T} m_{T} \\left(d_{T} + l_{L} + l_{U}\\right)\\\\0 & 0 & 0 & I_{Tz} + I_{Uz} + d_{U} m_{U} \\left(d_{U} + l_{L}\\right) + m_{T} \\left(d_{T}^{2} + d_{T} l_{L} + 2 d_{T} l_{U} + l_{L} l_{U} + l_{U}^{2}\\right) & I_{Tz} + I_{Uz} + d_{U}^{2} m_{U} + m_{T} \\left(d_{T}^{2} + 2 d_{T} l_{U} + l_{U}^{2}\\right) & I_{Tz} + d_{T} m_{T} \\left(d_{T} + l_{U}\\right)\\\\0 & 0 & 0 & I_{Tz} + d_{T} m_{T} \\left(d_{T} + l_{L} + l_{U}\\right) & I_{Tz} + d_{T} m_{T} \\left(d_{T} + l_{U}\\right) & I_{Tz} + d_{T}^{2} m_{T}\\end{matrix}\\right]$$"
       ],
       "metadata": {},
       "output_type": "pyout",
       "png": "[encoded data removed]",
       "prompt_number": 16,
       "text": [
        "\u23a11  0  0                                                               0      \n",
        "\u23a2                                                                             \n",
        "\u23a20  1  0                                                               0      \n",
        "\u23a2                                                                             \n",
        "\u23a20  0  1                                                               0      \n",
        "\u23a2                                                                             \n",
        "\u23a2                                 2           \u239b   2                           \n",
        "\u23a20  0  0  I_Lz + I_Tz + I_Uz + d_L \u22c5m_L + m_T\u22c5\u239dd_T  + 2\u22c5d_T\u22c5l_L + 2\u22c5d_T\u22c5l_U + \n",
        "\u23a2                                                                             \n",
        "\u23a2                                                                    \u239b   2    \n",
        "\u23a20  0  0                     I_Tz + I_Uz + d_U\u22c5m_U\u22c5(d_U + l_L) + m_T\u22c5\u239dd_T  + d\n",
        "\u23a2                                                                             \n",
        "\u23a2                                                                             \n",
        "\u23a30  0  0                                                I_Tz + d_T\u22c5m_T\u22c5(d_T + \n",
        "\n",
        "                                                                              \n",
        "                                                                              \n",
        "                                                                              \n",
        "                                                                              \n",
        "                                                                              \n",
        "                                                                              \n",
        "   2                  2\u239e       \u239b   2                  2\u239e                      \n",
        "l_L  + 2\u22c5l_L\u22c5l_U + l_U \u23a0 + m_U\u22c5\u239dd_U  + 2\u22c5d_U\u22c5l_L + l_L \u23a0  I_Tz + I_Uz + d_U\u22c5m_\n",
        "                                                                              \n",
        "                                  2\u239e                                          \n",
        "_T\u22c5l_L + 2\u22c5d_T\u22c5l_U + l_L\u22c5l_U + l_U \u23a0                                     I_Tz \n",
        "                                                                              \n",
        "                                                                              \n",
        "l_L + l_U)                                                                    \n",
        "\n",
        "                      0                                                       \n",
        "                                                                              \n",
        "                      0                                                       \n",
        "                                                                              \n",
        "                      0                                                       \n",
        "                                                                              \n",
        "                    \u239b   2                                      2\u239e             \n",
        "U\u22c5(d_U + l_L) + m_T\u22c5\u239dd_T  + d_T\u22c5l_L + 2\u22c5d_T\u22c5l_U + l_L\u22c5l_U + l_U \u23a0  I_Tz + d_T\u22c5\n",
        "                                                                              \n",
        "            2           \u239b   2                  2\u239e                             \n",
        "+ I_Uz + d_U \u22c5m_U + m_T\u22c5\u239dd_T  + 2\u22c5d_T\u22c5l_U + l_U \u23a0                     I_Tz + d\n",
        "                                                                              \n",
        "                                                                              \n",
        "         I_Tz + d_T\u22c5m_T\u22c5(d_T + l_U)                                        I_T\n",
        "\n",
        "    0                \u23a4\n",
        "                     \u23a5\n",
        "    0                \u23a5\n",
        "                     \u23a5\n",
        "    0                \u23a5\n",
        "                     \u23a5\n",
        "                     \u23a5\n",
        "m_T\u22c5(d_T + l_L + l_U)\u23a5\n",
        "                     \u23a5\n",
        "                     \u23a5\n",
        "_T\u22c5m_T\u22c5(d_T + l_U)   \u23a5\n",
        "                     \u23a5\n",
        "       2             \u23a5\n",
        "z + d_T \u22c5m_T         \u23a6"
       ]
      }
     ],
     "prompt_number": 16
    },
    {
     "cell_type": "code",
     "collapsed": false,
     "input": [
      "M = M.subs(parameter_dict)\n",
      "M = array(M.tolist(), dtype=float)\n",
      "print(M)"
     ],
     "language": "python",
     "metadata": {},
     "outputs": [
      {
       "output_type": "stream",
       "stream": "stdout",
       "text": [
        "[[  1.      0.      0.      0.      0.      0.   ]\n",
        " [  0.      1.      0.      0.      0.      0.   ]\n",
        " [  0.      0.      1.      0.      0.      0.   ]\n",
        " [  0.      0.      0.     72.127  36.096  14.743]\n",
        " [  0.      0.      0.     36.096  19.641   8.698]\n",
        " [  0.      0.      0.     14.743   8.698   4.503]]\n"
       ]
      }
     ],
     "prompt_number": 17
    },
    {
     "cell_type": "markdown",
     "metadata": {},
     "source": [
      "Now we can use the numpy matrix multiplication function, `dot()` to compute the state $\\mathbf{A}$ and input $\\mathbf{B}$ matrices we need to create the controller."
     ]
    },
    {
     "cell_type": "code",
     "collapsed": false,
     "input": [
      "A = dot(inv(M), F_A)"
     ],
     "language": "python",
     "metadata": {},
     "outputs": [],
     "prompt_number": 18
    },
    {
     "cell_type": "code",
     "collapsed": false,
     "input": [
      "print(A)"
     ],
     "language": "python",
     "metadata": {},
     "outputs": [
      {
       "output_type": "stream",
       "stream": "stdout",
       "text": [
        "[[   0.       0.       0.       1.       0.       0.   ]\n",
        " [   0.       0.       0.       0.       1.       0.   ]\n",
        " [   0.       0.       0.       0.       0.       1.   ]\n",
        " [  18.337  -75.864    6.395    0.       0.       0.   ]\n",
        " [ -22.175  230.549  -49.01     0.       0.       0.   ]\n",
        " [   4.353 -175.393   95.29     0.       0.       0.   ]]\n"
       ]
      }
     ],
     "prompt_number": 19
    },
    {
     "cell_type": "markdown",
     "metadata": {},
     "source": [
      "**Exercise**: Create the input matrix, $\\mathbf{B}$."
     ]
    },
    {
     "cell_type": "code",
     "collapsed": false,
     "input": [
      "B = dot(inv(M), F_B)"
     ],
     "language": "python",
     "metadata": {},
     "outputs": [],
     "prompt_number": 20
    },
    {
     "cell_type": "code",
     "collapsed": false,
     "input": [
      "print(B)"
     ],
     "language": "python",
     "metadata": {},
     "outputs": [
      {
       "output_type": "stream",
       "stream": "stdout",
       "text": [
        "[[ 0.     0.     0.   ]\n",
        " [ 0.     0.     0.   ]\n",
        " [ 0.     0.     0.   ]\n",
        " [ 0.292 -0.785  0.558]\n",
        " [-0.785  2.457 -2.178]\n",
        " [ 0.558 -2.178  2.601]]\n"
       ]
      }
     ],
     "prompt_number": 21
    },
    {
     "cell_type": "heading",
     "level": 1,
     "metadata": {},
     "source": [
      "Controller Design"
     ]
    },
    {
     "cell_type": "markdown",
     "metadata": {},
     "source": [
      "Before we try to create a controller, we need to check to see if it is actually [controllable](https://en.wikipedia.org/wiki/Controlability). You can import a function from the `utils` module in this directory to check."
     ]
    },
    {
     "cell_type": "code",
     "collapsed": false,
     "input": [
      "from utils import controllable"
     ],
     "language": "python",
     "metadata": {},
     "outputs": [],
     "prompt_number": 22
    },
    {
     "cell_type": "code",
     "collapsed": false,
     "input": [
      "controllable(A, B)"
     ],
     "language": "python",
     "metadata": {},
     "outputs": [
      {
       "metadata": {},
       "output_type": "pyout",
       "prompt_number": 23,
       "text": [
        "True"
       ]
      }
     ],
     "prompt_number": 23
    },
    {
     "cell_type": "markdown",
     "metadata": {},
     "source": [
      "So yes, the system is controllable. Now we will use the [optimal control theory](https://en.wikipedia.org/wiki/Optimal_control) to create a controller that compute the necessary joint torques at each time step to balance the person.\n",
      "\n",
      "It turns out that if you setup a cost function in which you'd like to minimize the deviation from the desired state, 0, and minimize the effort (join torques), there is an elegant solution to find a matrix $\\mathbf{K}$ which can used to compute the joint torques given the current state value.\n",
      "\n",
      "Given the cost function:\n",
      "\n",
      "$$J = \\frac{1}{2} \\int_0^\\infty\\left[\\mathbf{x}^T \\mathbf{Q} \\mathbf{x} + \\mathbf{u}^T \\mathbf{R} \\mathbf{u}\\right]dt$$\n",
      "\n",
      "There is a matrix $\\mathbf{K}$ that computes the inputs $\\mathbf{u}(t)$ given the states $\\mathbf{x}$:\n",
      "\n",
      "$$\\mathbf{u}(t) = -\\mathbf{K} \\mathbf{x}(t)$$\n",
      "\n",
      "where $\\mathbf{K}$ can be found by the solution to the algebraic [Riccati Equation](https://en.wikipedia.org/wiki/Riccati_equation) such that:\n",
      "\n",
      "$$\\mathbf{K} = \\mathbf{R}^{-1} \\mathbf{B}^T \\mathbf{S}$$\n",
      "\n",
      "and the Riccati equation is:\n",
      "\n",
      "$$\\textbf{0} = -\\textbf{S}\\textbf{A}-\\textbf{A}^{\\text{T}}\\textbf{S}+\\textbf{S}\\textbf{B}\\textbf{R}^{-1}\\textbf{B}^{\\text{T}}\\textbf{S}-\\textbf{Q}$$\n",
      "\n",
      "SciPy provides a function that can compute the solution, $\\mathbf{S}$, of the continous algebraic Riccati Equation."
     ]
    },
    {
     "cell_type": "code",
     "collapsed": false,
     "input": [
      "from scipy.linalg import solve_continuous_are"
     ],
     "language": "python",
     "metadata": {},
     "outputs": [],
     "prompt_number": 24
    },
    {
     "cell_type": "markdown",
     "metadata": {},
     "source": [
      "The weighting matrices, $\\mathbf{Q}$ and $\\mathbf{R}$, allow you to control how much weight is applied to minimizing the error in the states and the effort in the inputs. A typical starting point for these matrices is to set them equal to the identity matrix, which can be created with the `eye()` function."
     ]
    },
    {
     "cell_type": "code",
     "collapsed": false,
     "input": [
      "Q = eye(6)\n",
      "Q"
     ],
     "language": "python",
     "metadata": {},
     "outputs": [
      {
       "metadata": {},
       "output_type": "pyout",
       "prompt_number": 25,
       "text": [
        "array([[ 1.,  0.,  0.,  0.,  0.,  0.],\n",
        "       [ 0.,  1.,  0.,  0.,  0.,  0.],\n",
        "       [ 0.,  0.,  1.,  0.,  0.,  0.],\n",
        "       [ 0.,  0.,  0.,  1.,  0.,  0.],\n",
        "       [ 0.,  0.,  0.,  0.,  1.,  0.],\n",
        "       [ 0.,  0.,  0.,  0.,  0.,  1.]])"
       ]
      }
     ],
     "prompt_number": 25
    },
    {
     "cell_type": "code",
     "collapsed": false,
     "input": [
      "R = eye(3)\n",
      "R"
     ],
     "language": "python",
     "metadata": {},
     "outputs": [
      {
       "metadata": {},
       "output_type": "pyout",
       "prompt_number": 26,
       "text": [
        "array([[ 1.,  0.,  0.],\n",
        "       [ 0.,  1.,  0.],\n",
        "       [ 0.,  0.,  1.]])"
       ]
      }
     ],
     "prompt_number": 26
    },
    {
     "cell_type": "markdown",
     "metadata": {},
     "source": [
      "$\\mathbf{K}$ can now be computed."
     ]
    },
    {
     "cell_type": "code",
     "collapsed": false,
     "input": [
      "S = solve_continuous_are(A, B, Q, R)\n",
      "K = dot(dot(inv(R), B.T),  S)\n",
      "K"
     ],
     "language": "python",
     "metadata": {},
     "outputs": [
      {
       "metadata": {},
       "output_type": "pyout",
       "prompt_number": 27,
       "text": [
        "array([[ 1054.367,   426.901,   153.864,   365.784,   173.577,    67.28 ],\n",
        "       [  707.669,   610.181,   251.283,   263.836,   158.583,    72.18 ],\n",
        "       [   12.129,    43.669,   132.469,    11.613,    16.447,    19.12 ]])"
       ]
      }
     ],
     "prompt_number": 27
    },
    {
     "cell_type": "markdown",
     "metadata": {},
     "source": [
      "Remember that the right hand side function we generated earlier can take a function for the specified values."
     ]
    },
    {
     "cell_type": "code",
     "collapsed": false,
     "input": [
      "help(right_hand_side)"
     ],
     "language": "python",
     "metadata": {},
     "outputs": [
      {
       "output_type": "stream",
       "stream": "stdout",
       "text": [
        "Help on function evaluate_ode in module pydy_code_gen.code:\n",
        "\n",
        "evaluate_ode(x, t, args)\n",
        "    Returns the derivatives of the states, i.e. numerically evaluates\n",
        "    the right hand side of the first order differential equation(s).\n",
        "    \n",
        "    x' = f(x, t)\n",
        "    \n",
        "    Parameters\n",
        "    ----------\n",
        "    x : ndarray, shape(6,)\n",
        "        The current state vector:\n",
        "            theta1(t), theta2(t), theta3(t), omega1(t), omega2(t), omega3(t)\n",
        "    t : float\n",
        "        The current time.\n",
        "    args : dictionary\n",
        "        constants : ndarray, shape(12,)\n",
        "            l_L, d_L, m_L, I_Lz, l_U, d_U, m_U, I_Uz, d_T, m_T, I_Tz, g\n",
        "        specified : ndarray, shape(3,) or a function\n",
        "            If this is a function it must be of the form f(x, t), where\n",
        "            x is the current state vector and t is the current time and\n",
        "            it must return an ndarray of the correct shape.\n",
        "            T_a(t), T_k(t), T_h(t)\n",
        "    \n",
        "    Returns\n",
        "    -------\n",
        "    dx : ndarray, shape(6,)\n",
        "        The derivative of the state vector.\n",
        "\n"
       ]
      }
     ],
     "prompt_number": 28
    },
    {
     "cell_type": "markdown",
     "metadata": {},
     "source": [
      "**Exercise**: Create a function named `controller` that computes the specified inputs given the current state and time."
     ]
    },
    {
     "cell_type": "code",
     "collapsed": false,
     "input": [
      "def controller(x, t):\n",
      "    \"\"\"Returns the output of the controller, i.e. the joint torques, given the current state.\"\"\"\n",
      "    return -dot(K, x)"
     ],
     "language": "python",
     "metadata": {},
     "outputs": [],
     "prompt_number": 29
    },
    {
     "cell_type": "markdown",
     "metadata": {},
     "source": [
      "Now we can integrate the equations of motion again, but this time with the controller in place."
     ]
    },
    {
     "cell_type": "code",
     "collapsed": false,
     "input": [
      "args['specified'] = controller"
     ],
     "language": "python",
     "metadata": {},
     "outputs": [],
     "prompt_number": 30
    },
    {
     "cell_type": "markdown",
     "metadata": {},
     "source": [
      "**Exercise**: Integrate the equations of motion and plot the coordinates and speeds as we did in the simulation notebook and see if the system behaves as expected."
     ]
    },
    {
     "cell_type": "code",
     "collapsed": false,
     "input": [
      "y = odeint(right_hand_side, x0, t, args=(args,))"
     ],
     "language": "python",
     "metadata": {},
     "outputs": [],
     "prompt_number": 31
    },
    {
     "cell_type": "code",
     "collapsed": false,
     "input": [
      "plot(t, rad2deg(y[:, :3]))\n",
      "xlabel('Time [s]')\n",
      "ylabel('Angle [deg]')\n",
      "legend([\"${}$\".format(vlatex(c)) for c in coordinates])"
     ],
     "language": "python",
     "metadata": {},
     "outputs": [
      {
       "metadata": {},
       "output_type": "pyout",
       "prompt_number": 32,
       "text": [
        "<matplotlib.legend.Legend at 0x5c4f090>"
       ]
      },
      {
       "metadata": {},
       "output_type": "display_data",
       "png": "[encoded data removed]",
       "text": [
        "<matplotlib.figure.Figure at 0x5c4f110>"
       ]
      }
     ],
     "prompt_number": 32
    },
    {
     "cell_type": "code",
     "collapsed": false,
     "input": [
      "plot(t, rad2deg(y[:, 3:]))\n",
      "xlabel('Time [s]')\n",
      "ylabel('Angle [deg]')\n",
      "legend([\"${}$\".format(vlatex(s)) for s in speeds])"
     ],
     "language": "python",
     "metadata": {},
     "outputs": [
      {
       "metadata": {},
       "output_type": "pyout",
       "prompt_number": 33,
       "text": [
        "<matplotlib.legend.Legend at 0x5c5d390>"
       ]
      },
      {
       "metadata": {},
       "output_type": "display_data",
       "png": "[encoded data removed]",
       "text": [
        "<matplotlib.figure.Figure at 0x5b0fd50>"
       ]
      }
     ],
     "prompt_number": 33
    },
    {
     "cell_type": "heading",
     "level": 1,
     "metadata": {},
     "source": [
      "Visualization"
     ]
    },
    {
     "cell_type": "code",
     "collapsed": false,
     "input": [
      "scene.generate_visualization_json(coordinates + speeds, constants, y, numerical_constants)"
     ],
     "language": "python",
     "metadata": {},
     "outputs": [],
     "prompt_number": 34
    },
    {
     "cell_type": "code",
     "collapsed": false,
     "input": [
      "scene.display()"
     ],
     "language": "python",
     "metadata": {},
     "outputs": [
      {
       "output_type": "stream",
       "stream": "stdout",
       "text": [
        "Your visualization is being rendered at\n",
        "                 http://localhost:8000/\n",
        "                 Visit the url in your webgl compatible browser\n",
        "                 to see the animation in full glory\n",
        "server started successfully, on port: 8000\n",
        "Server closed successfully!"
       ]
      },
      {
       "ename": "SystemExit",
       "evalue": "",
       "output_type": "pyerr",
       "traceback": [
        "An exception has occurred, use %tb to see the full traceback.\n",
        "\u001b[1;31mSystemExit\u001b[0m\n"
       ]
      },
      {
       "output_type": "stream",
       "stream": "stdout",
       "text": [
        "\n"
       ]
      },
      {
       "output_type": "stream",
       "stream": "stderr",
       "text": [
        "To exit: use 'exit', 'quit', or Ctrl-D.\n"
       ]
      }
     ],
     "prompt_number": 35
    }
   ],
   "metadata": {}
  }
 ]
}