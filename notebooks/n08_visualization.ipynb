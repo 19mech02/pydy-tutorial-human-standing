{
 "metadata": {
  "name": ""
 },
 "nbformat": 3,
 "nbformat_minor": 0,
 "worksheets": [
  {
   "cells": [
    {
     "cell_type": "heading",
     "level": 1,
     "metadata": {},
     "source": [
      "Setup"
     ]
    },
    {
     "cell_type": "code",
     "collapsed": false,
     "input": [
      "from solution.simulation import *"
     ],
     "language": "python",
     "metadata": {},
     "outputs": [],
     "prompt_number": 1
    },
    {
     "cell_type": "code",
     "collapsed": false,
     "input": [
      "from pydy_viz.shapes import Cylinder, Sphere\n",
      "from pydy_viz.visualization_frame import VisualizationFrame\n",
      "from pydy_viz.scene import Scene"
     ],
     "language": "python",
     "metadata": {},
     "outputs": [],
     "prompt_number": 2
    },
    {
     "cell_type": "heading",
     "level": 1,
     "metadata": {},
     "source": [
      "Visualization"
     ]
    },
    {
     "cell_type": "markdown",
     "metadata": {},
     "source": [
      "First we need to create shapes to associate with rigid body. We will start by creating a sphere to represent each joint."
     ]
    },
    {
     "cell_type": "code",
     "collapsed": false,
     "input": [
      "ankle_shape = Sphere(color='blue', radius=0.1)\n",
      "knee_shape = Sphere(color='red', radius=0.1)\n",
      "hip_shape = Sphere(color='green', radius=0.1)\n",
      "torso_com_shape = Sphere(color='orange', radius=0.1)"
     ],
     "language": "python",
     "metadata": {},
     "outputs": [],
     "prompt_number": 3
    },
    {
     "cell_type": "markdown",
     "metadata": {},
     "source": [
      "Now create a visualization frame that attachs the spheres to the reference frames and points that we previously defined."
     ]
    },
    {
     "cell_type": "code",
     "collapsed": false,
     "input": [
      "ankle_viz_frame = VisualizationFrame(inertial_frame, ankle, ankle_shape)\n",
      "knee_viz_frame = VisualizationFrame(inertial_frame, knee, knee_shape)\n",
      "hip_viz_frame = VisualizationFrame(inertial_frame, hip, hip_shape)\n",
      "torso_com_viz_frame = VisualizationFrame(inertial_frame, torso_mass_center, torso_com_shape)"
     ],
     "language": "python",
     "metadata": {},
     "outputs": [],
     "prompt_number": 4
    },
    {
     "cell_type": "markdown",
     "metadata": {},
     "source": [
      "Now create some cylinders to attach to the three rigid bodies."
     ]
    },
    {
     "cell_type": "code",
     "collapsed": false,
     "input": [
      "constants_dict = dict(zip(constants, numerical_constants))\n",
      "constants_dict"
     ],
     "language": "python",
     "metadata": {},
     "outputs": [
      {
       "metadata": {},
       "output_type": "pyout",
       "prompt_number": 5,
       "text": [
        "{l_U: 0.42399999999999999,\n",
        " d_T: 0.30499999999999999,\n",
        " m_L: 6.7690000000000001,\n",
        " d_U: 0.193,\n",
        " I_Tz: 1.4850000000000001,\n",
        " d_L: 0.38700000000000001,\n",
        " l_L: 0.61099999999999999,\n",
        " m_T: 32.439999999999998,\n",
        " m_U: 17.010000000000002,\n",
        " I_Lz: 0.10100000000000001,\n",
        " g: 9.8100000000000005,\n",
        " I_Uz: 0.28199999999999997}"
       ]
      }
     ],
     "prompt_number": 5
    },
    {
     "cell_type": "code",
     "collapsed": false,
     "input": [
      "lower_leg_center = Point('l_c')\n",
      "upper_leg_center = Point('u_c')\n",
      "torso_center = Point('t_c')"
     ],
     "language": "python",
     "metadata": {},
     "outputs": [],
     "prompt_number": 6
    },
    {
     "cell_type": "code",
     "collapsed": false,
     "input": [
      "lower_leg_center.set_pos(ankle, lower_leg_length / 2 * lower_leg_frame.y)\n",
      "upper_leg_center.set_pos(knee, upper_leg_length / 2 * upper_leg_frame.y)\n",
      "torso_center.set_pos(hip, torso_com_length / 2 * torso_frame.y)"
     ],
     "language": "python",
     "metadata": {},
     "outputs": [],
     "prompt_number": 7
    },
    {
     "cell_type": "code",
     "collapsed": false,
     "input": [
      "lower_leg_shape = Cylinder('Lower Leg Cylinder', radius=0.08,\n",
      "                      length=constants_dict[lower_leg_length], color='blue')\n",
      "\n",
      "lower_leg_viz_frame = VisualizationFrame('Lower Leg', lower_leg_frame, lower_leg_center, lower_leg_shape)"
     ],
     "language": "python",
     "metadata": {},
     "outputs": [],
     "prompt_number": 8
    },
    {
     "cell_type": "code",
     "collapsed": false,
     "input": [
      "upper_leg_shape = Cylinder('Upper Leg Cylinder', radius=0.08,\n",
      "                      length=constants_dict[upper_leg_length], color='red')\n",
      "\n",
      "upper_leg_viz_frame = VisualizationFrame('Upper Leg', upper_leg_frame, upper_leg_center, upper_leg_shape)"
     ],
     "language": "python",
     "metadata": {},
     "outputs": [],
     "prompt_number": 9
    },
    {
     "cell_type": "code",
     "collapsed": false,
     "input": [
      "torso_shape = Cylinder('Torso Cylinder', radius=0.08,\n",
      "                      length=constants_dict[torso_com_length], color='green')\n",
      "\n",
      "torso_viz_frame = VisualizationFrame('Torso', torso_frame, torso_center, torso_shape)"
     ],
     "language": "python",
     "metadata": {},
     "outputs": [],
     "prompt_number": 10
    },
    {
     "cell_type": "markdown",
     "metadata": {},
     "source": [
      "Now we create a scene that sets the inertial reference frame as the base frame of the scene with the ankle point as the origin. We then list all of the frames that we'd like to visualize."
     ]
    },
    {
     "cell_type": "code",
     "collapsed": false,
     "input": [
      "scene = Scene(inertial_frame, ankle,\n",
      "              ankle_viz_frame, knee_viz_frame, hip_viz_frame, torso_com_viz_frame,\n",
      "              lower_leg_viz_frame, upper_leg_viz_frame, torso_viz_frame)"
     ],
     "language": "python",
     "metadata": {},
     "outputs": [],
     "prompt_number": 11
    },
    {
     "cell_type": "markdown",
     "metadata": {},
     "source": [
      "We provide the scene with the symbolic lists of the states and the constants, along with the numerical values of each."
     ]
    },
    {
     "cell_type": "code",
     "collapsed": false,
     "input": [
      "scene.generate_visualization_json(coordinates + speeds, constants, y, numerical_constants)"
     ],
     "language": "python",
     "metadata": {},
     "outputs": [],
     "prompt_number": 12
    },
    {
     "cell_type": "markdown",
     "metadata": {},
     "source": [
      "The following method will run a webserver at http://localhost:8000 (unless already taken then 8001, 8002, and so on until a free port is avaiable). It is blocking and you can press the stop (interrupt) button to halt it (there is a confirmation prompt after pressing interrupt)."
     ]
    },
    {
     "cell_type": "code",
     "collapsed": false,
     "input": [
      "scene.display()"
     ],
     "language": "python",
     "metadata": {},
     "outputs": [
      {
       "output_type": "stream",
       "stream": "stdout",
       "text": [
        "Your visualization is being rendered at\n",
        "                 http://localhost:8000/\n",
        "                 Visit the url in your webgl compatible browser\n",
        "                 to see the animation in full glory\n",
        "server started successfully, on port: 8000\n",
        "Server closed successfully!"
       ]
      },
      {
       "ename": "SystemExit",
       "evalue": "",
       "output_type": "pyerr",
       "traceback": [
        "An exception has occurred, use %tb to see the full traceback.\n",
        "\u001b[1;31mSystemExit\u001b[0m\n"
       ]
      },
      {
       "output_type": "stream",
       "stream": "stdout",
       "text": [
        "\n"
       ]
      },
      {
       "output_type": "stream",
       "stream": "stderr",
       "text": [
        "To exit: use 'exit', 'quit', or Ctrl-D.\n"
       ]
      }
     ],
     "prompt_number": 13
    }
   ],
   "metadata": {}
  }
 ]
}