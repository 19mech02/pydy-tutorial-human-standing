{
 "metadata": {
  "name": ""
 },
 "nbformat": 3,
 "nbformat_minor": 0,
 "worksheets": [
  {
   "cells": [
    {
     "cell_type": "heading",
     "level": 1,
     "metadata": {},
     "source": [
      "Setup"
     ]
    },
    {
     "cell_type": "code",
     "collapsed": false,
     "input": [
      "from solution.simulation import *"
     ],
     "language": "python",
     "metadata": {},
     "outputs": []
    },
    {
     "cell_type": "markdown",
     "metadata": {},
     "source": [
      "We are going to import the shapes we are going to use in our visualization."
     ]
    },
    {
     "cell_type": "code",
     "collapsed": false,
     "input": [
      "from pydy_viz.shapes import Cylinder, Sphere"
     ],
     "language": "python",
     "metadata": {},
     "outputs": []
    },
    {
     "cell_type": "markdown",
     "metadata": {},
     "source": [
      "Importing other methods from the package!"
     ]
    },
    {
     "cell_type": "code",
     "collapsed": false,
     "input": [
      "from pydy_viz.visualization_frame import VisualizationFrame\n",
      "from pydy_viz.scene import Scene"
     ],
     "language": "python",
     "metadata": {},
     "outputs": []
    },
    {
     "cell_type": "heading",
     "level": 1,
     "metadata": {},
     "source": [
      "Visualization"
     ]
    },
    {
     "cell_type": "markdown",
     "metadata": {},
     "source": [
      "First we need to create shapes to associate with rigid body. We will start by creating a sphere to represent each joint."
     ]
    },
    {
     "cell_type": "code",
     "collapsed": false,
     "input": [
      "ankle_shape = Sphere(color='black', radius=0.1)\n",
      "knee_shape = Sphere(color='black', radius=0.1)\n",
      "hip_shape = Sphere(color='black', radius=0.1)\n",
      "torso_com_shape = Sphere(color='black', radius=0.1)"
     ],
     "language": "python",
     "metadata": {},
     "outputs": []
    },
    {
     "cell_type": "markdown",
     "metadata": {},
     "source": [
      "Now create a visualization frame each for all the shapes. A VisualizationFrame object attaches reference frame and origin information to the shapes. It eases in establishing relative positioning and orientation of the shape(with respect to inertial frame)."
     ]
    },
    {
     "cell_type": "code",
     "collapsed": false,
     "input": [
      "ankle_viz_frame = VisualizationFrame(inertial_frame, ankle, ankle_shape)\n",
      "knee_viz_frame = VisualizationFrame(inertial_frame, knee, knee_shape)\n",
      "hip_viz_frame = VisualizationFrame(inertial_frame, hip, hip_shape)\n",
      "torso_com_viz_frame = VisualizationFrame(inertial_frame, torso_mass_center, torso_com_shape)"
     ],
     "language": "python",
     "metadata": {},
     "outputs": []
    },
    {
     "cell_type": "code",
     "collapsed": false,
     "input": [
      "constants_dict = dict(zip(constants, numerical_constants))\n",
      "constants_dict"
     ],
     "language": "python",
     "metadata": {},
     "outputs": []
    },
    {
     "cell_type": "code",
     "collapsed": false,
     "input": [
      "lower_leg_center = Point('l_c')\n",
      "upper_leg_center = Point('u_c')\n",
      "torso_center = Point('t_c')"
     ],
     "language": "python",
     "metadata": {},
     "outputs": []
    },
    {
     "cell_type": "code",
     "collapsed": false,
     "input": [
      "lower_leg_center.set_pos(ankle, lower_leg_length / 2 * lower_leg_frame.y)\n",
      "upper_leg_center.set_pos(knee, upper_leg_length / 2 * upper_leg_frame.y)\n",
      "torso_center.set_pos(hip, torso_com_length / 2 * torso_frame.y)"
     ],
     "language": "python",
     "metadata": {},
     "outputs": []
    },
    {
     "cell_type": "markdown",
     "metadata": {},
     "source": [
      "Now create some cylinders to attach to the three rigid bodies."
     ]
    },
    {
     "cell_type": "code",
     "collapsed": false,
     "input": [
      "lower_leg_shape = Cylinder('Lower Leg Cylinder', radius=0.08,\n",
      "                      length=constants_dict[lower_leg_length], color='blue')\n",
      "\n",
      "lower_leg_viz_frame = VisualizationFrame('Lower Leg', lower_leg_frame, lower_leg_center, lower_leg_shape)"
     ],
     "language": "python",
     "metadata": {},
     "outputs": []
    },
    {
     "cell_type": "code",
     "collapsed": false,
     "input": [
      "upper_leg_shape = Cylinder('Upper Leg Cylinder', radius=0.08,\n",
      "                      length=constants_dict[upper_leg_length], color='green')\n",
      "\n",
      "upper_leg_viz_frame = VisualizationFrame('Upper Leg', upper_leg_frame, upper_leg_center, upper_leg_shape)"
     ],
     "language": "python",
     "metadata": {},
     "outputs": []
    },
    {
     "cell_type": "code",
     "collapsed": false,
     "input": [
      "torso_shape = Cylinder('Torso Cylinder', radius=0.08,\n",
      "                      length=constants_dict[torso_com_length], color='red')\n",
      "\n",
      "torso_viz_frame = VisualizationFrame('Torso', torso_frame, torso_center, torso_shape)"
     ],
     "language": "python",
     "metadata": {},
     "outputs": []
    },
    {
     "cell_type": "markdown",
     "metadata": {},
     "source": [
      "Now we create a scene that sets the inertial frame as the base frame and the ankle point as the origin of the scene."
     ]
    },
    {
     "cell_type": "code",
     "collapsed": false,
     "input": [
      "scene = Scene(inertial_frame, ankle)"
     ],
     "language": "python",
     "metadata": {},
     "outputs": []
    },
    {
     "cell_type": "markdown",
     "metadata": {},
     "source": [
      "Now we append the frames we wish to visualize in the scene object, as a list."
     ]
    },
    {
     "cell_type": "code",
     "collapsed": false,
     "input": [
      "scene.visualization_frames = [ankle_viz_frame, knee_viz_frame, hip_viz_frame, torso_com_viz_frame,\n",
      "              lower_leg_viz_frame, upper_leg_viz_frame, torso_viz_frame]"
     ],
     "language": "python",
     "metadata": {},
     "outputs": []
    },
    {
     "cell_type": "markdown",
     "metadata": {},
     "source": [
      "We provide the scene with the symbolic lists of the states and the constants, along with the numerical values of each.\n",
      "The following method takes all the states and constants and generates a json object compatible with the pydy-viz frontend (PyDy-Visualizer)."
     ]
    },
    {
     "cell_type": "code",
     "collapsed": false,
     "input": [
      "scene.generate_visualization_json(coordinates + speeds, constants, y, numerical_constants)"
     ],
     "language": "python",
     "metadata": {},
     "outputs": []
    },
    {
     "cell_type": "markdown",
     "metadata": {},
     "source": [
      "The following method will run a webserver at http://localhost:8000 (unless already taken then 8001, 8002, and so on until a free port is avaiable). It also opens the visualization in the new tab. webserver can be closed by hitting the \"Shutdown Server\" button in PyDy-Visualizer(frontend)."
     ]
    },
    {
     "cell_type": "code",
     "collapsed": false,
     "input": [
      "scene.display()"
     ],
     "language": "python",
     "metadata": {},
     "outputs": []
    }
   ],
   "metadata": {}
  }
 ]
}