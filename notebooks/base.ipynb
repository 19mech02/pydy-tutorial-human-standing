{
 "metadata": {
  "name": ""
 },
 "nbformat": 3,
 "nbformat_minor": 0,
 "worksheets": [
  {
   "cells": [
    {
     "cell_type": "heading",
     "level": 1,
     "metadata": {},
     "source": [
      "Setup"
     ]
    },
    {
     "cell_type": "code",
     "collapsed": false,
     "input": [
      "from sympy import *\n",
      "from sympy.physics.mechanics import *  # would be nice to do from pydy.mechanics import *"
     ],
     "language": "python",
     "metadata": {},
     "outputs": [],
     "prompt_number": 1
    },
    {
     "cell_type": "code",
     "collapsed": false,
     "input": [
      "init_printing()"
     ],
     "language": "python",
     "metadata": {},
     "outputs": [],
     "prompt_number": 2
    },
    {
     "cell_type": "heading",
     "level": 1,
     "metadata": {},
     "source": [
      "Orientation"
     ]
    },
    {
     "cell_type": "code",
     "collapsed": false,
     "input": [
      "theta1, theta2, theta3 = dynamicsymbols('theta1, theta2, theta3')"
     ],
     "language": "python",
     "metadata": {},
     "outputs": [],
     "prompt_number": 3
    },
    {
     "cell_type": "code",
     "collapsed": false,
     "input": [
      "inertial_frame = ReferenceFrame('I')"
     ],
     "language": "python",
     "metadata": {},
     "outputs": [],
     "prompt_number": 4
    },
    {
     "cell_type": "code",
     "collapsed": false,
     "input": [
      "lower_leg_frame = ReferenceFrame('L')"
     ],
     "language": "python",
     "metadata": {},
     "outputs": [],
     "prompt_number": 5
    },
    {
     "cell_type": "code",
     "collapsed": false,
     "input": [
      "lower_leg_frame.orient(inertial_frame, 'Axis', (theta1, inertial_frame.z))"
     ],
     "language": "python",
     "metadata": {},
     "outputs": [],
     "prompt_number": 6
    },
    {
     "cell_type": "code",
     "collapsed": false,
     "input": [
      "lower_leg_frame.dcm(inertial_frame)"
     ],
     "language": "python",
     "metadata": {},
     "outputs": [
      {
       "latex": [
        "$$\\left[\\begin{matrix}\\cos{\\left (\\operatorname{theta1}{\\left (t \\right )} \\right )} & \\sin{\\left (\\operatorname{theta1}{\\left (t \\right )} \\right )} & 0\\\\- \\sin{\\left (\\operatorname{theta1}{\\left (t \\right )} \\right )} & \\cos{\\left (\\operatorname{theta1}{\\left (t \\right )} \\right )} & 0\\\\0 & 0 & 1\\end{matrix}\\right]$$"
       ],
       "metadata": {},
       "output_type": "pyout",
       "png": "[encoded data removed]",
       "prompt_number": 7,
       "text": [
        "\u23a1cos(\u03b8\u2081(t))   sin(\u03b8\u2081(t))  0\u23a4\n",
        "\u23a2                          \u23a5\n",
        "\u23a2-sin(\u03b8\u2081(t))  cos(\u03b8\u2081(t))  0\u23a5\n",
        "\u23a2                          \u23a5\n",
        "\u23a3     0           0       1\u23a6"
       ]
      }
     ],
     "prompt_number": 7
    },
    {
     "cell_type": "code",
     "collapsed": false,
     "input": [
      "upper_leg_frame = ReferenceFrame('U')"
     ],
     "language": "python",
     "metadata": {},
     "outputs": [],
     "prompt_number": 8
    },
    {
     "cell_type": "code",
     "collapsed": false,
     "input": [
      "upper_leg_frame.orient(lower_leg_frame, 'Axis', (theta2, lower_leg_frame.z))\n",
      "simplify(upper_leg_frame.dcm(inertial_frame))"
     ],
     "language": "python",
     "metadata": {},
     "outputs": [
      {
       "latex": [
        "$$\\left[\\begin{matrix}\\cos{\\left (\\operatorname{theta1}{\\left (t \\right )} + \\operatorname{theta2}{\\left (t \\right )} \\right )} & \\sin{\\left (\\operatorname{theta1}{\\left (t \\right )} + \\operatorname{theta2}{\\left (t \\right )} \\right )} & 0\\\\- \\sin{\\left (\\operatorname{theta1}{\\left (t \\right )} + \\operatorname{theta2}{\\left (t \\right )} \\right )} & \\cos{\\left (\\operatorname{theta1}{\\left (t \\right )} + \\operatorname{theta2}{\\left (t \\right )} \\right )} & 0\\\\0 & 0 & 1\\end{matrix}\\right]$$"
       ],
       "metadata": {},
       "output_type": "pyout",
       "png": "[encoded data removed]",
       "prompt_number": 9,
       "text": [
        "\u23a1cos(\u03b8\u2081(t) + \u03b8\u2082(t))   sin(\u03b8\u2081(t) + \u03b8\u2082(t))  0\u23a4\n",
        "\u23a2                                          \u23a5\n",
        "\u23a2-sin(\u03b8\u2081(t) + \u03b8\u2082(t))  cos(\u03b8\u2081(t) + \u03b8\u2082(t))  0\u23a5\n",
        "\u23a2                                          \u23a5\n",
        "\u23a3         0                   0           1\u23a6"
       ]
      }
     ],
     "prompt_number": 9
    },
    {
     "cell_type": "code",
     "collapsed": false,
     "input": [
      "torso_frame = ReferenceFrame('T')"
     ],
     "language": "python",
     "metadata": {},
     "outputs": [],
     "prompt_number": 10
    },
    {
     "cell_type": "code",
     "collapsed": false,
     "input": [
      "torso_frame.orient(upper_leg_frame, 'Axis', (theta3, upper_leg_frame.z))\n",
      "simplify(torso_frame.dcm(inertial_frame))"
     ],
     "language": "python",
     "metadata": {},
     "outputs": [
      {
       "latex": [
        "$$\\left[\\begin{matrix}\\cos{\\left (\\operatorname{theta1}{\\left (t \\right )} + \\operatorname{theta2}{\\left (t \\right )} + \\operatorname{theta3}{\\left (t \\right )} \\right )} & \\sin{\\left (\\operatorname{theta1}{\\left (t \\right )} + \\operatorname{theta2}{\\left (t \\right )} + \\operatorname{theta3}{\\left (t \\right )} \\right )} & 0\\\\- \\sin{\\left (\\operatorname{theta1}{\\left (t \\right )} + \\operatorname{theta2}{\\left (t \\right )} + \\operatorname{theta3}{\\left (t \\right )} \\right )} & \\cos{\\left (\\operatorname{theta1}{\\left (t \\right )} + \\operatorname{theta2}{\\left (t \\right )} + \\operatorname{theta3}{\\left (t \\right )} \\right )} & 0\\\\0 & 0 & 1\\end{matrix}\\right]$$"
       ],
       "metadata": {},
       "output_type": "pyout",
       "png": "[encoded data removed]",
       "prompt_number": 11,
       "text": [
        "\u23a1cos(\u03b8\u2081(t) + \u03b8\u2082(t) + \u03b8\u2083(t))   sin(\u03b8\u2081(t) + \u03b8\u2082(t) + \u03b8\u2083(t))  0\u23a4\n",
        "\u23a2                                                          \u23a5\n",
        "\u23a2-sin(\u03b8\u2081(t) + \u03b8\u2082(t) + \u03b8\u2083(t))  cos(\u03b8\u2081(t) + \u03b8\u2082(t) + \u03b8\u2083(t))  0\u23a5\n",
        "\u23a2                                                          \u23a5\n",
        "\u23a3             0                           0               1\u23a6"
       ]
      }
     ],
     "prompt_number": 11
    },
    {
     "cell_type": "heading",
     "level": 1,
     "metadata": {},
     "source": [
      "Point Locations"
     ]
    },
    {
     "cell_type": "heading",
     "level": 2,
     "metadata": {},
     "source": [
      "Joints"
     ]
    },
    {
     "cell_type": "code",
     "collapsed": false,
     "input": [
      "lower_leg_length, upper_leg_length = symbols('l_L, l_U')"
     ],
     "language": "python",
     "metadata": {},
     "outputs": [],
     "prompt_number": 12
    },
    {
     "cell_type": "code",
     "collapsed": false,
     "input": [
      "ankle = Point('A')"
     ],
     "language": "python",
     "metadata": {},
     "outputs": [],
     "prompt_number": 13
    },
    {
     "cell_type": "code",
     "collapsed": false,
     "input": [
      "knee = Point('K')\n",
      "knee.set_pos(ankle, lower_leg_length * lower_leg_frame.y)\n",
      "knee.pos_from(ankle)"
     ],
     "language": "python",
     "metadata": {},
     "outputs": [
      {
       "latex": [
        "$$l_{L}\\mathbf{\\hat{l}_y}$$"
       ],
       "metadata": {},
       "output_type": "pyout",
       "png": "[encoded data removed]",
       "prompt_number": 14,
       "text": [
        "l_L*\u001b[94m\u001b[1ml_y\u001b[0;0m\u001b[0;0m"
       ]
      }
     ],
     "prompt_number": 14
    },
    {
     "cell_type": "code",
     "collapsed": false,
     "input": [
      "hip = Point('H')\n",
      "hip.set_pos(knee, upper_leg_length * upper_leg_frame.y)\n",
      "hip.pos_from(ankle)"
     ],
     "language": "python",
     "metadata": {},
     "outputs": [
      {
       "latex": [
        "$$l_{U}\\mathbf{\\hat{u}_y} + l_{L}\\mathbf{\\hat{l}_y}$$"
       ],
       "metadata": {},
       "output_type": "pyout",
       "png": "[encoded data removed]",
       "prompt_number": 15,
       "text": [
        "l_U*\u001b[94m\u001b[1mu_y\u001b[0;0m\u001b[0;0m + l_L*\u001b[94m\u001b[1ml_y\u001b[0;0m\u001b[0;0m"
       ]
      }
     ],
     "prompt_number": 15
    },
    {
     "cell_type": "heading",
     "level": 2,
     "metadata": {},
     "source": [
      "Center of mass locations"
     ]
    },
    {
     "cell_type": "code",
     "collapsed": false,
     "input": [
      "lower_leg_com_length, upper_leg_com_length, torso_com_length = symbols('d_L, d_U, d_T')"
     ],
     "language": "python",
     "metadata": {},
     "outputs": [],
     "prompt_number": 16
    },
    {
     "cell_type": "code",
     "collapsed": false,
     "input": [
      "lower_leg_mass_center = Point('L_o')\n",
      "lower_leg_mass_center.set_pos(ankle, lower_leg_com_length * lower_leg_frame.y)\n",
      "lower_leg_mass_center.pos_from(ankle)"
     ],
     "language": "python",
     "metadata": {},
     "outputs": [
      {
       "latex": [
        "$$d_{L}\\mathbf{\\hat{l}_y}$$"
       ],
       "metadata": {},
       "output_type": "pyout",
       "png": "[encoded data removed]",
       "prompt_number": 17,
       "text": [
        "d_L*\u001b[94m\u001b[1ml_y\u001b[0;0m\u001b[0;0m"
       ]
      }
     ],
     "prompt_number": 17
    },
    {
     "cell_type": "code",
     "collapsed": false,
     "input": [
      "upper_leg_mass_center = Point('U_o')\n",
      "upper_leg_mass_center.set_pos(knee, upper_leg_com_length * upper_leg_frame.y)\n",
      "upper_leg_mass_center.pos_from(ankle)"
     ],
     "language": "python",
     "metadata": {},
     "outputs": [
      {
       "latex": [
        "$$d_{U}\\mathbf{\\hat{u}_y} + l_{L}\\mathbf{\\hat{l}_y}$$"
       ],
       "metadata": {},
       "output_type": "pyout",
       "png": "[encoded data removed]",
       "prompt_number": 18,
       "text": [
        "d_U*\u001b[94m\u001b[1mu_y\u001b[0;0m\u001b[0;0m + l_L*\u001b[94m\u001b[1ml_y\u001b[0;0m\u001b[0;0m"
       ]
      }
     ],
     "prompt_number": 18
    },
    {
     "cell_type": "code",
     "collapsed": false,
     "input": [
      "torso_mass_center = Point('T_o')\n",
      "torso_mass_center.set_pos(hip, torso_com_length * torso_frame.y)\n",
      "torso_mass_center.pos_from(ankle)"
     ],
     "language": "python",
     "metadata": {},
     "outputs": [
      {
       "latex": [
        "$$d_{T}\\mathbf{\\hat{t}_y} + l_{U}\\mathbf{\\hat{u}_y} + l_{L}\\mathbf{\\hat{l}_y}$$"
       ],
       "metadata": {},
       "output_type": "pyout",
       "png": "[encoded data removed]",
       "prompt_number": 19,
       "text": [
        "d_T*\u001b[94m\u001b[1mt_y\u001b[0;0m\u001b[0;0m + l_U*\u001b[94m\u001b[1mu_y\u001b[0;0m\u001b[0;0m + l_L*\u001b[94m\u001b[1ml_y\u001b[0;0m\u001b[0;0m"
       ]
      }
     ],
     "prompt_number": 19
    },
    {
     "cell_type": "heading",
     "level": 1,
     "metadata": {},
     "source": [
      "Kinematical Differential Equations"
     ]
    },
    {
     "cell_type": "code",
     "collapsed": false,
     "input": [
      "t = symbols('t')"
     ],
     "language": "python",
     "metadata": {},
     "outputs": [],
     "prompt_number": 20
    },
    {
     "cell_type": "code",
     "collapsed": false,
     "input": [
      "omega1, omega2, omega3 = dynamicsymbols('omega1, omega2, omega3')"
     ],
     "language": "python",
     "metadata": {},
     "outputs": [],
     "prompt_number": 21
    },
    {
     "cell_type": "code",
     "collapsed": false,
     "input": [
      "kinematical_differential_equations = [omega1 - theta1.diff(t),\n",
      "                                      omega2 - theta2.diff(t),\n",
      "                                      omega3 - theta3.diff(t)]\n",
      "kinematical_differential_equations"
     ],
     "language": "python",
     "metadata": {},
     "outputs": [
      {
       "latex": [
        "$$\\begin{bmatrix}\\operatorname{omega1}{\\left (t \\right )} - \\frac{d}{d t} \\operatorname{theta1}{\\left (t \\right )}, & \\operatorname{omega2}{\\left (t \\right )} - \\frac{d}{d t} \\operatorname{theta2}{\\left (t \\right )}, & \\operatorname{omega3}{\\left (t \\right )} - \\frac{d}{d t} \\operatorname{theta3}{\\left (t \\right )}\\end{bmatrix}$$"
       ],
       "metadata": {},
       "output_type": "pyout",
       "png": "[encoded data removed]",
       "prompt_number": 22,
       "text": [
        "\u23a1        d                  d                  d        \u23a4\n",
        "\u23a2\u03c9\u2081(t) - \u2500\u2500(\u03b8\u2081(t)), \u03c9\u2082(t) - \u2500\u2500(\u03b8\u2082(t)), \u03c9\u2083(t) - \u2500\u2500(\u03b8\u2083(t))\u23a5\n",
        "\u23a3        dt                 dt                 dt       \u23a6"
       ]
      }
     ],
     "prompt_number": 22
    },
    {
     "cell_type": "heading",
     "level": 1,
     "metadata": {},
     "source": [
      "Angular Velocities"
     ]
    },
    {
     "cell_type": "code",
     "collapsed": false,
     "input": [
      "lower_leg_frame.set_ang_vel(inertial_frame, omega1 * inertial_frame.z)\n",
      "lower_leg_frame.ang_vel_in(inertial_frame)"
     ],
     "language": "python",
     "metadata": {},
     "outputs": [
      {
       "latex": [
        "$$\\omega_{1}\\mathbf{\\hat{i}_z}$$"
       ],
       "metadata": {},
       "output_type": "pyout",
       "png": "[encoded data removed]",
       "prompt_number": 23,
       "text": [
        "\u03c9\u2081*\u001b[94m\u001b[1mi_z\u001b[0;0m\u001b[0;0m"
       ]
      }
     ],
     "prompt_number": 23
    },
    {
     "cell_type": "code",
     "collapsed": false,
     "input": [
      "upper_leg_frame.set_ang_vel(lower_leg_frame, omega2 * lower_leg_frame.z)\n",
      "upper_leg_frame.ang_vel_in(inertial_frame)"
     ],
     "language": "python",
     "metadata": {},
     "outputs": [
      {
       "latex": [
        "$$\\omega_{2}\\mathbf{\\hat{l}_z} + \\omega_{1}\\mathbf{\\hat{i}_z}$$"
       ],
       "metadata": {},
       "output_type": "pyout",
       "png": "[encoded data removed]",
       "prompt_number": 24,
       "text": [
        "\u03c9\u2082*\u001b[94m\u001b[1ml_z\u001b[0;0m\u001b[0;0m + \u03c9\u2081*\u001b[94m\u001b[1mi_z\u001b[0;0m\u001b[0;0m"
       ]
      }
     ],
     "prompt_number": 24
    },
    {
     "cell_type": "code",
     "collapsed": false,
     "input": [
      "torso_frame.set_ang_vel(upper_leg_frame, omega3 * upper_leg_frame.z)\n",
      "torso_frame.ang_vel_in(inertial_frame)"
     ],
     "language": "python",
     "metadata": {},
     "outputs": [
      {
       "latex": [
        "$$\\omega_{3}\\mathbf{\\hat{u}_z} + \\omega_{2}\\mathbf{\\hat{l}_z} + \\omega_{1}\\mathbf{\\hat{i}_z}$$"
       ],
       "metadata": {},
       "output_type": "pyout",
       "png": "[encoded data removed]",
       "prompt_number": 25,
       "text": [
        "\u03c9\u2083*\u001b[94m\u001b[1mu_z\u001b[0;0m\u001b[0;0m + \u03c9\u2082*\u001b[94m\u001b[1ml_z\u001b[0;0m\u001b[0;0m + \u03c9\u2081*\u001b[94m\u001b[1mi_z\u001b[0;0m\u001b[0;0m"
       ]
      }
     ],
     "prompt_number": 25
    },
    {
     "cell_type": "heading",
     "level": 1,
     "metadata": {},
     "source": [
      "Linear Velocities"
     ]
    },
    {
     "cell_type": "code",
     "collapsed": false,
     "input": [
      "ankle.set_vel(inertial_frame, 0)"
     ],
     "language": "python",
     "metadata": {},
     "outputs": [],
     "prompt_number": 26
    },
    {
     "cell_type": "code",
     "collapsed": false,
     "input": [
      "lower_leg_mass_center.v2pt_theory(ankle, inertial_frame, lower_leg_frame)\n",
      "lower_leg_mass_center.vel(inertial_frame)"
     ],
     "language": "python",
     "metadata": {},
     "outputs": [
      {
       "latex": [
        "$$-  d_{L} \\omega_{1}\\mathbf{\\hat{l}_x}$$"
       ],
       "metadata": {},
       "output_type": "pyout",
       "png": "[encoded data removed]",
       "prompt_number": 27,
       "text": [
        "- d_L\u22c5\u03c9\u2081*\u001b[94m\u001b[1ml_x\u001b[0;0m\u001b[0;0m"
       ]
      }
     ],
     "prompt_number": 27
    },
    {
     "cell_type": "code",
     "collapsed": false,
     "input": [
      "knee.v2pt_theory(ankle, inertial_frame, lower_leg_frame)\n",
      "knee.vel(inertial_frame)"
     ],
     "language": "python",
     "metadata": {},
     "outputs": [
      {
       "latex": [
        "$$-  l_{L} \\omega_{1}\\mathbf{\\hat{l}_x}$$"
       ],
       "metadata": {},
       "output_type": "pyout",
       "png": "[encoded data removed]",
       "prompt_number": 28,
       "text": [
        "- l_L\u22c5\u03c9\u2081*\u001b[94m\u001b[1ml_x\u001b[0;0m\u001b[0;0m"
       ]
      }
     ],
     "prompt_number": 28
    },
    {
     "cell_type": "code",
     "collapsed": false,
     "input": [
      "upper_leg_mass_center.v2pt_theory(knee, inertial_frame, upper_leg_frame)\n",
      "upper_leg_mass_center.vel(inertial_frame)"
     ],
     "language": "python",
     "metadata": {},
     "outputs": [
      {
       "latex": [
        "$$-  l_{L} \\omega_{1}\\mathbf{\\hat{l}_x} -  d_{U} \\left(\\omega_{1} + \\omega_{2}\\right)\\mathbf{\\hat{u}_x}$$"
       ],
       "metadata": {},
       "output_type": "pyout",
       "png": "[encoded data removed]",
       "prompt_number": 29,
       "text": [
        "- l_L\u22c5\u03c9\u2081*\u001b[94m\u001b[1ml_x\u001b[0;0m\u001b[0;0m - d_U\u22c5(\u03c9\u2081 + \u03c9\u2082)*\u001b[94m\u001b[1mu_x\u001b[0;0m\u001b[0;0m"
       ]
      }
     ],
     "prompt_number": 29
    },
    {
     "cell_type": "code",
     "collapsed": false,
     "input": [
      "hip.v2pt_theory(knee, inertial_frame, upper_leg_frame)\n",
      "hip.vel(inertial_frame)"
     ],
     "language": "python",
     "metadata": {},
     "outputs": [
      {
       "latex": [
        "$$-  l_{L} \\omega_{1}\\mathbf{\\hat{l}_x} -  l_{U} \\left(\\omega_{1} + \\omega_{2}\\right)\\mathbf{\\hat{u}_x}$$"
       ],
       "metadata": {},
       "output_type": "pyout",
       "png": "[encoded data removed]",
       "prompt_number": 30,
       "text": [
        "- l_L\u22c5\u03c9\u2081*\u001b[94m\u001b[1ml_x\u001b[0;0m\u001b[0;0m - l_U\u22c5(\u03c9\u2081 + \u03c9\u2082)*\u001b[94m\u001b[1mu_x\u001b[0;0m\u001b[0;0m"
       ]
      }
     ],
     "prompt_number": 30
    },
    {
     "cell_type": "code",
     "collapsed": false,
     "input": [
      "torso_mass_center.v2pt_theory(hip, inertial_frame, torso_frame)\n",
      "torso_mass_center.vel(inertial_frame)"
     ],
     "language": "python",
     "metadata": {},
     "outputs": [
      {
       "latex": [
        "$$-  l_{L} \\omega_{1}\\mathbf{\\hat{l}_x} -  l_{U} \\left(\\omega_{1} + \\omega_{2}\\right)\\mathbf{\\hat{u}_x} -  d_{T} \\left(\\omega_{1} + \\omega_{2} + \\omega_{3}\\right)\\mathbf{\\hat{t}_x}$$"
       ],
       "metadata": {},
       "output_type": "pyout",
       "png": "[encoded data removed]",
       "prompt_number": 31,
       "text": [
        "- l_L\u22c5\u03c9\u2081*\u001b[94m\u001b[1ml_x\u001b[0;0m\u001b[0;0m - l_U\u22c5(\u03c9\u2081 + \u03c9\u2082)*\u001b[94m\u001b[1mu_x\u001b[0;0m\u001b[0;0m - d_T\u22c5(\u03c9\u2081 + \u03c9\u2082 + \u03c9\u2083)*\u001b[94m\u001b[1mt_x\u001b[0;0m\u001b[0;0m"
       ]
      }
     ],
     "prompt_number": 31
    },
    {
     "cell_type": "heading",
     "level": 1,
     "metadata": {},
     "source": [
      "Mass"
     ]
    },
    {
     "cell_type": "code",
     "collapsed": false,
     "input": [
      "lower_leg_mass, upper_leg_mass, torso_mass = symbols('m_L, m_U, m_T')"
     ],
     "language": "python",
     "metadata": {},
     "outputs": [],
     "prompt_number": 32
    },
    {
     "cell_type": "heading",
     "level": 1,
     "metadata": {},
     "source": [
      "Inertia"
     ]
    },
    {
     "cell_type": "code",
     "collapsed": false,
     "input": [
      "lower_leg_inertia, upper_leg_inertia, torso_inertia = symbols('I_Lz, I_Uz, I_Tz')"
     ],
     "language": "python",
     "metadata": {},
     "outputs": [],
     "prompt_number": 33
    },
    {
     "cell_type": "code",
     "collapsed": false,
     "input": [
      "lower_leg_inertia_dyadic = inertia(lower_leg_frame, 0, 0, lower_leg_inertia)\n",
      "lower_leg_inertia_dyadic.to_matrix(lower_leg_frame)"
     ],
     "language": "python",
     "metadata": {},
     "outputs": [
      {
       "latex": [
        "$$\\left[\\begin{matrix}0 & 0 & 0\\\\0 & 0 & 0\\\\0 & 0 & I_{Lz}\\end{matrix}\\right]$$"
       ],
       "metadata": {},
       "output_type": "pyout",
       "png": "[encoded data removed]",
       "prompt_number": 34,
       "text": [
        "\u23a10  0   0  \u23a4\n",
        "\u23a2          \u23a5\n",
        "\u23a20  0   0  \u23a5\n",
        "\u23a2          \u23a5\n",
        "\u23a30  0  I_Lz\u23a6"
       ]
      }
     ],
     "prompt_number": 34
    },
    {
     "cell_type": "code",
     "collapsed": false,
     "input": [
      "lower_leg_central_inertia = (lower_leg_inertia_dyadic, lower_leg_mass_center)"
     ],
     "language": "python",
     "metadata": {},
     "outputs": [],
     "prompt_number": 35
    },
    {
     "cell_type": "code",
     "collapsed": false,
     "input": [
      "upper_leg_inertia_dyadic = inertia(upper_leg_frame, 0, 0, upper_leg_inertia)\n",
      "upper_leg_inertia_dyadic.to_matrix(upper_leg_frame)"
     ],
     "language": "python",
     "metadata": {},
     "outputs": [
      {
       "latex": [
        "$$\\left[\\begin{matrix}0 & 0 & 0\\\\0 & 0 & 0\\\\0 & 0 & I_{Uz}\\end{matrix}\\right]$$"
       ],
       "metadata": {},
       "output_type": "pyout",
       "png": "[encoded data removed]",
       "prompt_number": 36,
       "text": [
        "\u23a10  0   0  \u23a4\n",
        "\u23a2          \u23a5\n",
        "\u23a20  0   0  \u23a5\n",
        "\u23a2          \u23a5\n",
        "\u23a30  0  I_Uz\u23a6"
       ]
      }
     ],
     "prompt_number": 36
    },
    {
     "cell_type": "code",
     "collapsed": false,
     "input": [
      "upper_leg_central_inertia = (upper_leg_inertia_dyadic, upper_leg_mass_center)"
     ],
     "language": "python",
     "metadata": {},
     "outputs": [],
     "prompt_number": 37
    },
    {
     "cell_type": "code",
     "collapsed": false,
     "input": [
      "torso_inertia_dyadic = inertia(torso_frame, 0, 0, torso_inertia)\n",
      "torso_inertia_dyadic.to_matrix(torso_frame)"
     ],
     "language": "python",
     "metadata": {},
     "outputs": [
      {
       "latex": [
        "$$\\left[\\begin{matrix}0 & 0 & 0\\\\0 & 0 & 0\\\\0 & 0 & I_{Tz}\\end{matrix}\\right]$$"
       ],
       "metadata": {},
       "output_type": "pyout",
       "png": "[encoded data removed]",
       "prompt_number": 38,
       "text": [
        "\u23a10  0   0  \u23a4\n",
        "\u23a2          \u23a5\n",
        "\u23a20  0   0  \u23a5\n",
        "\u23a2          \u23a5\n",
        "\u23a30  0  I_Tz\u23a6"
       ]
      }
     ],
     "prompt_number": 38
    },
    {
     "cell_type": "code",
     "collapsed": false,
     "input": [
      "torso_central_inertia = (torso_inertia_dyadic, torso_mass_center)"
     ],
     "language": "python",
     "metadata": {},
     "outputs": [],
     "prompt_number": 39
    },
    {
     "cell_type": "heading",
     "level": 1,
     "metadata": {},
     "source": [
      "Rigid Bodies"
     ]
    },
    {
     "cell_type": "code",
     "collapsed": false,
     "input": [
      "lower_leg = RigidBody('Lower Leg', lower_leg_mass_center, lower_leg_frame,\n",
      "                      lower_leg_mass, lower_leg_central_inertia)"
     ],
     "language": "python",
     "metadata": {},
     "outputs": [],
     "prompt_number": 40
    },
    {
     "cell_type": "code",
     "collapsed": false,
     "input": [
      "upper_leg = RigidBody('Upper Leg', upper_leg_mass_center, upper_leg_frame,\n",
      "                      upper_leg_mass, upper_leg_central_inertia)"
     ],
     "language": "python",
     "metadata": {},
     "outputs": [],
     "prompt_number": 41
    },
    {
     "cell_type": "code",
     "collapsed": false,
     "input": [
      "torso = RigidBody('Torso', torso_mass_center, torso_frame,\n",
      "                  torso_mass, torso_central_inertia)"
     ],
     "language": "python",
     "metadata": {},
     "outputs": [],
     "prompt_number": 42
    },
    {
     "cell_type": "heading",
     "level": 1,
     "metadata": {},
     "source": [
      "Joint Torques"
     ]
    },
    {
     "cell_type": "markdown",
     "metadata": {},
     "source": [
      "Ankle, knee, and hip joint torques."
     ]
    },
    {
     "cell_type": "code",
     "collapsed": false,
     "input": [
      "T_a, T_k, T_h = dynamicsymbols('T_a, T_k, T_h')"
     ],
     "language": "python",
     "metadata": {},
     "outputs": [],
     "prompt_number": 43
    },
    {
     "cell_type": "code",
     "collapsed": false,
     "input": [
      "lower_leg_torque = (lower_leg_frame, T_a * inertial_frame.z - T_k * inertial_frame.z)\n",
      "upper_leg_torque = (upper_leg_frame, T_k * inertial_frame.z - T_h * inertial_frame.z)\n",
      "torso_torque = (torso_frame, T_h * inertial_frame.z)"
     ],
     "language": "python",
     "metadata": {},
     "outputs": [],
     "prompt_number": 44
    },
    {
     "cell_type": "heading",
     "level": 1,
     "metadata": {},
     "source": [
      "Equations of Motion"
     ]
    },
    {
     "cell_type": "code",
     "collapsed": false,
     "input": [
      "coordinates = [theta1, theta2, theta3]"
     ],
     "language": "python",
     "metadata": {},
     "outputs": [],
     "prompt_number": 45
    },
    {
     "cell_type": "code",
     "collapsed": false,
     "input": [
      "speeds = [omega1, omega2, omega3]"
     ],
     "language": "python",
     "metadata": {},
     "outputs": [],
     "prompt_number": 46
    },
    {
     "cell_type": "code",
     "collapsed": false,
     "input": [
      "kane = KanesMethod(inertial_frame, coordinates, speeds, kinematical_differential_equations)"
     ],
     "language": "python",
     "metadata": {},
     "outputs": [],
     "prompt_number": 47
    },
    {
     "cell_type": "code",
     "collapsed": false,
     "input": [
      "torques = [lower_leg_torque, upper_leg_torque, torso_torque]"
     ],
     "language": "python",
     "metadata": {},
     "outputs": [
      {
       "metadata": {},
       "output_type": "pyout",
       "prompt_number": 55,
       "text": [
        "[(L, (T_a - T_k)*I.z), (U, (-T_h + T_k)*I.z), (T, T_h*I.z)]"
       ]
      }
     ],
     "prompt_number": 55
    },
    {
     "cell_type": "code",
     "collapsed": false,
     "input": [
      "bodies = [lower_leg, upper_leg, torso]"
     ],
     "language": "python",
     "metadata": {},
     "outputs": [
      {
       "metadata": {},
       "output_type": "pyout",
       "prompt_number": 49,
       "text": [
        "[Lower Leg, Upper Leg, Torso]"
       ]
      }
     ],
     "prompt_number": 49
    },
    {
     "cell_type": "code",
     "collapsed": false,
     "input": [
      "fr, frstar = kane.kanes_equations(torques, bodies)"
     ],
     "language": "python",
     "metadata": {},
     "outputs": [],
     "prompt_number": 50
    },
    {
     "cell_type": "code",
     "collapsed": false,
     "input": [
      "trigsimp(kane.mass_matrix_full)"
     ],
     "language": "python",
     "metadata": {},
     "outputs": [
      {
       "latex": [
        "$$\\left[\\begin{matrix}1 & 0 & 0 & 0 & 0 & 0\\\\0 & 1 & 0 & 0 & 0 & 0\\\\0 & 0 & 1 & 0 & 0 & 0\\\\0 & 0 & 0 & I_{Lz} + I_{Tz} + I_{Uz} + d_{L}^{2} m_{L} + m_{T} \\left(d_{T}^{2} + 2 d_{T} l_{L} \\cos{\\left (\\operatorname{theta2}{\\left (t \\right )} + \\operatorname{theta3}{\\left (t \\right )} \\right )} + 2 d_{T} l_{U} \\cos{\\left (\\operatorname{theta3}{\\left (t \\right )} \\right )} + l_{L}^{2} + 2 l_{L} l_{U} \\cos{\\left (\\operatorname{theta2}{\\left (t \\right )} \\right )} + l_{U}^{2}\\right) + m_{U} \\left(d_{U}^{2} + 2 d_{U} l_{L} \\cos{\\left (\\operatorname{theta2}{\\left (t \\right )} \\right )} + l_{L}^{2}\\right) & I_{Tz} + I_{Uz} + d_{U} m_{U} \\left(d_{U} + l_{L} \\cos{\\left (\\operatorname{theta2}{\\left (t \\right )} \\right )}\\right) + m_{T} \\left(d_{T}^{2} + d_{T} l_{L} \\cos{\\left (\\operatorname{theta2}{\\left (t \\right )} + \\operatorname{theta3}{\\left (t \\right )} \\right )} + 2 d_{T} l_{U} \\cos{\\left (\\operatorname{theta3}{\\left (t \\right )} \\right )} + l_{L} l_{U} \\cos{\\left (\\operatorname{theta2}{\\left (t \\right )} \\right )} + l_{U}^{2}\\right) & I_{Tz} + d_{T} m_{T} \\left(d_{T} + l_{L} \\cos{\\left (\\operatorname{theta2}{\\left (t \\right )} + \\operatorname{theta3}{\\left (t \\right )} \\right )} + l_{U} \\cos{\\left (\\operatorname{theta3}{\\left (t \\right )} \\right )}\\right)\\\\0 & 0 & 0 & I_{Tz} + I_{Uz} + d_{U} m_{U} \\left(d_{U} + l_{L} \\cos{\\left (\\operatorname{theta2}{\\left (t \\right )} \\right )}\\right) + m_{T} \\left(d_{T}^{2} + d_{T} l_{L} \\cos{\\left (\\operatorname{theta2}{\\left (t \\right )} + \\operatorname{theta3}{\\left (t \\right )} \\right )} + 2 d_{T} l_{U} \\cos{\\left (\\operatorname{theta3}{\\left (t \\right )} \\right )} + l_{L} l_{U} \\cos{\\left (\\operatorname{theta2}{\\left (t \\right )} \\right )} + l_{U}^{2}\\right) & I_{Tz} + I_{Uz} + d_{U}^{2} m_{U} + m_{T} \\left(d_{T}^{2} + 2 d_{T} l_{U} \\cos{\\left (\\operatorname{theta3}{\\left (t \\right )} \\right )} + l_{U}^{2}\\right) & I_{Tz} + d_{T} m_{T} \\left(d_{T} + l_{U} \\cos{\\left (\\operatorname{theta3}{\\left (t \\right )} \\right )}\\right)\\\\0 & 0 & 0 & I_{Tz} + d_{T} m_{T} \\left(d_{T} + l_{L} \\cos{\\left (\\operatorname{theta2}{\\left (t \\right )} + \\operatorname{theta3}{\\left (t \\right )} \\right )} + l_{U} \\cos{\\left (\\operatorname{theta3}{\\left (t \\right )} \\right )}\\right) & I_{Tz} + d_{T} m_{T} \\left(d_{T} + l_{U} \\cos{\\left (\\operatorname{theta3}{\\left (t \\right )} \\right )}\\right) & I_{Tz} + d_{T}^{2} m_{T}\\end{matrix}\\right]$$"
       ],
       "metadata": {},
       "output_type": "pyout",
       "png": "[encoded data removed]",
       "prompt_number": 58,
       "text": [
        "\u23a11  0  0                                                                      \n",
        "\u23a2                                                                             \n",
        "\u23a20  1  0                                                                      \n",
        "\u23a2                                                                             \n",
        "\u23a20  0  1                                                                      \n",
        "\u23a2                                                                             \n",
        "\u23a2                                 2           \u239b   2                           \n",
        "\u23a20  0  0  I_Lz + I_Tz + I_Uz + d_L \u22c5m_L + m_T\u22c5\u239dd_T  + 2\u22c5d_T\u22c5l_L\u22c5cos(\u03b8\u2082(t) + \u03b8\u2083\n",
        "\u23a2                                                                             \n",
        "\u23a2                                                                             \n",
        "\u23a20  0  0                     I_Tz + I_Uz + d_U\u22c5m_U\u22c5(d_U + l_L\u22c5cos(\u03b8\u2082(t))) + m_\n",
        "\u23a2                                                                             \n",
        "\u23a2                                                                             \n",
        "\u23a30  0  0                                                           I_Tz + d_T\u22c5\n",
        "\n",
        "                   0                                                          \n",
        "                                                                              \n",
        "                   0                                                          \n",
        "                                                                              \n",
        "                   0                                                          \n",
        "                                                                              \n",
        "                                 2                             2\u239e       \u239b   2 \n",
        "(t)) + 2\u22c5d_T\u22c5l_U\u22c5cos(\u03b8\u2083(t)) + l_L  + 2\u22c5l_L\u22c5l_U\u22c5cos(\u03b8\u2082(t)) + l_U \u23a0 + m_U\u22c5\u239dd_U  \n",
        "                                                                              \n",
        "  \u239b   2                                                                       \n",
        "T\u22c5\u239dd_T  + d_T\u22c5l_L\u22c5cos(\u03b8\u2082(t) + \u03b8\u2083(t)) + 2\u22c5d_T\u22c5l_U\u22c5cos(\u03b8\u2083(t)) + l_L\u22c5l_U\u22c5cos(\u03b8\u2082(t\n",
        "                                                                              \n",
        "                                                                              \n",
        "m_T\u22c5(d_T + l_L\u22c5cos(\u03b8\u2082(t) + \u03b8\u2083(t)) + l_U\u22c5cos(\u03b8\u2083(t)))                           \n",
        "\n",
        "                                                                              \n",
        "                                                                              \n",
        "                                                                              \n",
        "                                                                              \n",
        "                                                                              \n",
        "                                                                              \n",
        "                            2\u239e                                                \n",
        "+ 2\u22c5d_U\u22c5l_L\u22c5cos(\u03b8\u2082(t)) + l_L \u23a0  I_Tz + I_Uz + d_U\u22c5m_U\u22c5(d_U + l_L\u22c5cos(\u03b8\u2082(t))) +\n",
        "                                                                              \n",
        "        2\u239e                                                                    \n",
        ")) + l_U \u23a0                                                          I_Tz + I_U\n",
        "                                                                              \n",
        "                                                                              \n",
        "                                                                              \n",
        "\n",
        "                      0                                                       \n",
        "                                                                              \n",
        "                      0                                                       \n",
        "                                                                              \n",
        "                      0                                                       \n",
        "                                                                              \n",
        "     \u239b   2                                                                    \n",
        " m_T\u22c5\u239dd_T  + d_T\u22c5l_L\u22c5cos(\u03b8\u2082(t) + \u03b8\u2083(t)) + 2\u22c5d_T\u22c5l_U\u22c5cos(\u03b8\u2083(t)) + l_L\u22c5l_U\u22c5cos(\u03b8\n",
        "                                                                              \n",
        "       2           \u239b   2                             2\u239e                       \n",
        "z + d_U \u22c5m_U + m_T\u22c5\u239dd_T  + 2\u22c5d_T\u22c5l_U\u22c5cos(\u03b8\u2083(t)) + l_U \u23a0                       \n",
        "                                                                              \n",
        "                                                                              \n",
        "    I_Tz + d_T\u22c5m_T\u22c5(d_T + l_U\u22c5cos(\u03b8\u2083(t)))                                     \n",
        "\n",
        "                                             0                               \u23a4\n",
        "                                                                             \u23a5\n",
        "                                             0                               \u23a5\n",
        "                                                                             \u23a5\n",
        "                                             0                               \u23a5\n",
        "                                                                             \u23a5\n",
        "           2\u239e                                                                \u23a5\n",
        "\u2082(t)) + l_U \u23a0  I_Tz + d_T\u22c5m_T\u22c5(d_T + l_L\u22c5cos(\u03b8\u2082(t) + \u03b8\u2083(t)) + l_U\u22c5cos(\u03b8\u2083(t)))\u23a5\n",
        "                                                                             \u23a5\n",
        "                                                                             \u23a5\n",
        "                           I_Tz + d_T\u22c5m_T\u22c5(d_T + l_U\u22c5cos(\u03b8\u2083(t)))             \u23a5\n",
        "                                                                             \u23a5\n",
        "                                                2                            \u23a5\n",
        "                                      I_Tz + d_T \u22c5m_T                        \u23a6"
       ]
      }
     ],
     "prompt_number": 58
    },
    {
     "cell_type": "code",
     "collapsed": false,
     "input": [
      "trigsimp(kane.forcing_full)"
     ],
     "language": "python",
     "metadata": {},
     "outputs": [
      {
       "latex": [
        "$$\\left[\\begin{matrix}\\operatorname{omega1}{\\left (t \\right )}\\\\\\operatorname{omega2}{\\left (t \\right )}\\\\\\operatorname{omega3}{\\left (t \\right )}\\\\d_{T} l_{L} m_{T} \\left(\\operatorname{omega1}{\\left (t \\right )} + \\operatorname{omega2}{\\left (t \\right )} + \\operatorname{omega3}{\\left (t \\right )}\\right)^{2} \\sin{\\left (\\operatorname{theta2}{\\left (t \\right )} + \\operatorname{theta3}{\\left (t \\right )} \\right )} - d_{T} l_{L} m_{T} \\operatorname{omega1}^{2}{\\left (t \\right )} \\sin{\\left (\\operatorname{theta2}{\\left (t \\right )} + \\operatorname{theta3}{\\left (t \\right )} \\right )} - d_{T} l_{U} m_{T} \\left(\\operatorname{omega1}{\\left (t \\right )} + \\operatorname{omega2}{\\left (t \\right )}\\right)^{2} \\sin{\\left (\\operatorname{theta3}{\\left (t \\right )} \\right )} + d_{T} l_{U} m_{T} \\left(\\operatorname{omega1}{\\left (t \\right )} + \\operatorname{omega2}{\\left (t \\right )} + \\operatorname{omega3}{\\left (t \\right )}\\right)^{2} \\sin{\\left (\\operatorname{theta3}{\\left (t \\right )} \\right )} + d_{U} l_{L} m_{U} \\left(\\operatorname{omega1}{\\left (t \\right )} + \\operatorname{omega2}{\\left (t \\right )}\\right)^{2} \\sin{\\left (\\operatorname{theta2}{\\left (t \\right )} \\right )} - d_{U} l_{L} m_{U} \\operatorname{omega1}^{2}{\\left (t \\right )} \\sin{\\left (\\operatorname{theta2}{\\left (t \\right )} \\right )} + l_{L} l_{U} m_{T} \\left(\\operatorname{omega1}{\\left (t \\right )} + \\operatorname{omega2}{\\left (t \\right )}\\right)^{2} \\sin{\\left (\\operatorname{theta2}{\\left (t \\right )} \\right )} - l_{L} l_{U} m_{T} \\operatorname{omega1}^{2}{\\left (t \\right )} \\sin{\\left (\\operatorname{theta2}{\\left (t \\right )} \\right )} + \\operatorname{T\\_a}{\\left (t \\right )}\\\\- d_{T} l_{L} m_{T} \\operatorname{omega1}^{2}{\\left (t \\right )} \\sin{\\left (\\operatorname{theta2}{\\left (t \\right )} + \\operatorname{theta3}{\\left (t \\right )} \\right )} - d_{T} l_{U} m_{T} \\left(\\operatorname{omega1}{\\left (t \\right )} + \\operatorname{omega2}{\\left (t \\right )}\\right)^{2} \\sin{\\left (\\operatorname{theta3}{\\left (t \\right )} \\right )} + d_{T} l_{U} m_{T} \\left(\\operatorname{omega1}{\\left (t \\right )} + \\operatorname{omega2}{\\left (t \\right )} + \\operatorname{omega3}{\\left (t \\right )}\\right)^{2} \\sin{\\left (\\operatorname{theta3}{\\left (t \\right )} \\right )} - d_{U} l_{L} m_{U} \\operatorname{omega1}^{2}{\\left (t \\right )} \\sin{\\left (\\operatorname{theta2}{\\left (t \\right )} \\right )} - l_{L} l_{U} m_{T} \\operatorname{omega1}^{2}{\\left (t \\right )} \\sin{\\left (\\operatorname{theta2}{\\left (t \\right )} \\right )} + \\operatorname{T\\_k}{\\left (t \\right )}\\\\- d_{T} l_{L} m_{T} \\operatorname{omega1}^{2}{\\left (t \\right )} \\sin{\\left (\\operatorname{theta2}{\\left (t \\right )} + \\operatorname{theta3}{\\left (t \\right )} \\right )} - d_{T} l_{U} m_{T} \\left(\\operatorname{omega1}{\\left (t \\right )} + \\operatorname{omega2}{\\left (t \\right )}\\right)^{2} \\sin{\\left (\\operatorname{theta3}{\\left (t \\right )} \\right )} + \\operatorname{T\\_h}{\\left (t \\right )}\\end{matrix}\\right]$$"
       ],
       "metadata": {},
       "output_type": "pyout",
       "png": "[encoded data removed]",
       "prompt_number": 59,
       "text": [
        "\u23a1                                                                             \n",
        "\u23a2                                                                             \n",
        "\u23a2                                                                             \n",
        "\u23a2                                                                             \n",
        "\u23a2                                                                             \n",
        "\u23a2                                                                             \n",
        "\u23a2                                   2                                    2    \n",
        "\u23a2d_T\u22c5l_L\u22c5m_T\u22c5(\u03c9\u2081(t) + \u03c9\u2082(t) + \u03c9\u2083(t)) \u22c5sin(\u03b8\u2082(t) + \u03b8\u2083(t)) - d_T\u22c5l_L\u22c5m_T\u22c5\u03c9\u2081 (t)\u22c5\n",
        "\u23a2                                                                             \n",
        "\u23a2                                                                             \n",
        "\u23a2                                                                     - d_T\u22c5l_\n",
        "\u23a2                                                                             \n",
        "\u23a2                                                                             \n",
        "\u23a3                                                                             \n",
        "\n",
        "                                                                              \n",
        "                                                                              \n",
        "                                                                              \n",
        "                                                                              \n",
        "                                                                              \n",
        "                                                                              \n",
        "                                                2                             \n",
        "sin(\u03b8\u2082(t) + \u03b8\u2083(t)) - d_T\u22c5l_U\u22c5m_T\u22c5(\u03c9\u2081(t) + \u03c9\u2082(t)) \u22c5sin(\u03b8\u2083(t)) + d_T\u22c5l_U\u22c5m_T\u22c5(\u03c9\u2081\n",
        "                                                                              \n",
        "        2                                                    2                \n",
        "L\u22c5m_T\u22c5\u03c9\u2081 (t)\u22c5sin(\u03b8\u2082(t) + \u03b8\u2083(t)) - d_T\u22c5l_U\u22c5m_T\u22c5(\u03c9\u2081(t) + \u03c9\u2082(t)) \u22c5sin(\u03b8\u2083(t)) + d_\n",
        "                                                                              \n",
        "                                                                 2            \n",
        "                                                 - d_T\u22c5l_L\u22c5m_T\u22c5\u03c9\u2081 (t)\u22c5sin(\u03b8\u2082(t\n",
        "\n",
        "              \u03c9\u2081(t)                                                           \n",
        "                                                                              \n",
        "              \u03c9\u2082(t)                                                           \n",
        "                                                                              \n",
        "              \u03c9\u2083(t)                                                           \n",
        "                                                                              \n",
        "                    2                                         2               \n",
        "(t) + \u03c9\u2082(t) + \u03c9\u2083(t)) \u22c5sin(\u03b8\u2083(t)) + d_U\u22c5l_L\u22c5m_U\u22c5(\u03c9\u2081(t) + \u03c9\u2082(t)) \u22c5sin(\u03b8\u2082(t)) - d\n",
        "                                                                              \n",
        "                                 2                            2               \n",
        "T\u22c5l_U\u22c5m_T\u22c5(\u03c9\u2081(t) + \u03c9\u2082(t) + \u03c9\u2083(t)) \u22c5sin(\u03b8\u2083(t)) - d_U\u22c5l_L\u22c5m_U\u22c5\u03c9\u2081 (t)\u22c5sin(\u03b8\u2082(t)) \n",
        "                                                                              \n",
        "                                        2                                     \n",
        ") + \u03b8\u2083(t)) - d_T\u22c5l_U\u22c5m_T\u22c5(\u03c9\u2081(t) + \u03c9\u2082(t)) \u22c5sin(\u03b8\u2083(t)) + T_h(t)                 \n",
        "\n",
        "                                                                              \n",
        "                                                                              \n",
        "                                                                              \n",
        "                                                                              \n",
        "                                                                              \n",
        "                                                                              \n",
        "             2                                            2                   \n",
        "_U\u22c5l_L\u22c5m_U\u22c5\u03c9\u2081 (t)\u22c5sin(\u03b8\u2082(t)) + l_L\u22c5l_U\u22c5m_T\u22c5(\u03c9\u2081(t) + \u03c9\u2082(t)) \u22c5sin(\u03b8\u2082(t)) - l_L\u22c5l\n",
        "                                                                              \n",
        "                2                                                             \n",
        "- l_L\u22c5l_U\u22c5m_T\u22c5\u03c9\u2081 (t)\u22c5sin(\u03b8\u2082(t)) + T_k(t)                                      \n",
        "                                                                              \n",
        "                                                                              \n",
        "                                                                              \n",
        "\n",
        "                                \u23a4\n",
        "                                \u23a5\n",
        "                                \u23a5\n",
        "                                \u23a5\n",
        "                                \u23a5\n",
        "                                \u23a5\n",
        "         2                      \u23a5\n",
        "_U\u22c5m_T\u22c5\u03c9\u2081 (t)\u22c5sin(\u03b8\u2082(t)) + T\u2090(t)\u23a5\n",
        "                                \u23a5\n",
        "                                \u23a5\n",
        "                                \u23a5\n",
        "                                \u23a5\n",
        "                                \u23a5\n",
        "                                \u23a6"
       ]
      }
     ],
     "prompt_number": 59
    }
   ],
   "metadata": {}
  }
 ]
}