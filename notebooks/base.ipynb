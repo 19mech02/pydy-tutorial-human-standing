{
 "metadata": {
  "name": ""
 },
 "nbformat": 3,
 "nbformat_minor": 0,
 "worksheets": [
  {
   "cells": [
    {
     "cell_type": "heading",
     "level": 1,
     "metadata": {},
     "source": [
      "Setup"
     ]
    },
    {
     "cell_type": "code",
     "collapsed": false,
     "input": [
      "%pylab --no-import-all inline"
     ],
     "language": "python",
     "metadata": {},
     "outputs": [
      {
       "output_type": "stream",
       "stream": "stdout",
       "text": [
        "Populating the interactive namespace from numpy and matplotlib\n"
       ]
      }
     ],
     "prompt_number": 1
    },
    {
     "cell_type": "code",
     "collapsed": false,
     "input": [
      "from sympy import *\n",
      "from sympy.physics.mechanics import *"
     ],
     "language": "python",
     "metadata": {},
     "outputs": [],
     "prompt_number": 2
    },
    {
     "cell_type": "code",
     "collapsed": false,
     "input": [
      "init_printing()"
     ],
     "language": "python",
     "metadata": {},
     "outputs": [],
     "prompt_number": 3
    },
    {
     "cell_type": "heading",
     "level": 1,
     "metadata": {},
     "source": [
      "Orientation"
     ]
    },
    {
     "cell_type": "code",
     "collapsed": false,
     "input": [
      "theta1, theta2, theta3 = dynamicsymbols('theta1, theta2, theta3')"
     ],
     "language": "python",
     "metadata": {},
     "outputs": [],
     "prompt_number": 4
    },
    {
     "cell_type": "code",
     "collapsed": false,
     "input": [
      "theta1"
     ],
     "language": "python",
     "metadata": {},
     "outputs": [
      {
       "latex": [
        "$$\\theta_{1}{\\left (t \\right )}$$"
       ],
       "metadata": {},
       "output_type": "pyout",
       "png": "[encoded data removed]",
       "prompt_number": 5,
       "text": [
        "\u03b8\u2081(t)"
       ]
      }
     ],
     "prompt_number": 5
    },
    {
     "cell_type": "code",
     "collapsed": false,
     "input": [
      "inertial_frame = ReferenceFrame('I')"
     ],
     "language": "python",
     "metadata": {},
     "outputs": [],
     "prompt_number": 6
    },
    {
     "cell_type": "code",
     "collapsed": false,
     "input": [
      "lower_leg_frame = ReferenceFrame('L')"
     ],
     "language": "python",
     "metadata": {},
     "outputs": [],
     "prompt_number": 7
    },
    {
     "cell_type": "code",
     "collapsed": false,
     "input": [
      "lower_leg_frame.orient(inertial_frame, 'Axis', (theta1, inertial_frame.z))"
     ],
     "language": "python",
     "metadata": {},
     "outputs": [],
     "prompt_number": 8
    },
    {
     "cell_type": "code",
     "collapsed": false,
     "input": [
      "lower_leg_frame.dcm(inertial_frame)"
     ],
     "language": "python",
     "metadata": {},
     "outputs": [
      {
       "latex": [
        "$$\\left[\\begin{matrix}\\cos{\\left (\\theta_{1}{\\left (t \\right )} \\right )} & \\sin{\\left (\\theta_{1}{\\left (t \\right )} \\right )} & 0\\\\- \\sin{\\left (\\theta_{1}{\\left (t \\right )} \\right )} & \\cos{\\left (\\theta_{1}{\\left (t \\right )} \\right )} & 0\\\\0 & 0 & 1\\end{matrix}\\right]$$"
       ],
       "metadata": {},
       "output_type": "pyout",
       "png": "[encoded data removed]",
       "prompt_number": 9,
       "text": [
        "\u23a1cos(\u03b8\u2081(t))   sin(\u03b8\u2081(t))  0\u23a4\n",
        "\u23a2                          \u23a5\n",
        "\u23a2-sin(\u03b8\u2081(t))  cos(\u03b8\u2081(t))  0\u23a5\n",
        "\u23a2                          \u23a5\n",
        "\u23a3     0           0       1\u23a6"
       ]
      }
     ],
     "prompt_number": 9
    },
    {
     "cell_type": "code",
     "collapsed": false,
     "input": [
      "upper_leg_frame = ReferenceFrame('U')"
     ],
     "language": "python",
     "metadata": {},
     "outputs": [],
     "prompt_number": 10
    },
    {
     "cell_type": "code",
     "collapsed": false,
     "input": [
      "upper_leg_frame.orient(lower_leg_frame, 'Axis', (theta2, lower_leg_frame.z))\n",
      "simplify(upper_leg_frame.dcm(inertial_frame))"
     ],
     "language": "python",
     "metadata": {},
     "outputs": [
      {
       "latex": [
        "$$\\left[\\begin{matrix}\\cos{\\left (\\theta_{1}{\\left (t \\right )} + \\theta_{2}{\\left (t \\right )} \\right )} & \\sin{\\left (\\theta_{1}{\\left (t \\right )} + \\theta_{2}{\\left (t \\right )} \\right )} & 0\\\\- \\sin{\\left (\\theta_{1}{\\left (t \\right )} + \\theta_{2}{\\left (t \\right )} \\right )} & \\cos{\\left (\\theta_{1}{\\left (t \\right )} + \\theta_{2}{\\left (t \\right )} \\right )} & 0\\\\0 & 0 & 1\\end{matrix}\\right]$$"
       ],
       "metadata": {},
       "output_type": "pyout",
       "png": "[encoded data removed]",
       "prompt_number": 11,
       "text": [
        "\u23a1cos(\u03b8\u2081(t) + \u03b8\u2082(t))   sin(\u03b8\u2081(t) + \u03b8\u2082(t))  0\u23a4\n",
        "\u23a2                                          \u23a5\n",
        "\u23a2-sin(\u03b8\u2081(t) + \u03b8\u2082(t))  cos(\u03b8\u2081(t) + \u03b8\u2082(t))  0\u23a5\n",
        "\u23a2                                          \u23a5\n",
        "\u23a3         0                   0           1\u23a6"
       ]
      }
     ],
     "prompt_number": 11
    },
    {
     "cell_type": "code",
     "collapsed": false,
     "input": [
      "torso_frame = ReferenceFrame('T')"
     ],
     "language": "python",
     "metadata": {},
     "outputs": [],
     "prompt_number": 12
    },
    {
     "cell_type": "code",
     "collapsed": false,
     "input": [
      "torso_frame.orient(upper_leg_frame, 'Axis', (theta3, upper_leg_frame.z))\n",
      "simplify(torso_frame.dcm(inertial_frame))"
     ],
     "language": "python",
     "metadata": {},
     "outputs": [
      {
       "latex": [
        "$$\\left[\\begin{matrix}\\cos{\\left (\\theta_{1}{\\left (t \\right )} + \\theta_{2}{\\left (t \\right )} + \\theta_{3}{\\left (t \\right )} \\right )} & \\sin{\\left (\\theta_{1}{\\left (t \\right )} + \\theta_{2}{\\left (t \\right )} + \\theta_{3}{\\left (t \\right )} \\right )} & 0\\\\- \\sin{\\left (\\theta_{1}{\\left (t \\right )} + \\theta_{2}{\\left (t \\right )} + \\theta_{3}{\\left (t \\right )} \\right )} & \\cos{\\left (\\theta_{1}{\\left (t \\right )} + \\theta_{2}{\\left (t \\right )} + \\theta_{3}{\\left (t \\right )} \\right )} & 0\\\\0 & 0 & 1\\end{matrix}\\right]$$"
       ],
       "metadata": {},
       "output_type": "pyout",
       "png": "[encoded data removed]",
       "prompt_number": 13,
       "text": [
        "\u23a1cos(\u03b8\u2081(t) + \u03b8\u2082(t) + \u03b8\u2083(t))   sin(\u03b8\u2081(t) + \u03b8\u2082(t) + \u03b8\u2083(t))  0\u23a4\n",
        "\u23a2                                                          \u23a5\n",
        "\u23a2-sin(\u03b8\u2081(t) + \u03b8\u2082(t) + \u03b8\u2083(t))  cos(\u03b8\u2081(t) + \u03b8\u2082(t) + \u03b8\u2083(t))  0\u23a5\n",
        "\u23a2                                                          \u23a5\n",
        "\u23a3             0                           0               1\u23a6"
       ]
      }
     ],
     "prompt_number": 13
    },
    {
     "cell_type": "heading",
     "level": 1,
     "metadata": {},
     "source": [
      "Point Locations"
     ]
    },
    {
     "cell_type": "heading",
     "level": 2,
     "metadata": {},
     "source": [
      "Joints"
     ]
    },
    {
     "cell_type": "code",
     "collapsed": false,
     "input": [
      "lower_leg_length, upper_leg_length = symbols('l_L, l_U')"
     ],
     "language": "python",
     "metadata": {},
     "outputs": [],
     "prompt_number": 14
    },
    {
     "cell_type": "code",
     "collapsed": false,
     "input": [
      "ankle = Point('A')"
     ],
     "language": "python",
     "metadata": {},
     "outputs": [],
     "prompt_number": 15
    },
    {
     "cell_type": "code",
     "collapsed": false,
     "input": [
      "knee = Point('K')\n",
      "knee.set_pos(ankle, lower_leg_length * lower_leg_frame.y)\n",
      "knee.pos_from(ankle)"
     ],
     "language": "python",
     "metadata": {},
     "outputs": [
      {
       "latex": [
        "$$l_{L}\\mathbf{\\hat{l}_y}$$"
       ],
       "metadata": {},
       "output_type": "pyout",
       "png": "[encoded data removed]",
       "prompt_number": 16,
       "text": [
        "l_L*\u001b[94m\u001b[1ml_y\u001b[0;0m\u001b[0;0m"
       ]
      }
     ],
     "prompt_number": 16
    },
    {
     "cell_type": "code",
     "collapsed": false,
     "input": [
      "hip = Point('H')\n",
      "hip.set_pos(knee, upper_leg_length * upper_leg_frame.y)\n",
      "hip.pos_from(ankle)"
     ],
     "language": "python",
     "metadata": {},
     "outputs": [
      {
       "latex": [
        "$$l_{U}\\mathbf{\\hat{u}_y} + l_{L}\\mathbf{\\hat{l}_y}$$"
       ],
       "metadata": {},
       "output_type": "pyout",
       "png": "[encoded data removed]",
       "prompt_number": 17,
       "text": [
        "l_U*\u001b[94m\u001b[1mu_y\u001b[0;0m\u001b[0;0m + l_L*\u001b[94m\u001b[1ml_y\u001b[0;0m\u001b[0;0m"
       ]
      }
     ],
     "prompt_number": 17
    },
    {
     "cell_type": "code",
     "collapsed": false,
     "input": [
      "hip.pos_from(ankle).express(inertial_frame).simplify()"
     ],
     "language": "python",
     "metadata": {},
     "outputs": [
      {
       "latex": [
        "$$(- l_{L} \\operatorname{sin}\\left(\\theta_{1}\\right) - l_{U} \\operatorname{sin}\\left(\\theta_{1} + \\theta_{2}\\right))\\mathbf{\\hat{i}_x} + (l_{L} \\operatorname{cos}\\left(\\theta_{1}\\right) + l_{U} \\operatorname{cos}\\left(\\theta_{1} + \\theta_{2}\\right))\\mathbf{\\hat{i}_y}$$"
       ],
       "metadata": {},
       "output_type": "pyout",
       "png": "[encoded data removed]",
       "prompt_number": 18,
       "text": [
        "(-l_L\u22c5sin(\u03b8\u2081) - l_U\u22c5sin(\u03b8\u2081 + \u03b8\u2082))*\u001b[94m\u001b[1mi_x\u001b[0;0m\u001b[0;0m + (l_L\u22c5cos(\u03b8\u2081) + l_U\u22c5cos(\u03b8\u2081 + \u03b8\u2082))*\u001b[94m\u001b[1mi_y\u001b[0;0m\u001b[0;0m"
       ]
      }
     ],
     "prompt_number": 18
    },
    {
     "cell_type": "heading",
     "level": 2,
     "metadata": {},
     "source": [
      "Center of mass locations"
     ]
    },
    {
     "cell_type": "code",
     "collapsed": false,
     "input": [
      "lower_leg_com_length, upper_leg_com_length, torso_com_length = symbols('d_L, d_U, d_T')"
     ],
     "language": "python",
     "metadata": {},
     "outputs": [],
     "prompt_number": 19
    },
    {
     "cell_type": "code",
     "collapsed": false,
     "input": [
      "lower_leg_mass_center = Point('L_o')\n",
      "lower_leg_mass_center.set_pos(ankle, lower_leg_com_length * lower_leg_frame.y)\n",
      "lower_leg_mass_center.pos_from(ankle)"
     ],
     "language": "python",
     "metadata": {},
     "outputs": [
      {
       "latex": [
        "$$d_{L}\\mathbf{\\hat{l}_y}$$"
       ],
       "metadata": {},
       "output_type": "pyout",
       "png": "[encoded data removed]",
       "prompt_number": 20,
       "text": [
        "d_L*\u001b[94m\u001b[1ml_y\u001b[0;0m\u001b[0;0m"
       ]
      }
     ],
     "prompt_number": 20
    },
    {
     "cell_type": "code",
     "collapsed": false,
     "input": [
      "upper_leg_mass_center = Point('U_o')\n",
      "upper_leg_mass_center.set_pos(knee, upper_leg_com_length * upper_leg_frame.y)\n",
      "upper_leg_mass_center.pos_from(ankle)"
     ],
     "language": "python",
     "metadata": {},
     "outputs": [
      {
       "latex": [
        "$$d_{U}\\mathbf{\\hat{u}_y} + l_{L}\\mathbf{\\hat{l}_y}$$"
       ],
       "metadata": {},
       "output_type": "pyout",
       "png": "[encoded data removed]",
       "prompt_number": 21,
       "text": [
        "d_U*\u001b[94m\u001b[1mu_y\u001b[0;0m\u001b[0;0m + l_L*\u001b[94m\u001b[1ml_y\u001b[0;0m\u001b[0;0m"
       ]
      }
     ],
     "prompt_number": 21
    },
    {
     "cell_type": "code",
     "collapsed": false,
     "input": [
      "torso_mass_center = Point('T_o')\n",
      "torso_mass_center.set_pos(hip, torso_com_length * torso_frame.y)\n",
      "torso_mass_center.pos_from(ankle)"
     ],
     "language": "python",
     "metadata": {},
     "outputs": [
      {
       "latex": [
        "$$d_{T}\\mathbf{\\hat{t}_y} + l_{U}\\mathbf{\\hat{u}_y} + l_{L}\\mathbf{\\hat{l}_y}$$"
       ],
       "metadata": {},
       "output_type": "pyout",
       "png": "[encoded data removed]",
       "prompt_number": 22,
       "text": [
        "d_T*\u001b[94m\u001b[1mt_y\u001b[0;0m\u001b[0;0m + l_U*\u001b[94m\u001b[1mu_y\u001b[0;0m\u001b[0;0m + l_L*\u001b[94m\u001b[1ml_y\u001b[0;0m\u001b[0;0m"
       ]
      }
     ],
     "prompt_number": 22
    },
    {
     "cell_type": "heading",
     "level": 1,
     "metadata": {},
     "source": [
      "Kinematical Differential Equations"
     ]
    },
    {
     "cell_type": "code",
     "collapsed": false,
     "input": [
      "t = symbols('t')"
     ],
     "language": "python",
     "metadata": {},
     "outputs": [],
     "prompt_number": 23
    },
    {
     "cell_type": "code",
     "collapsed": false,
     "input": [
      "beta1, beta2 = symbols('beta1, beta2')"
     ],
     "language": "python",
     "metadata": {},
     "outputs": [],
     "prompt_number": 24
    },
    {
     "cell_type": "code",
     "collapsed": false,
     "input": [
      "beta1"
     ],
     "language": "python",
     "metadata": {},
     "outputs": [
      {
       "latex": [
        "$$\\beta_{1}$$"
       ],
       "metadata": {},
       "output_type": "pyout",
       "png": "[encoded data removed]",
       "prompt_number": 25,
       "text": [
        "\u03b2\u2081"
       ]
      }
     ],
     "prompt_number": 25
    },
    {
     "cell_type": "code",
     "collapsed": false,
     "input": [
      "omega1, omega2, omega3 = dynamicsymbols('omega1, omega2, omega3')"
     ],
     "language": "python",
     "metadata": {},
     "outputs": [],
     "prompt_number": 26
    },
    {
     "cell_type": "code",
     "collapsed": false,
     "input": [
      "omega1"
     ],
     "language": "python",
     "metadata": {},
     "outputs": [
      {
       "latex": [
        "$$\\omega_{1}{\\left (t \\right )}$$"
       ],
       "metadata": {},
       "output_type": "pyout",
       "png": "[encoded data removed]",
       "prompt_number": 27,
       "text": [
        "\u03c9\u2081(t)"
       ]
      }
     ],
     "prompt_number": 27
    },
    {
     "cell_type": "code",
     "collapsed": false,
     "input": [
      "kinematical_differential_equations = [omega1 - theta1.diff(t),\n",
      "                                      omega2 - theta2.diff(t),\n",
      "                                      omega3 - theta3.diff(t)]\n",
      "kinematical_differential_equations"
     ],
     "language": "python",
     "metadata": {},
     "outputs": [
      {
       "latex": [
        "$$\\begin{bmatrix}\\omega_{1}{\\left (t \\right )} - \\frac{d}{d t} \\theta_{1}{\\left (t \\right )}, & \\omega_{2}{\\left (t \\right )} - \\frac{d}{d t} \\theta_{2}{\\left (t \\right )}, & \\omega_{3}{\\left (t \\right )} - \\frac{d}{d t} \\theta_{3}{\\left (t \\right )}\\end{bmatrix}$$"
       ],
       "metadata": {},
       "output_type": "pyout",
       "png": "[encoded data removed]",
       "prompt_number": 28,
       "text": [
        "\u23a1        d                  d                  d        \u23a4\n",
        "\u23a2\u03c9\u2081(t) - \u2500\u2500(\u03b8\u2081(t)), \u03c9\u2082(t) - \u2500\u2500(\u03b8\u2082(t)), \u03c9\u2083(t) - \u2500\u2500(\u03b8\u2083(t))\u23a5\n",
        "\u23a3        dt                 dt                 dt       \u23a6"
       ]
      }
     ],
     "prompt_number": 28
    },
    {
     "cell_type": "heading",
     "level": 1,
     "metadata": {},
     "source": [
      "Angular Velocities"
     ]
    },
    {
     "cell_type": "code",
     "collapsed": false,
     "input": [
      "lower_leg_frame.set_ang_vel(inertial_frame, omega1 * inertial_frame.z)\n",
      "lower_leg_frame.ang_vel_in(inertial_frame)"
     ],
     "language": "python",
     "metadata": {},
     "outputs": [
      {
       "latex": [
        "$$\\omega_{1}\\mathbf{\\hat{i}_z}$$"
       ],
       "metadata": {},
       "output_type": "pyout",
       "png": "[encoded data removed]",
       "prompt_number": 29,
       "text": [
        "\u03c9\u2081*\u001b[94m\u001b[1mi_z\u001b[0;0m\u001b[0;0m"
       ]
      }
     ],
     "prompt_number": 29
    },
    {
     "cell_type": "code",
     "collapsed": false,
     "input": [
      "upper_leg_frame.set_ang_vel(lower_leg_frame, omega2 * lower_leg_frame.z)\n",
      "upper_leg_frame.ang_vel_in(inertial_frame)"
     ],
     "language": "python",
     "metadata": {},
     "outputs": [
      {
       "latex": [
        "$$\\omega_{2}\\mathbf{\\hat{l}_z} + \\omega_{1}\\mathbf{\\hat{i}_z}$$"
       ],
       "metadata": {},
       "output_type": "pyout",
       "png": "[encoded data removed]",
       "prompt_number": 30,
       "text": [
        "\u03c9\u2082*\u001b[94m\u001b[1ml_z\u001b[0;0m\u001b[0;0m + \u03c9\u2081*\u001b[94m\u001b[1mi_z\u001b[0;0m\u001b[0;0m"
       ]
      }
     ],
     "prompt_number": 30
    },
    {
     "cell_type": "code",
     "collapsed": false,
     "input": [
      "torso_frame.set_ang_vel(upper_leg_frame, omega3 * upper_leg_frame.z)\n",
      "torso_frame.ang_vel_in(inertial_frame)"
     ],
     "language": "python",
     "metadata": {},
     "outputs": [
      {
       "latex": [
        "$$\\omega_{3}\\mathbf{\\hat{u}_z} + \\omega_{2}\\mathbf{\\hat{l}_z} + \\omega_{1}\\mathbf{\\hat{i}_z}$$"
       ],
       "metadata": {},
       "output_type": "pyout",
       "png": "[encoded data removed]",
       "prompt_number": 31,
       "text": [
        "\u03c9\u2083*\u001b[94m\u001b[1mu_z\u001b[0;0m\u001b[0;0m + \u03c9\u2082*\u001b[94m\u001b[1ml_z\u001b[0;0m\u001b[0;0m + \u03c9\u2081*\u001b[94m\u001b[1mi_z\u001b[0;0m\u001b[0;0m"
       ]
      }
     ],
     "prompt_number": 31
    },
    {
     "cell_type": "heading",
     "level": 1,
     "metadata": {},
     "source": [
      "Linear Velocities"
     ]
    },
    {
     "cell_type": "code",
     "collapsed": false,
     "input": [
      "ankle.set_vel(inertial_frame, 0)"
     ],
     "language": "python",
     "metadata": {},
     "outputs": [],
     "prompt_number": 32
    },
    {
     "cell_type": "code",
     "collapsed": false,
     "input": [
      "lower_leg_mass_center.v2pt_theory(ankle, inertial_frame, lower_leg_frame)\n",
      "lower_leg_mass_center.vel(inertial_frame)"
     ],
     "language": "python",
     "metadata": {},
     "outputs": [
      {
       "latex": [
        "$$-  d_{L} \\omega_{1}\\mathbf{\\hat{l}_x}$$"
       ],
       "metadata": {},
       "output_type": "pyout",
       "png": "[encoded data removed]",
       "prompt_number": 33,
       "text": [
        "- d_L\u22c5\u03c9\u2081*\u001b[94m\u001b[1ml_x\u001b[0;0m\u001b[0;0m"
       ]
      }
     ],
     "prompt_number": 33
    },
    {
     "cell_type": "code",
     "collapsed": false,
     "input": [
      "knee.v2pt_theory(ankle, inertial_frame, lower_leg_frame)\n",
      "knee.vel(inertial_frame)"
     ],
     "language": "python",
     "metadata": {},
     "outputs": [
      {
       "latex": [
        "$$-  l_{L} \\omega_{1}\\mathbf{\\hat{l}_x}$$"
       ],
       "metadata": {},
       "output_type": "pyout",
       "png": "[encoded data removed]",
       "prompt_number": 34,
       "text": [
        "- l_L\u22c5\u03c9\u2081*\u001b[94m\u001b[1ml_x\u001b[0;0m\u001b[0;0m"
       ]
      }
     ],
     "prompt_number": 34
    },
    {
     "cell_type": "code",
     "collapsed": false,
     "input": [
      "upper_leg_mass_center.v2pt_theory(knee, inertial_frame, upper_leg_frame)\n",
      "upper_leg_mass_center.vel(inertial_frame)"
     ],
     "language": "python",
     "metadata": {},
     "outputs": [
      {
       "latex": [
        "$$-  l_{L} \\omega_{1}\\mathbf{\\hat{l}_x} -  d_{U} \\left(\\omega_{1} + \\omega_{2}\\right)\\mathbf{\\hat{u}_x}$$"
       ],
       "metadata": {},
       "output_type": "pyout",
       "png": "[encoded data removed]",
       "prompt_number": 35,
       "text": [
        "- l_L\u22c5\u03c9\u2081*\u001b[94m\u001b[1ml_x\u001b[0;0m\u001b[0;0m - d_U\u22c5(\u03c9\u2081 + \u03c9\u2082)*\u001b[94m\u001b[1mu_x\u001b[0;0m\u001b[0;0m"
       ]
      }
     ],
     "prompt_number": 35
    },
    {
     "cell_type": "code",
     "collapsed": false,
     "input": [
      "hip.v2pt_theory(knee, inertial_frame, upper_leg_frame)\n",
      "hip.vel(inertial_frame)"
     ],
     "language": "python",
     "metadata": {},
     "outputs": [
      {
       "latex": [
        "$$-  l_{L} \\omega_{1}\\mathbf{\\hat{l}_x} -  l_{U} \\left(\\omega_{1} + \\omega_{2}\\right)\\mathbf{\\hat{u}_x}$$"
       ],
       "metadata": {},
       "output_type": "pyout",
       "png": "[encoded data removed]",
       "prompt_number": 36,
       "text": [
        "- l_L\u22c5\u03c9\u2081*\u001b[94m\u001b[1ml_x\u001b[0;0m\u001b[0;0m - l_U\u22c5(\u03c9\u2081 + \u03c9\u2082)*\u001b[94m\u001b[1mu_x\u001b[0;0m\u001b[0;0m"
       ]
      }
     ],
     "prompt_number": 36
    },
    {
     "cell_type": "code",
     "collapsed": false,
     "input": [
      "torso_mass_center.v2pt_theory(hip, inertial_frame, torso_frame)\n",
      "torso_mass_center.vel(inertial_frame)"
     ],
     "language": "python",
     "metadata": {},
     "outputs": [
      {
       "latex": [
        "$$-  l_{L} \\omega_{1}\\mathbf{\\hat{l}_x} -  l_{U} \\left(\\omega_{1} + \\omega_{2}\\right)\\mathbf{\\hat{u}_x} -  d_{T} \\left(\\omega_{1} + \\omega_{2} + \\omega_{3}\\right)\\mathbf{\\hat{t}_x}$$"
       ],
       "metadata": {},
       "output_type": "pyout",
       "png": "[encoded data removed]",
       "prompt_number": 37,
       "text": [
        "- l_L\u22c5\u03c9\u2081*\u001b[94m\u001b[1ml_x\u001b[0;0m\u001b[0;0m - l_U\u22c5(\u03c9\u2081 + \u03c9\u2082)*\u001b[94m\u001b[1mu_x\u001b[0;0m\u001b[0;0m - d_T\u22c5(\u03c9\u2081 + \u03c9\u2082 + \u03c9\u2083)*\u001b[94m\u001b[1mt_x\u001b[0;0m\u001b[0;0m"
       ]
      }
     ],
     "prompt_number": 37
    },
    {
     "cell_type": "heading",
     "level": 1,
     "metadata": {},
     "source": [
      "Mass"
     ]
    },
    {
     "cell_type": "code",
     "collapsed": false,
     "input": [
      "lower_leg_mass, upper_leg_mass, torso_mass = symbols('m_L, m_U, m_T')"
     ],
     "language": "python",
     "metadata": {},
     "outputs": [],
     "prompt_number": 38
    },
    {
     "cell_type": "heading",
     "level": 1,
     "metadata": {},
     "source": [
      "Inertia"
     ]
    },
    {
     "cell_type": "code",
     "collapsed": false,
     "input": [
      "lower_leg_inertia, upper_leg_inertia, torso_inertia = symbols('I_Lz, I_Uz, I_Tz')"
     ],
     "language": "python",
     "metadata": {},
     "outputs": [],
     "prompt_number": 39
    },
    {
     "cell_type": "code",
     "collapsed": false,
     "input": [
      "lower_leg_inertia_dyadic = inertia(lower_leg_frame, 0, 0, lower_leg_inertia)\n",
      "lower_leg_inertia_dyadic.to_matrix(lower_leg_frame)"
     ],
     "language": "python",
     "metadata": {},
     "outputs": [
      {
       "latex": [
        "$$\\left[\\begin{matrix}0 & 0 & 0\\\\0 & 0 & 0\\\\0 & 0 & I_{Lz}\\end{matrix}\\right]$$"
       ],
       "metadata": {},
       "output_type": "pyout",
       "png": "[encoded data removed]",
       "prompt_number": 40,
       "text": [
        "\u23a10  0   0  \u23a4\n",
        "\u23a2          \u23a5\n",
        "\u23a20  0   0  \u23a5\n",
        "\u23a2          \u23a5\n",
        "\u23a30  0  I_Lz\u23a6"
       ]
      }
     ],
     "prompt_number": 40
    },
    {
     "cell_type": "code",
     "collapsed": false,
     "input": [
      "lower_leg_central_inertia = (lower_leg_inertia_dyadic, lower_leg_mass_center)"
     ],
     "language": "python",
     "metadata": {},
     "outputs": [],
     "prompt_number": 41
    },
    {
     "cell_type": "code",
     "collapsed": false,
     "input": [
      "upper_leg_inertia_dyadic = inertia(upper_leg_frame, 0, 0, upper_leg_inertia)\n",
      "upper_leg_inertia_dyadic.to_matrix(upper_leg_frame)"
     ],
     "language": "python",
     "metadata": {},
     "outputs": [
      {
       "latex": [
        "$$\\left[\\begin{matrix}0 & 0 & 0\\\\0 & 0 & 0\\\\0 & 0 & I_{Uz}\\end{matrix}\\right]$$"
       ],
       "metadata": {},
       "output_type": "pyout",
       "png": "[encoded data removed]",
       "prompt_number": 42,
       "text": [
        "\u23a10  0   0  \u23a4\n",
        "\u23a2          \u23a5\n",
        "\u23a20  0   0  \u23a5\n",
        "\u23a2          \u23a5\n",
        "\u23a30  0  I_Uz\u23a6"
       ]
      }
     ],
     "prompt_number": 42
    },
    {
     "cell_type": "code",
     "collapsed": false,
     "input": [
      "upper_leg_central_inertia = (upper_leg_inertia_dyadic, upper_leg_mass_center)"
     ],
     "language": "python",
     "metadata": {},
     "outputs": [],
     "prompt_number": 43
    },
    {
     "cell_type": "code",
     "collapsed": false,
     "input": [
      "torso_inertia_dyadic = inertia(torso_frame, 0, 0, torso_inertia)\n",
      "torso_inertia_dyadic.to_matrix(torso_frame)"
     ],
     "language": "python",
     "metadata": {},
     "outputs": [
      {
       "latex": [
        "$$\\left[\\begin{matrix}0 & 0 & 0\\\\0 & 0 & 0\\\\0 & 0 & I_{Tz}\\end{matrix}\\right]$$"
       ],
       "metadata": {},
       "output_type": "pyout",
       "png": "[encoded data removed]",
       "prompt_number": 44,
       "text": [
        "\u23a10  0   0  \u23a4\n",
        "\u23a2          \u23a5\n",
        "\u23a20  0   0  \u23a5\n",
        "\u23a2          \u23a5\n",
        "\u23a30  0  I_Tz\u23a6"
       ]
      }
     ],
     "prompt_number": 44
    },
    {
     "cell_type": "code",
     "collapsed": false,
     "input": [
      "torso_central_inertia = (torso_inertia_dyadic, torso_mass_center)"
     ],
     "language": "python",
     "metadata": {},
     "outputs": [],
     "prompt_number": 45
    },
    {
     "cell_type": "heading",
     "level": 1,
     "metadata": {},
     "source": [
      "Rigid Bodies"
     ]
    },
    {
     "cell_type": "code",
     "collapsed": false,
     "input": [
      "lower_leg = RigidBody('Lower Leg', lower_leg_mass_center, lower_leg_frame,\n",
      "                      lower_leg_mass, lower_leg_central_inertia)"
     ],
     "language": "python",
     "metadata": {},
     "outputs": [],
     "prompt_number": 46
    },
    {
     "cell_type": "code",
     "collapsed": false,
     "input": [
      "upper_leg = RigidBody('Upper Leg', upper_leg_mass_center, upper_leg_frame,\n",
      "                      upper_leg_mass, upper_leg_central_inertia)"
     ],
     "language": "python",
     "metadata": {},
     "outputs": [],
     "prompt_number": 47
    },
    {
     "cell_type": "code",
     "collapsed": false,
     "input": [
      "torso = RigidBody('Torso', torso_mass_center, torso_frame,\n",
      "                  torso_mass, torso_central_inertia)"
     ],
     "language": "python",
     "metadata": {},
     "outputs": [],
     "prompt_number": 48
    },
    {
     "cell_type": "heading",
     "level": 1,
     "metadata": {},
     "source": [
      "Gravity"
     ]
    },
    {
     "cell_type": "code",
     "collapsed": false,
     "input": [
      "g = symbols('g')"
     ],
     "language": "python",
     "metadata": {},
     "outputs": [],
     "prompt_number": 49
    },
    {
     "cell_type": "code",
     "collapsed": false,
     "input": [
      "lower_leg_grav_force = (lower_leg_mass_center, -lower_leg_mass * g * inertial_frame.y)\n",
      "upper_leg_grav_force = (upper_leg_mass_center, -upper_leg_mass * g * inertial_frame.y)\n",
      "torso_grav_force = (torso_mass_center, -torso_mass * g * inertial_frame.y)"
     ],
     "language": "python",
     "metadata": {},
     "outputs": [],
     "prompt_number": 50
    },
    {
     "cell_type": "heading",
     "level": 1,
     "metadata": {},
     "source": [
      "Joint Torques"
     ]
    },
    {
     "cell_type": "markdown",
     "metadata": {},
     "source": [
      "Ankle, knee, and hip joint torques."
     ]
    },
    {
     "cell_type": "code",
     "collapsed": false,
     "input": [
      "ankle_torque, knee_torque, hip_torque = dynamicsymbols('T_a, T_k, T_h')"
     ],
     "language": "python",
     "metadata": {},
     "outputs": [],
     "prompt_number": 51
    },
    {
     "cell_type": "code",
     "collapsed": false,
     "input": [
      "lower_leg_torque = (lower_leg_frame, ankle_torque * inertial_frame.z - knee_torque * inertial_frame.z)\n",
      "upper_leg_torque = (upper_leg_frame, knee_torque * inertial_frame.z - hip_torque * inertial_frame.z)\n",
      "torso_torque = (torso_frame, hip_torque * inertial_frame.z)"
     ],
     "language": "python",
     "metadata": {},
     "outputs": [],
     "prompt_number": 52
    },
    {
     "cell_type": "heading",
     "level": 1,
     "metadata": {},
     "source": [
      "Equations of Motion"
     ]
    },
    {
     "cell_type": "code",
     "collapsed": false,
     "input": [
      "coordinates = [theta1, theta2, theta3]"
     ],
     "language": "python",
     "metadata": {},
     "outputs": [],
     "prompt_number": 53
    },
    {
     "cell_type": "code",
     "collapsed": false,
     "input": [
      "speeds = [omega1, omega2, omega3]"
     ],
     "language": "python",
     "metadata": {},
     "outputs": [],
     "prompt_number": 54
    },
    {
     "cell_type": "code",
     "collapsed": false,
     "input": [
      "kane = KanesMethod(inertial_frame, coordinates, speeds, kinematical_differential_equations)"
     ],
     "language": "python",
     "metadata": {},
     "outputs": [],
     "prompt_number": 55
    },
    {
     "cell_type": "code",
     "collapsed": false,
     "input": [
      "loads = [lower_leg_grav_force,\n",
      "         upper_leg_grav_force,\n",
      "         torso_grav_force, \n",
      "         lower_leg_torque,\n",
      "         upper_leg_torque,\n",
      "         torso_torque]"
     ],
     "language": "python",
     "metadata": {},
     "outputs": [],
     "prompt_number": 56
    },
    {
     "cell_type": "code",
     "collapsed": false,
     "input": [
      "bodies = [lower_leg, upper_leg, torso]"
     ],
     "language": "python",
     "metadata": {},
     "outputs": [],
     "prompt_number": 57
    },
    {
     "cell_type": "code",
     "collapsed": false,
     "input": [
      "fr, frstar = kane.kanes_equations(loads, bodies)"
     ],
     "language": "python",
     "metadata": {},
     "outputs": [],
     "prompt_number": 58
    },
    {
     "cell_type": "code",
     "collapsed": false,
     "input": [
      "trigsimp(kane.mass_matrix_full)"
     ],
     "language": "python",
     "metadata": {},
     "outputs": [
      {
       "latex": [
        "$$\\left[\\begin{matrix}1 & 0 & 0 & 0 & 0 & 0\\\\0 & 1 & 0 & 0 & 0 & 0\\\\0 & 0 & 1 & 0 & 0 & 0\\\\0 & 0 & 0 & I_{Lz} + I_{Tz} + I_{Uz} + d_{L}^{2} m_{L} + m_{T} \\left(d_{T}^{2} + 2 d_{T} l_{L} \\cos{\\left (\\theta_{2}{\\left (t \\right )} + \\theta_{3}{\\left (t \\right )} \\right )} + 2 d_{T} l_{U} \\cos{\\left (\\theta_{3}{\\left (t \\right )} \\right )} + l_{L}^{2} + 2 l_{L} l_{U} \\cos{\\left (\\theta_{2}{\\left (t \\right )} \\right )} + l_{U}^{2}\\right) + m_{U} \\left(d_{U}^{2} + 2 d_{U} l_{L} \\cos{\\left (\\theta_{2}{\\left (t \\right )} \\right )} + l_{L}^{2}\\right) & I_{Tz} + I_{Uz} + d_{U} m_{U} \\left(d_{U} + l_{L} \\cos{\\left (\\theta_{2}{\\left (t \\right )} \\right )}\\right) + m_{T} \\left(d_{T}^{2} + d_{T} l_{L} \\cos{\\left (\\theta_{2}{\\left (t \\right )} + \\theta_{3}{\\left (t \\right )} \\right )} + 2 d_{T} l_{U} \\cos{\\left (\\theta_{3}{\\left (t \\right )} \\right )} + l_{L} l_{U} \\cos{\\left (\\theta_{2}{\\left (t \\right )} \\right )} + l_{U}^{2}\\right) & I_{Tz} + d_{T} m_{T} \\left(d_{T} + l_{L} \\cos{\\left (\\theta_{2}{\\left (t \\right )} + \\theta_{3}{\\left (t \\right )} \\right )} + l_{U} \\cos{\\left (\\theta_{3}{\\left (t \\right )} \\right )}\\right)\\\\0 & 0 & 0 & I_{Tz} + I_{Uz} + d_{U} m_{U} \\left(d_{U} + l_{L} \\cos{\\left (\\theta_{2}{\\left (t \\right )} \\right )}\\right) + m_{T} \\left(d_{T}^{2} + d_{T} l_{L} \\cos{\\left (\\theta_{2}{\\left (t \\right )} + \\theta_{3}{\\left (t \\right )} \\right )} + 2 d_{T} l_{U} \\cos{\\left (\\theta_{3}{\\left (t \\right )} \\right )} + l_{L} l_{U} \\cos{\\left (\\theta_{2}{\\left (t \\right )} \\right )} + l_{U}^{2}\\right) & I_{Tz} + I_{Uz} + d_{U}^{2} m_{U} + m_{T} \\left(d_{T}^{2} + 2 d_{T} l_{U} \\cos{\\left (\\theta_{3}{\\left (t \\right )} \\right )} + l_{U}^{2}\\right) & I_{Tz} + d_{T} m_{T} \\left(d_{T} + l_{U} \\cos{\\left (\\theta_{3}{\\left (t \\right )} \\right )}\\right)\\\\0 & 0 & 0 & I_{Tz} + d_{T} m_{T} \\left(d_{T} + l_{L} \\cos{\\left (\\theta_{2}{\\left (t \\right )} + \\theta_{3}{\\left (t \\right )} \\right )} + l_{U} \\cos{\\left (\\theta_{3}{\\left (t \\right )} \\right )}\\right) & I_{Tz} + d_{T} m_{T} \\left(d_{T} + l_{U} \\cos{\\left (\\theta_{3}{\\left (t \\right )} \\right )}\\right) & I_{Tz} + d_{T}^{2} m_{T}\\end{matrix}\\right]$$"
       ],
       "metadata": {},
       "output_type": "pyout",
       "png": "[encoded data removed]",
       "prompt_number": 59,
       "text": [
        "\u23a11  0  0                                                                      \n",
        "\u23a2                                                                             \n",
        "\u23a20  1  0                                                                      \n",
        "\u23a2                                                                             \n",
        "\u23a20  0  1                                                                      \n",
        "\u23a2                                                                             \n",
        "\u23a2                                 2           \u239b   2                           \n",
        "\u23a20  0  0  I_Lz + I_Tz + I_Uz + d_L \u22c5m_L + m_T\u22c5\u239dd_T  + 2\u22c5d_T\u22c5l_L\u22c5cos(\u03b8\u2082(t) + \u03b8\u2083\n",
        "\u23a2                                                                             \n",
        "\u23a2                                                                             \n",
        "\u23a20  0  0                     I_Tz + I_Uz + d_U\u22c5m_U\u22c5(d_U + l_L\u22c5cos(\u03b8\u2082(t))) + m_\n",
        "\u23a2                                                                             \n",
        "\u23a2                                                                             \n",
        "\u23a30  0  0                                                           I_Tz + d_T\u22c5\n",
        "\n",
        "                   0                                                          \n",
        "                                                                              \n",
        "                   0                                                          \n",
        "                                                                              \n",
        "                   0                                                          \n",
        "                                                                              \n",
        "                                 2                             2\u239e       \u239b   2 \n",
        "(t)) + 2\u22c5d_T\u22c5l_U\u22c5cos(\u03b8\u2083(t)) + l_L  + 2\u22c5l_L\u22c5l_U\u22c5cos(\u03b8\u2082(t)) + l_U \u23a0 + m_U\u22c5\u239dd_U  \n",
        "                                                                              \n",
        "  \u239b   2                                                                       \n",
        "T\u22c5\u239dd_T  + d_T\u22c5l_L\u22c5cos(\u03b8\u2082(t) + \u03b8\u2083(t)) + 2\u22c5d_T\u22c5l_U\u22c5cos(\u03b8\u2083(t)) + l_L\u22c5l_U\u22c5cos(\u03b8\u2082(t\n",
        "                                                                              \n",
        "                                                                              \n",
        "m_T\u22c5(d_T + l_L\u22c5cos(\u03b8\u2082(t) + \u03b8\u2083(t)) + l_U\u22c5cos(\u03b8\u2083(t)))                           \n",
        "\n",
        "                                                                              \n",
        "                                                                              \n",
        "                                                                              \n",
        "                                                                              \n",
        "                                                                              \n",
        "                                                                              \n",
        "                            2\u239e                                                \n",
        "+ 2\u22c5d_U\u22c5l_L\u22c5cos(\u03b8\u2082(t)) + l_L \u23a0  I_Tz + I_Uz + d_U\u22c5m_U\u22c5(d_U + l_L\u22c5cos(\u03b8\u2082(t))) +\n",
        "                                                                              \n",
        "        2\u239e                                                                    \n",
        ")) + l_U \u23a0                                                          I_Tz + I_U\n",
        "                                                                              \n",
        "                                                                              \n",
        "                                                                              \n",
        "\n",
        "                      0                                                       \n",
        "                                                                              \n",
        "                      0                                                       \n",
        "                                                                              \n",
        "                      0                                                       \n",
        "                                                                              \n",
        "     \u239b   2                                                                    \n",
        " m_T\u22c5\u239dd_T  + d_T\u22c5l_L\u22c5cos(\u03b8\u2082(t) + \u03b8\u2083(t)) + 2\u22c5d_T\u22c5l_U\u22c5cos(\u03b8\u2083(t)) + l_L\u22c5l_U\u22c5cos(\u03b8\n",
        "                                                                              \n",
        "       2           \u239b   2                             2\u239e                       \n",
        "z + d_U \u22c5m_U + m_T\u22c5\u239dd_T  + 2\u22c5d_T\u22c5l_U\u22c5cos(\u03b8\u2083(t)) + l_U \u23a0                       \n",
        "                                                                              \n",
        "                                                                              \n",
        "    I_Tz + d_T\u22c5m_T\u22c5(d_T + l_U\u22c5cos(\u03b8\u2083(t)))                                     \n",
        "\n",
        "                                             0                               \u23a4\n",
        "                                                                             \u23a5\n",
        "                                             0                               \u23a5\n",
        "                                                                             \u23a5\n",
        "                                             0                               \u23a5\n",
        "                                                                             \u23a5\n",
        "           2\u239e                                                                \u23a5\n",
        "\u2082(t)) + l_U \u23a0  I_Tz + d_T\u22c5m_T\u22c5(d_T + l_L\u22c5cos(\u03b8\u2082(t) + \u03b8\u2083(t)) + l_U\u22c5cos(\u03b8\u2083(t)))\u23a5\n",
        "                                                                             \u23a5\n",
        "                                                                             \u23a5\n",
        "                           I_Tz + d_T\u22c5m_T\u22c5(d_T + l_U\u22c5cos(\u03b8\u2083(t)))             \u23a5\n",
        "                                                                             \u23a5\n",
        "                                                2                            \u23a5\n",
        "                                      I_Tz + d_T \u22c5m_T                        \u23a6"
       ]
      }
     ],
     "prompt_number": 59
    },
    {
     "cell_type": "code",
     "collapsed": false,
     "input": [
      "trigsimp(kane.forcing_full)"
     ],
     "language": "python",
     "metadata": {},
     "outputs": [
      {
       "latex": [
        "$$\\left[\\begin{matrix}\\omega_{1}{\\left (t \\right )}\\\\\\omega_{2}{\\left (t \\right )}\\\\\\omega_{3}{\\left (t \\right )}\\\\d_{L} g m_{L} \\sin{\\left (\\theta_{1}{\\left (t \\right )} \\right )} + d_{T} g m_{T} \\sin{\\left (\\theta_{1}{\\left (t \\right )} + \\theta_{2}{\\left (t \\right )} + \\theta_{3}{\\left (t \\right )} \\right )} + d_{T} l_{L} m_{T} \\left(\\omega_{1}{\\left (t \\right )} + \\omega_{2}{\\left (t \\right )} + \\omega_{3}{\\left (t \\right )}\\right)^{2} \\sin{\\left (\\theta_{2}{\\left (t \\right )} + \\theta_{3}{\\left (t \\right )} \\right )} - d_{T} l_{L} m_{T} \\omega_{1}^{2}{\\left (t \\right )} \\sin{\\left (\\theta_{2}{\\left (t \\right )} + \\theta_{3}{\\left (t \\right )} \\right )} - d_{T} l_{U} m_{T} \\left(\\omega_{1}{\\left (t \\right )} + \\omega_{2}{\\left (t \\right )}\\right)^{2} \\sin{\\left (\\theta_{3}{\\left (t \\right )} \\right )} + d_{T} l_{U} m_{T} \\left(\\omega_{1}{\\left (t \\right )} + \\omega_{2}{\\left (t \\right )} + \\omega_{3}{\\left (t \\right )}\\right)^{2} \\sin{\\left (\\theta_{3}{\\left (t \\right )} \\right )} + d_{U} g m_{U} \\sin{\\left (\\theta_{1}{\\left (t \\right )} + \\theta_{2}{\\left (t \\right )} \\right )} + d_{U} l_{L} m_{U} \\left(\\omega_{1}{\\left (t \\right )} + \\omega_{2}{\\left (t \\right )}\\right)^{2} \\sin{\\left (\\theta_{2}{\\left (t \\right )} \\right )} - d_{U} l_{L} m_{U} \\omega_{1}^{2}{\\left (t \\right )} \\sin{\\left (\\theta_{2}{\\left (t \\right )} \\right )} + g l_{L} m_{T} \\sin{\\left (\\theta_{1}{\\left (t \\right )} \\right )} + g l_{L} m_{U} \\sin{\\left (\\theta_{1}{\\left (t \\right )} \\right )} + g l_{U} m_{T} \\sin{\\left (\\theta_{1}{\\left (t \\right )} + \\theta_{2}{\\left (t \\right )} \\right )} + l_{L} l_{U} m_{T} \\left(\\omega_{1}{\\left (t \\right )} + \\omega_{2}{\\left (t \\right )}\\right)^{2} \\sin{\\left (\\theta_{2}{\\left (t \\right )} \\right )} - l_{L} l_{U} m_{T} \\omega_{1}^{2}{\\left (t \\right )} \\sin{\\left (\\theta_{2}{\\left (t \\right )} \\right )} + \\operatorname{T_{a}}{\\left (t \\right )}\\\\d_{T} g m_{T} \\sin{\\left (\\theta_{1}{\\left (t \\right )} + \\theta_{2}{\\left (t \\right )} + \\theta_{3}{\\left (t \\right )} \\right )} - d_{T} l_{L} m_{T} \\omega_{1}^{2}{\\left (t \\right )} \\sin{\\left (\\theta_{2}{\\left (t \\right )} + \\theta_{3}{\\left (t \\right )} \\right )} - d_{T} l_{U} m_{T} \\left(\\omega_{1}{\\left (t \\right )} + \\omega_{2}{\\left (t \\right )}\\right)^{2} \\sin{\\left (\\theta_{3}{\\left (t \\right )} \\right )} + d_{T} l_{U} m_{T} \\left(\\omega_{1}{\\left (t \\right )} + \\omega_{2}{\\left (t \\right )} + \\omega_{3}{\\left (t \\right )}\\right)^{2} \\sin{\\left (\\theta_{3}{\\left (t \\right )} \\right )} + d_{U} g m_{U} \\sin{\\left (\\theta_{1}{\\left (t \\right )} + \\theta_{2}{\\left (t \\right )} \\right )} - d_{U} l_{L} m_{U} \\omega_{1}^{2}{\\left (t \\right )} \\sin{\\left (\\theta_{2}{\\left (t \\right )} \\right )} + g l_{U} m_{T} \\sin{\\left (\\theta_{1}{\\left (t \\right )} + \\theta_{2}{\\left (t \\right )} \\right )} - l_{L} l_{U} m_{T} \\omega_{1}^{2}{\\left (t \\right )} \\sin{\\left (\\theta_{2}{\\left (t \\right )} \\right )} + \\operatorname{T_{k}}{\\left (t \\right )}\\\\d_{T} g m_{T} \\sin{\\left (\\theta_{1}{\\left (t \\right )} + \\theta_{2}{\\left (t \\right )} + \\theta_{3}{\\left (t \\right )} \\right )} - d_{T} l_{L} m_{T} \\omega_{1}^{2}{\\left (t \\right )} \\sin{\\left (\\theta_{2}{\\left (t \\right )} + \\theta_{3}{\\left (t \\right )} \\right )} - d_{T} l_{U} m_{T} \\left(\\omega_{1}{\\left (t \\right )} + \\omega_{2}{\\left (t \\right )}\\right)^{2} \\sin{\\left (\\theta_{3}{\\left (t \\right )} \\right )} + \\operatorname{T_{h}}{\\left (t \\right )}\\end{matrix}\\right]$$"
       ],
       "metadata": {},
       "output_type": "pyout",
       "png": "[encoded data removed]",
       "prompt_number": 60,
       "text": [
        "\u23a1                                                                             \n",
        "\u23a2                                                                             \n",
        "\u23a2                                                                             \n",
        "\u23a2                                                                             \n",
        "\u23a2                                                                             \n",
        "\u23a2                                                                             \n",
        "\u23a2                                                                             \n",
        "\u23a2d_L\u22c5g\u22c5m_L\u22c5sin(\u03b8\u2081(t)) + d_T\u22c5g\u22c5m_T\u22c5sin(\u03b8\u2081(t) + \u03b8\u2082(t) + \u03b8\u2083(t)) + d_T\u22c5l_L\u22c5m_T\u22c5(\u03c9\u2081\n",
        "\u23a2                                                                             \n",
        "\u23a2                                                                             \n",
        "\u23a2                                                                             \n",
        "\u23a2                                                                             \n",
        "\u23a2                                                                             \n",
        "\u23a3                                                                             \n",
        "\n",
        "                                                                              \n",
        "                                                                              \n",
        "                                                                              \n",
        "                                                                              \n",
        "                                                                              \n",
        "                                                                              \n",
        "                    2                                    2                    \n",
        "(t) + \u03c9\u2082(t) + \u03c9\u2083(t)) \u22c5sin(\u03b8\u2082(t) + \u03b8\u2083(t)) - d_T\u22c5l_L\u22c5m_T\u22c5\u03c9\u2081 (t)\u22c5sin(\u03b8\u2082(t) + \u03b8\u2083(t\n",
        "                                                                              \n",
        "                                                                              \n",
        "                            d_T\u22c5g\u22c5m_T\u22c5sin(\u03b8\u2081(t) + \u03b8\u2082(t) + \u03b8\u2083(t)) - d_T\u22c5l_L\u22c5m_T\n",
        "                                                                              \n",
        "                                                                              \n",
        "                                                                              \n",
        "\n",
        "                                                                              \n",
        "                                                                              \n",
        "                                                                              \n",
        "                                                                              \n",
        "                                                                              \n",
        "                                                                              \n",
        "                                2                                             \n",
        ")) - d_T\u22c5l_U\u22c5m_T\u22c5(\u03c9\u2081(t) + \u03c9\u2082(t)) \u22c5sin(\u03b8\u2083(t)) + d_T\u22c5l_U\u22c5m_T\u22c5(\u03c9\u2081(t) + \u03c9\u2082(t) + \u03c9\u2083\n",
        "                                                                              \n",
        "   2                                                    2                     \n",
        "\u22c5\u03c9\u2081 (t)\u22c5sin(\u03b8\u2082(t) + \u03b8\u2083(t)) - d_T\u22c5l_U\u22c5m_T\u22c5(\u03c9\u2081(t) + \u03c9\u2082(t)) \u22c5sin(\u03b8\u2083(t)) + d_T\u22c5l_U\n",
        "                                                                              \n",
        "                                                                              \n",
        "                                      d_T\u22c5g\u22c5m_T\u22c5sin(\u03b8\u2081(t) + \u03b8\u2082(t) + \u03b8\u2083(t)) - d\n",
        "\n",
        "                     \u03c9\u2081(t)                                                    \n",
        "                                                                              \n",
        "                     \u03c9\u2082(t)                                                    \n",
        "                                                                              \n",
        "                     \u03c9\u2083(t)                                                    \n",
        "                                                                              \n",
        "    2                                                                        2\n",
        "(t)) \u22c5sin(\u03b8\u2083(t)) + d_U\u22c5g\u22c5m_U\u22c5sin(\u03b8\u2081(t) + \u03b8\u2082(t)) + d_U\u22c5l_L\u22c5m_U\u22c5(\u03c9\u2081(t) + \u03c9\u2082(t)) \n",
        "                                                                              \n",
        "                            2                                                 \n",
        "\u22c5m_T\u22c5(\u03c9\u2081(t) + \u03c9\u2082(t) + \u03c9\u2083(t)) \u22c5sin(\u03b8\u2083(t)) + d_U\u22c5g\u22c5m_U\u22c5sin(\u03b8\u2081(t) + \u03b8\u2082(t)) - d_U\u22c5\n",
        "                                                                              \n",
        "             2                                                    2           \n",
        "_T\u22c5l_L\u22c5m_T\u22c5\u03c9\u2081 (t)\u22c5sin(\u03b8\u2082(t) + \u03b8\u2083(t)) - d_T\u22c5l_U\u22c5m_T\u22c5(\u03c9\u2081(t) + \u03c9\u2082(t)) \u22c5sin(\u03b8\u2083(t))\n",
        "\n",
        "                                                                              \n",
        "                                                                              \n",
        "                                                                              \n",
        "                                                                              \n",
        "                                                                              \n",
        "                                                                              \n",
        "                            2                                                 \n",
        "\u22c5sin(\u03b8\u2082(t)) - d_U\u22c5l_L\u22c5m_U\u22c5\u03c9\u2081 (t)\u22c5sin(\u03b8\u2082(t)) + g\u22c5l_L\u22c5m_T\u22c5sin(\u03b8\u2081(t)) + g\u22c5l_L\u22c5m_U\n",
        "                                                                              \n",
        "          2                                                              2    \n",
        "l_L\u22c5m_U\u22c5\u03c9\u2081 (t)\u22c5sin(\u03b8\u2082(t)) + g\u22c5l_U\u22c5m_T\u22c5sin(\u03b8\u2081(t) + \u03b8\u2082(t)) - l_L\u22c5l_U\u22c5m_T\u22c5\u03c9\u2081 (t)\u22c5\n",
        "                                                                              \n",
        "                                                                              \n",
        " + T_h(t)                                                                     \n",
        "\n",
        "                                                                              \n",
        "                                                                              \n",
        "                                                                              \n",
        "                                                                              \n",
        "                                                                              \n",
        "                                                                              \n",
        "                                                                        2     \n",
        "\u22c5sin(\u03b8\u2081(t)) + g\u22c5l_U\u22c5m_T\u22c5sin(\u03b8\u2081(t) + \u03b8\u2082(t)) + l_L\u22c5l_U\u22c5m_T\u22c5(\u03c9\u2081(t) + \u03c9\u2082(t)) \u22c5sin(\n",
        "                                                                              \n",
        "                                                                              \n",
        "sin(\u03b8\u2082(t)) + T_k(t)                                                           \n",
        "                                                                              \n",
        "                                                                              \n",
        "                                                                              \n",
        "\n",
        "                                              \u23a4\n",
        "                                              \u23a5\n",
        "                                              \u23a5\n",
        "                                              \u23a5\n",
        "                                              \u23a5\n",
        "                                              \u23a5\n",
        "                       2                      \u23a5\n",
        "\u03b8\u2082(t)) - l_L\u22c5l_U\u22c5m_T\u22c5\u03c9\u2081 (t)\u22c5sin(\u03b8\u2082(t)) + T\u2090(t)\u23a5\n",
        "                                              \u23a5\n",
        "                                              \u23a5\n",
        "                                              \u23a5\n",
        "                                              \u23a5\n",
        "                                              \u23a5\n",
        "                                              \u23a6"
       ]
      }
     ],
     "prompt_number": 60
    },
    {
     "cell_type": "heading",
     "level": 1,
     "metadata": {},
     "source": [
      "Numerical"
     ]
    },
    {
     "cell_type": "heading",
     "level": 2,
     "metadata": {},
     "source": [
      "EoMs"
     ]
    },
    {
     "cell_type": "code",
     "collapsed": false,
     "input": [
      "mass_matrix = kane.mass_matrix_full\n",
      "forcing_vector = kane.forcing_full"
     ],
     "language": "python",
     "metadata": {},
     "outputs": [],
     "prompt_number": 61
    },
    {
     "cell_type": "heading",
     "level": 2,
     "metadata": {},
     "source": [
      "Constants"
     ]
    },
    {
     "cell_type": "code",
     "collapsed": false,
     "input": [
      "constants = [lower_leg_length,\n",
      "             lower_leg_com_length,\n",
      "             lower_leg_mass,\n",
      "             lower_leg_inertia,\n",
      "             upper_leg_length,\n",
      "             upper_leg_com_length,\n",
      "             upper_leg_mass,\n",
      "             upper_leg_inertia,\n",
      "             torso_com_length,\n",
      "             torso_mass,            \n",
      "             torso_inertia,\n",
      "             g]\n",
      "constants\n",
      "             "
     ],
     "language": "python",
     "metadata": {},
     "outputs": [
      {
       "latex": [
        "$$\\begin{bmatrix}l_{L}, & d_{L}, & m_{L}, & I_{Lz}, & l_{U}, & d_{U}, & m_{U}, & I_{Uz}, & d_{T}, & m_{T}, & I_{Tz}, & g\\end{bmatrix}$$"
       ],
       "metadata": {},
       "output_type": "pyout",
       "prompt_number": 62,
       "text": [
        "[l_L, d_L, m_L, I_Lz, l_U, d_U, m_U, I_Uz, d_T, m_T, I_Tz, g]"
       ]
      }
     ],
     "prompt_number": 62
    },
    {
     "cell_type": "heading",
     "level": 2,
     "metadata": {},
     "source": [
      "Time Varying"
     ]
    },
    {
     "cell_type": "code",
     "collapsed": false,
     "input": [
      "coordinates = [theta1, theta2, theta3]\n",
      "coordinates"
     ],
     "language": "python",
     "metadata": {},
     "outputs": [
      {
       "latex": [
        "$$\\begin{bmatrix}\\theta_{1}{\\left (t \\right )}, & \\theta_{2}{\\left (t \\right )}, & \\theta_{3}{\\left (t \\right )}\\end{bmatrix}$$"
       ],
       "metadata": {},
       "output_type": "pyout",
       "png": "[encoded data removed]",
       "prompt_number": 63,
       "text": [
        "[\u03b8\u2081(t), \u03b8\u2082(t), \u03b8\u2083(t)]"
       ]
      }
     ],
     "prompt_number": 63
    },
    {
     "cell_type": "code",
     "collapsed": false,
     "input": [
      "speeds = [omega1, omega2, omega3]\n",
      "speeds"
     ],
     "language": "python",
     "metadata": {},
     "outputs": [
      {
       "latex": [
        "$$\\begin{bmatrix}\\omega_{1}{\\left (t \\right )}, & \\omega_{2}{\\left (t \\right )}, & \\omega_{3}{\\left (t \\right )}\\end{bmatrix}$$"
       ],
       "metadata": {},
       "output_type": "pyout",
       "png": "[encoded data removed]",
       "prompt_number": 64,
       "text": [
        "[\u03c9\u2081(t), \u03c9\u2082(t), \u03c9\u2083(t)]"
       ]
      }
     ],
     "prompt_number": 64
    },
    {
     "cell_type": "code",
     "collapsed": false,
     "input": [
      "specified = [ankle_torque, knee_torque, hip_torque]\n",
      "specified"
     ],
     "language": "python",
     "metadata": {},
     "outputs": [
      {
       "latex": [
        "$$\\begin{bmatrix}\\operatorname{T_{a}}{\\left (t \\right )}, & \\operatorname{T_{k}}{\\left (t \\right )}, & \\operatorname{T_{h}}{\\left (t \\right )}\\end{bmatrix}$$"
       ],
       "metadata": {},
       "output_type": "pyout",
       "png": "[encoded data removed]",
       "prompt_number": 65,
       "text": [
        "[T\u2090(t), T_k(t), T_h(t)]"
       ]
      }
     ],
     "prompt_number": 65
    },
    {
     "cell_type": "heading",
     "level": 1,
     "metadata": {},
     "source": [
      "Generate RHS Function"
     ]
    },
    {
     "cell_type": "code",
     "collapsed": false,
     "input": [
      "from pydy_code_gen.code import numeric_right_hand_side"
     ],
     "language": "python",
     "metadata": {},
     "outputs": [],
     "prompt_number": 66
    },
    {
     "cell_type": "code",
     "collapsed": false,
     "input": [
      "right_hand_side = numeric_right_hand_side(mass_matrix, forcing_vector, \n",
      "                                          constants,\n",
      "                                          coordinates, speeds, specified)"
     ],
     "language": "python",
     "metadata": {},
     "outputs": [],
     "prompt_number": 67
    },
    {
     "cell_type": "code",
     "collapsed": false,
     "input": [
      "type(right_hand_side)"
     ],
     "language": "python",
     "metadata": {},
     "outputs": [
      {
       "metadata": {},
       "output_type": "pyout",
       "prompt_number": 68,
       "text": [
        "function"
       ]
      }
     ],
     "prompt_number": 68
    },
    {
     "cell_type": "code",
     "collapsed": false,
     "input": [
      "help(right_hand_side)"
     ],
     "language": "python",
     "metadata": {},
     "outputs": [
      {
       "output_type": "stream",
       "stream": "stdout",
       "text": [
        "Help on function right_hand_side in module pydy_code_gen.code:\n",
        "\n",
        "right_hand_side(x, t, args)\n",
        "    Returns the derivatives of the states.\n",
        "    \n",
        "    Parameters\n",
        "    ----------\n",
        "    x : ndarray, shape(6,)\n",
        "        The current state vector:\n",
        "            theta1(t), theta2(t), theta3(t), omega1(t), omega2(t), omega3(t)\n",
        "    t : float\n",
        "        The current time.\n",
        "    args : dictionary\n",
        "        constants : ndarray, shape(12,)\n",
        "            l_L, d_L, m_L, I_Lz, l_U, d_U, m_U, I_Uz, d_T, m_T, I_Tz, g\n",
        "        specified : ndarray, shape(3,) or a function\n",
        "            If this is a function it must be of the form f(x, t), where\n",
        "            x is the current state vector and t is the current time and\n",
        "            it must return an ndarray of the correct shape.\n",
        "            T_a(t), T_k(t), T_h(t)\n",
        "    \n",
        "    Returns\n",
        "    -------\n",
        "    dx : ndarray, shape(6,)\n",
        "        The derivative of the state vector.\n",
        "\n"
       ]
      }
     ],
     "prompt_number": 69
    },
    {
     "cell_type": "code",
     "collapsed": false,
     "input": [
      "from scipy.integrate import odeint\n",
      "\n",
      "x0 = np.deg2rad(2.0) * np.ones(len(coordinates) + len(speeds))\n",
      "\n",
      "# taken from male1.txt in yeadon (maybe I should use the values in Winters).\n",
      "numerical_constants = np.array([0.387,  # lower_leg_length [m]\n",
      "                                0.611,  # lower_leg_com_length [m]\n",
      "                                6.769,  # lower_leg_mass [kg]\n",
      "                                0.101,  # lower_leg_inertia [kg*m^2]\n",
      "                                0.424,  # upper_leg_length [m]\n",
      "                                0.193,  # upper_leg_com_length\n",
      "                                17.01,  # upper_leg_mass [kg]\n",
      "                                0.282,  # upper_leg_inertia [kg*m^2]\n",
      "                                0.305,  # torso_com_length [m]\n",
      "                                32.44,  # torso_mass [kg]\n",
      "                                1.485,  # torso_inertia [kg*m^2]\n",
      "                                9.81],  # acceleration due to gravity [m/s^2]\n",
      "                                ) \n",
      "\n",
      "args = {'constants': numerical_constants,\n",
      "        'specified': np.array([0.0, 0.0, 0.0])}\n",
      "\n",
      "frames_per_sec = 60\n",
      "\n",
      "t = np.linspace(0.0, 10.0, 10 * frames_per_sec)"
     ],
     "language": "python",
     "metadata": {},
     "outputs": [],
     "prompt_number": 70
    },
    {
     "cell_type": "code",
     "collapsed": false,
     "input": [
      "right_hand_side(np.random.random(6), 0.1, args)"
     ],
     "language": "python",
     "metadata": {},
     "outputs": [
      {
       "metadata": {},
       "output_type": "pyout",
       "prompt_number": 71,
       "text": [
        "array([  0.03436671,   0.04998247,   0.47489143,  -3.81272234,\n",
        "        23.46670387, -10.41861856])"
       ]
      }
     ],
     "prompt_number": 71
    },
    {
     "cell_type": "code",
     "collapsed": false,
     "input": [
      "y = odeint(right_hand_side, x0, t, args=(args,))"
     ],
     "language": "python",
     "metadata": {},
     "outputs": [],
     "prompt_number": 72
    },
    {
     "cell_type": "code",
     "collapsed": false,
     "input": [
      "y.shape"
     ],
     "language": "python",
     "metadata": {},
     "outputs": [
      {
       "latex": [
        "$$\\begin{pmatrix}600, & 6\\end{pmatrix}$$"
       ],
       "metadata": {},
       "output_type": "pyout",
       "png": "[encoded data removed]",
       "prompt_number": 73,
       "text": [
        "(600, 6)"
       ]
      }
     ],
     "prompt_number": 73
    },
    {
     "cell_type": "code",
     "collapsed": false,
     "input": [
      "figsize(14.0, 6.0)"
     ],
     "language": "python",
     "metadata": {},
     "outputs": [],
     "prompt_number": 74
    },
    {
     "cell_type": "code",
     "collapsed": false,
     "input": [
      "plt.plot(t, np.rad2deg(y[:, :3]))\n",
      "plt.legend([\"${}$\".format(latex(c)) for c in coordinates])"
     ],
     "language": "python",
     "metadata": {},
     "outputs": [
      {
       "metadata": {},
       "output_type": "pyout",
       "prompt_number": 75,
       "text": [
        "<matplotlib.legend.Legend at 0x6750d90>"
       ]
      },
      {
       "metadata": {},
       "output_type": "display_data",
       "png": "[encoded data removed]",
       "text": [
        "<matplotlib.figure.Figure at 0x537cf10>"
       ]
      }
     ],
     "prompt_number": 75
    },
    {
     "cell_type": "code",
     "collapsed": false,
     "input": [
      "plt.plot(t, np.rad2deg(y[:, 3:]))\n",
      "plt.legend([\"${}$\".format(latex(s)) for s in speeds])"
     ],
     "language": "python",
     "metadata": {},
     "outputs": [
      {
       "metadata": {},
       "output_type": "pyout",
       "prompt_number": 76,
       "text": [
        "<matplotlib.legend.Legend at 0x6750810>"
       ]
      },
      {
       "metadata": {},
       "output_type": "display_data",
       "png": "[encoded data removed]",
       "text": [
        "<matplotlib.figure.Figure at 0x682bcd0>"
       ]
      }
     ],
     "prompt_number": 76
    },
    {
     "cell_type": "heading",
     "level": 1,
     "metadata": {},
     "source": [
      "Visualization"
     ]
    },
    {
     "cell_type": "code",
     "collapsed": false,
     "input": [
      "from pydy_viz.shapes import Cylinder, Sphere\n",
      "from pydy_viz.visualization_frame import VisualizationFrame\n",
      "from pydy_viz.scene import Scene"
     ],
     "language": "python",
     "metadata": {},
     "outputs": [],
     "prompt_number": 77
    },
    {
     "cell_type": "code",
     "collapsed": false,
     "input": [
      "ankle_shape = Sphere(color='blue', radius=0.04)\n",
      "knee_shape = Sphere(color='red', radius=0.04)\n",
      "hip_shape = Sphere(color='green', radius=0.04)\n",
      "torso_com_shape = Sphere(color='orange', radius=0.04)"
     ],
     "language": "python",
     "metadata": {},
     "outputs": [],
     "prompt_number": 78
    },
    {
     "cell_type": "code",
     "collapsed": false,
     "input": [
      "ankle_viz_frame = VisualizationFrame(inertial_frame, ankle, ankle_shape)\n",
      "knee_viz_frame = VisualizationFrame(inertial_frame, knee, knee_shape)\n",
      "hip_viz_frame = VisualizationFrame(inertial_frame, hip, hip_shape)\n",
      "torso_com_viz_frame = VisualizationFrame(inertial_frame, torso_mass_center, torso_com_shape)"
     ],
     "language": "python",
     "metadata": {},
     "outputs": [],
     "prompt_number": 79
    },
    {
     "cell_type": "code",
     "collapsed": false,
     "input": [
      "lower_leg_shape = Cylinder('Lower Leg Cylinder', radius=0.08,\n",
      "                      length=numerical_constants[0], color='red')\n",
      "lower_leg_viz_frame = VisualizationFrame('Lower Leg', lower_leg, lower_leg_shape)\n",
      "\n",
      "\n",
      "upper_leg_shape = Cylinder('Upper Leg Cylinder', radius=0.08,\n",
      "                      length=numerical_constants[4], color='blue')\n",
      "upper_leg_viz_frame = VisualizationFrame('Upper Leg', upper_leg, upper_leg_shape)\n",
      "\n",
      "\n",
      "torso_shape = Cylinder('Torso Cylinder', radius=0.1,\n",
      "                      length=numerical_constants[8], color='green')\n",
      "torso_viz_frame = VisualizationFrame('Torso', torso, torso_shape)"
     ],
     "language": "python",
     "metadata": {},
     "outputs": [],
     "prompt_number": 80
    },
    {
     "cell_type": "code",
     "collapsed": false,
     "input": [
      "scene = Scene(inertial_frame, ankle,\n",
      "              knee_viz_frame, hip_viz_frame)#, torso_com_viz_frame,\n",
      "              #lower_leg_viz_frame, upper_leg_viz_frame, torso_viz_frame)"
     ],
     "language": "python",
     "metadata": {},
     "outputs": [],
     "prompt_number": 81
    },
    {
     "cell_type": "code",
     "collapsed": false,
     "input": [
      "scene.generate_visualization_json(coordinates + speeds, constants, y, numerical_constants)"
     ],
     "language": "python",
     "metadata": {},
     "outputs": [],
     "prompt_number": 82
    },
    {
     "cell_type": "markdown",
     "metadata": {},
     "source": [
      "The following method will run a webserver at http://localhost:8000 (unless already taken then 8001, 8002, and so on until a free port is avaiable). It is blocking and you can press the stop (interrupt) button to halt it (there is a confirmation prompt after pressing interrupt)."
     ]
    },
    {
     "cell_type": "code",
     "collapsed": false,
     "input": [
      "#scene.display()"
     ],
     "language": "python",
     "metadata": {},
     "outputs": [],
     "prompt_number": 83
    },
    {
     "cell_type": "heading",
     "level": 1,
     "metadata": {},
     "source": [
      "Linearization"
     ]
    },
    {
     "cell_type": "code",
     "collapsed": false,
     "input": [
      "equilibrium_point = np.zeros(len(coordinates + speeds))\n",
      "equilibrium_dict = dict(zip(coordinates + speeds, equilibrium_point))\n",
      "parameter_dict = dict(zip(constants, numerical_constants))"
     ],
     "language": "python",
     "metadata": {},
     "outputs": [],
     "prompt_number": 84
    },
    {
     "cell_type": "code",
     "collapsed": false,
     "input": [
      "linear_state_matrix, linear_input_matrix, inputs = kane.linearize()\n",
      "f_A_lin = linear_state_matrix.subs(parameter_dict).subs(equilibrium_dict)\n",
      "f_B_lin = linear_input_matrix.subs(parameter_dict).subs(equilibrium_dict)\n",
      "m_mat = mass_matrix.subs(parameter_dict).subs(equilibrium_dict)\n",
      "\n",
      "A = np.matrix(m_mat.inv() * f_A_lin).astype(float)\n",
      "B = np.matrix(m_mat.inv() * f_B_lin).astype(float)"
     ],
     "language": "python",
     "metadata": {},
     "outputs": [],
     "prompt_number": 85
    },
    {
     "cell_type": "code",
     "collapsed": false,
     "input": [
      "A"
     ],
     "language": "python",
     "metadata": {},
     "outputs": [
      {
       "metadata": {},
       "output_type": "pyout",
       "prompt_number": 86,
       "text": [
        "matrix([[   0.        ,    0.        ,    0.        ,    1.        ,\n",
        "            0.        ,    0.        ],\n",
        "        [   0.        ,    0.        ,    0.        ,    0.        ,\n",
        "            1.        ,    0.        ],\n",
        "        [   0.        ,    0.        ,    0.        ,    0.        ,\n",
        "            0.        ,    1.        ],\n",
        "        [  18.01764435,  -46.24889035,    3.89851594,    0.        ,\n",
        "            0.        ,    0.        ],\n",
        "        [ -10.20343287,  122.56386328,  -39.90748349,    0.        ,\n",
        "            0.        ,    0.        ],\n",
        "        [  -8.86028191,  -86.53108204,   87.7991272 ,    0.        ,\n",
        "            0.        ,    0.        ]])"
       ]
      }
     ],
     "prompt_number": 86
    },
    {
     "cell_type": "code",
     "collapsed": false,
     "input": [
      "B"
     ],
     "language": "python",
     "metadata": {},
     "outputs": [
      {
       "metadata": {},
       "output_type": "pyout",
       "prompt_number": 87,
       "text": [
        "matrix([[ 0.        ,  0.        ,  0.        ],\n",
        "        [ 0.        ,  0.        ,  0.        ],\n",
        "        [ 0.        ,  0.        ,  0.        ],\n",
        "        [ 0.28149024,  0.34020151, -0.58152657],\n",
        "        [-0.58152657, -1.38323446,  1.55360691],\n",
        "        [ 0.34020151,  1.94759947, -1.38323446]])"
       ]
      }
     ],
     "prompt_number": 87
    },
    {
     "cell_type": "code",
     "collapsed": false,
     "input": [
      "inputs"
     ],
     "language": "python",
     "metadata": {},
     "outputs": [
      {
       "latex": [
        "$$\\left[\\begin{matrix}\\operatorname{T_{a}}{\\left (t \\right )}\\\\\\operatorname{T_{h}}{\\left (t \\right )}\\\\\\operatorname{T_{k}}{\\left (t \\right )}\\end{matrix}\\right]$$"
       ],
       "metadata": {},
       "output_type": "pyout",
       "png": "[encoded data removed]",
       "prompt_number": 88,
       "text": [
        "\u23a1T\u2090(t) \u23a4\n",
        "\u23a2      \u23a5\n",
        "\u23a2T_h(t)\u23a5\n",
        "\u23a2      \u23a5\n",
        "\u23a3T_k(t)\u23a6"
       ]
      }
     ],
     "prompt_number": 88
    },
    {
     "cell_type": "code",
     "collapsed": false,
     "input": [
      "specified"
     ],
     "language": "python",
     "metadata": {},
     "outputs": [
      {
       "latex": [
        "$$\\begin{bmatrix}\\operatorname{T_{a}}{\\left (t \\right )}, & \\operatorname{T_{k}}{\\left (t \\right )}, & \\operatorname{T_{h}}{\\left (t \\right )}\\end{bmatrix}$$"
       ],
       "metadata": {},
       "output_type": "pyout",
       "png": "[encoded data removed]",
       "prompt_number": 89,
       "text": [
        "[T\u2090(t), T_k(t), T_h(t)]"
       ]
      }
     ],
     "prompt_number": 89
    },
    {
     "cell_type": "heading",
     "level": 1,
     "metadata": {},
     "source": [
      "Controller Design"
     ]
    },
    {
     "cell_type": "code",
     "collapsed": false,
     "input": [
      "from utils import controllable\n",
      "controllable(A, B)"
     ],
     "language": "python",
     "metadata": {},
     "outputs": [
      {
       "metadata": {},
       "output_type": "pyout",
       "prompt_number": 90,
       "text": [
        "True"
       ]
      }
     ],
     "prompt_number": 90
    },
    {
     "cell_type": "markdown",
     "metadata": {},
     "source": [
      "$$J = \\frac{1}{2} \\int_0^\\infty\\left[x^T Q x + u^T R u\\right]dt$$\n",
      "\n",
      "$$u(t) = -K x(t)$$\n",
      "\n",
      "$$K = R^{-1} B^T S$$\n",
      "\n",
      "$$\\textbf{0} = -\\textbf{S}\\textbf{A}-\\textbf{A}^{\\text{T}}\\textbf{S}+\\textbf{S}\\textbf{B}\\textbf{R}^{-1}\\textbf{B}^{\\text{T}}\\textbf{S}-\\textbf{Q}$$\n",
      "\n"
     ]
    },
    {
     "cell_type": "code",
     "collapsed": false,
     "input": [
      "from scipy.linalg import solve_continuous_are"
     ],
     "language": "python",
     "metadata": {},
     "outputs": [],
     "prompt_number": 91
    },
    {
     "cell_type": "code",
     "collapsed": false,
     "input": [
      "Q = np.matrix(np.eye(6))\n",
      "Q"
     ],
     "language": "python",
     "metadata": {},
     "outputs": [
      {
       "metadata": {},
       "output_type": "pyout",
       "prompt_number": 92,
       "text": [
        "matrix([[ 1.,  0.,  0.,  0.,  0.,  0.],\n",
        "        [ 0.,  1.,  0.,  0.,  0.,  0.],\n",
        "        [ 0.,  0.,  1.,  0.,  0.,  0.],\n",
        "        [ 0.,  0.,  0.,  1.,  0.,  0.],\n",
        "        [ 0.,  0.,  0.,  0.,  1.,  0.],\n",
        "        [ 0.,  0.,  0.,  0.,  0.,  1.]])"
       ]
      }
     ],
     "prompt_number": 92
    },
    {
     "cell_type": "code",
     "collapsed": false,
     "input": [
      "R = np.matrix(np.eye(3))\n",
      "R"
     ],
     "language": "python",
     "metadata": {},
     "outputs": [
      {
       "metadata": {},
       "output_type": "pyout",
       "prompt_number": 93,
       "text": [
        "matrix([[ 1.,  0.,  0.],\n",
        "        [ 0.,  1.,  0.],\n",
        "        [ 0.,  0.,  1.]])"
       ]
      }
     ],
     "prompt_number": 93
    },
    {
     "cell_type": "code",
     "collapsed": false,
     "input": [
      "S = solve_continuous_are(A, B, Q, R)\n",
      "S"
     ],
     "language": "python",
     "metadata": {},
     "outputs": [
      {
       "metadata": {},
       "output_type": "pyout",
       "prompt_number": 94,
       "text": [
        "array([[ 201234.05616477,  126353.2206737 ,   52759.27459709,\n",
        "          65423.46716517,   40198.21448403,   17152.01708073],\n",
        "       [ 126353.22067369,   82362.37665167,   35125.73975358,\n",
        "          41283.76143536,   25748.44541937,   11121.12825226],\n",
        "       [  52759.27459698,   35125.73975352,   15758.99913878,\n",
        "          17318.83740066,   10920.1780157 ,    4808.9390772 ],\n",
        "       [  65423.46716517,   41283.76143536,   17318.83740069,\n",
        "          21285.51125508,   13105.67162011,    5604.20122897],\n",
        "       [  40198.21448402,   25748.44541937,   10920.17801572,\n",
        "          13105.67162011,    8118.7859218 ,    3491.30739556],\n",
        "       [  17152.01708072,   11121.12825225,    4808.93907721,\n",
        "           5604.20122897,    3491.30739556,    1513.35460611]])"
       ]
      }
     ],
     "prompt_number": 94
    },
    {
     "cell_type": "code",
     "collapsed": false,
     "input": [
      "K = np.linalg.inv(R) * B.T * S"
     ],
     "language": "python",
     "metadata": {},
     "outputs": [],
     "prompt_number": 95
    },
    {
     "cell_type": "code",
     "collapsed": false,
     "input": [
      "K"
     ],
     "language": "python",
     "metadata": {},
     "outputs": [
      {
       "metadata": {},
       "output_type": "pyout",
       "prompt_number": 96,
       "text": [
        "matrix([[ 874.87944077,  430.99516514,  160.718271  ,  276.92501183,\n",
        "          155.57689642,   62.08542587],\n",
        "        [  58.86592332,   88.16430337,  152.61522072,   27.88572013,\n",
        "           28.05319382,   24.66962618],\n",
        "        [ 681.47803692,  612.23057497,  242.40961005,  231.04730854,\n",
        "          162.80890166,   71.80311689]])"
       ]
      }
     ],
     "prompt_number": 96
    },
    {
     "cell_type": "markdown",
     "metadata": {},
     "source": [
      "This is an annoying little issue. We specified the order of things when creating the rhs function, but the linearize function returns the F_B matrix in the order corresponding to whatever order it finds the joint torques. This would also screw things up if we specified a different ordering of the coordinates and speeds as the standard kana._q + kane._u"
     ]
    },
    {
     "cell_type": "code",
     "collapsed": false,
     "input": [
      "K = K[[0, 2, 1], :]\n",
      "K"
     ],
     "language": "python",
     "metadata": {},
     "outputs": [
      {
       "metadata": {},
       "output_type": "pyout",
       "prompt_number": 97,
       "text": [
        "matrix([[ 874.87944077,  430.99516514,  160.718271  ,  276.92501183,\n",
        "          155.57689642,   62.08542587],\n",
        "        [ 681.47803692,  612.23057497,  242.40961005,  231.04730854,\n",
        "          162.80890166,   71.80311689],\n",
        "        [  58.86592332,   88.16430337,  152.61522072,   27.88572013,\n",
        "           28.05319382,   24.66962618]])"
       ]
      }
     ],
     "prompt_number": 97
    },
    {
     "cell_type": "code",
     "collapsed": false,
     "input": [
      "def controller(x, t):\n",
      "    return -np.asarray(np.dot(K, x)).flatten()"
     ],
     "language": "python",
     "metadata": {},
     "outputs": [],
     "prompt_number": 98
    },
    {
     "cell_type": "code",
     "collapsed": false,
     "input": [
      "args['specified'] = controller"
     ],
     "language": "python",
     "metadata": {},
     "outputs": [],
     "prompt_number": 99
    },
    {
     "cell_type": "code",
     "collapsed": false,
     "input": [
      "y = odeint(right_hand_side, x0, t, args=(args,))"
     ],
     "language": "python",
     "metadata": {},
     "outputs": [],
     "prompt_number": 100
    },
    {
     "cell_type": "code",
     "collapsed": false,
     "input": [
      "plt.plot(t, np.rad2deg(y[:, :3]))\n",
      "plt.legend([\"${}$\".format(latex(c)) for c in coordinates])"
     ],
     "language": "python",
     "metadata": {},
     "outputs": [
      {
       "metadata": {},
       "output_type": "pyout",
       "prompt_number": 101,
       "text": [
        "<matplotlib.legend.Legend at 0x6e2d6d0>"
       ]
      },
      {
       "metadata": {},
       "output_type": "display_data",
       "png": "[encoded data removed]",
       "text": [
        "<matplotlib.figure.Figure at 0x6a4dd50>"
       ]
      }
     ],
     "prompt_number": 101
    },
    {
     "cell_type": "code",
     "collapsed": false,
     "input": [
      "plt.plot(t, np.rad2deg(y[:, 3:]))\n",
      "plt.legend([\"${}$\".format(latex(s)) for s in speeds])"
     ],
     "language": "python",
     "metadata": {},
     "outputs": [
      {
       "metadata": {},
       "output_type": "pyout",
       "prompt_number": 102,
       "text": [
        "<matplotlib.legend.Legend at 0x6e2d450>"
       ]
      },
      {
       "metadata": {},
       "output_type": "display_data",
       "png": "[encoded data removed]",
       "text": [
        "<matplotlib.figure.Figure at 0x675b810>"
       ]
      }
     ],
     "prompt_number": 102
    },
    {
     "cell_type": "code",
     "collapsed": false,
     "input": [
      "scene.generate_visualization_json(coordinates + speeds, constants, y, numerical_constants)"
     ],
     "language": "python",
     "metadata": {},
     "outputs": [],
     "prompt_number": 103
    },
    {
     "cell_type": "code",
     "collapsed": false,
     "input": [
      "#scene.display()"
     ],
     "language": "python",
     "metadata": {},
     "outputs": [],
     "prompt_number": 104
    }
   ],
   "metadata": {}
  }
 ]
}