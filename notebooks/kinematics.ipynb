{
 "metadata": {
  "name": ""
 },
 "nbformat": 3,
 "nbformat_minor": 0,
 "worksheets": [
  {
   "cells": [
    {
     "cell_type": "code",
     "collapsed": false,
     "input": [
      "from sympy import *\n",
      "from sympy.physics.mechanics import *  # would be nice to do from pydy.mechanics import *"
     ],
     "language": "python",
     "metadata": {},
     "outputs": [],
     "prompt_number": 1
    },
    {
     "cell_type": "code",
     "collapsed": false,
     "input": [
      "init_printing()"
     ],
     "language": "python",
     "metadata": {},
     "outputs": [],
     "prompt_number": 2
    },
    {
     "cell_type": "heading",
     "level": 1,
     "metadata": {},
     "source": [
      "Orientation"
     ]
    },
    {
     "cell_type": "code",
     "collapsed": false,
     "input": [
      "theta1, theta2, theta3 = dynamicsymbols('theta1, theta2, theta3')"
     ],
     "language": "python",
     "metadata": {},
     "outputs": [],
     "prompt_number": 3
    },
    {
     "cell_type": "code",
     "collapsed": false,
     "input": [
      "inertial_frame = ReferenceFrame('I')"
     ],
     "language": "python",
     "metadata": {},
     "outputs": [],
     "prompt_number": 4
    },
    {
     "cell_type": "code",
     "collapsed": false,
     "input": [
      "lower_leg_frame = ReferenceFrame('L')"
     ],
     "language": "python",
     "metadata": {},
     "outputs": [],
     "prompt_number": 5
    },
    {
     "cell_type": "code",
     "collapsed": false,
     "input": [
      "lower_leg_frame.orient(inertial_frame, 'Axis', (theta1, inertial_frame.z))"
     ],
     "language": "python",
     "metadata": {},
     "outputs": [],
     "prompt_number": 6
    },
    {
     "cell_type": "code",
     "collapsed": false,
     "input": [
      "lower_leg_frame.dcm(inertial_frame)"
     ],
     "language": "python",
     "metadata": {},
     "outputs": [
      {
       "latex": [
        "$$\\left[\\begin{matrix}\\cos{\\left (\\operatorname{theta1}{\\left (t \\right )} \\right )} & \\sin{\\left (\\operatorname{theta1}{\\left (t \\right )} \\right )} & 0\\\\- \\sin{\\left (\\operatorname{theta1}{\\left (t \\right )} \\right )} & \\cos{\\left (\\operatorname{theta1}{\\left (t \\right )} \\right )} & 0\\\\0 & 0 & 1\\end{matrix}\\right]$$"
       ],
       "metadata": {},
       "output_type": "pyout",
       "png": "[encoded data removed]",
       "prompt_number": 7,
       "text": [
        "\u23a1cos(\u03b8\u2081(t))   sin(\u03b8\u2081(t))  0\u23a4\n",
        "\u23a2                          \u23a5\n",
        "\u23a2-sin(\u03b8\u2081(t))  cos(\u03b8\u2081(t))  0\u23a5\n",
        "\u23a2                          \u23a5\n",
        "\u23a3     0           0       1\u23a6"
       ]
      }
     ],
     "prompt_number": 7
    },
    {
     "cell_type": "code",
     "collapsed": false,
     "input": [
      "upper_leg_frame = me.ReferenceFrame('U')"
     ],
     "language": "python",
     "metadata": {},
     "outputs": [
      {
       "ename": "NameError",
       "evalue": "name 'me' is not defined",
       "output_type": "pyerr",
       "traceback": [
        "\u001b[1;31m---------------------------------------------------------------------------\u001b[0m\n\u001b[1;31mNameError\u001b[0m                                 Traceback (most recent call last)",
        "\u001b[1;32m<ipython-input-8-cd2ce1fd5f63>\u001b[0m in \u001b[0;36m<module>\u001b[1;34m()\u001b[0m\n\u001b[1;32m----> 1\u001b[1;33m \u001b[0mupper_leg_frame\u001b[0m \u001b[1;33m=\u001b[0m \u001b[0mme\u001b[0m\u001b[1;33m.\u001b[0m\u001b[0mReferenceFrame\u001b[0m\u001b[1;33m(\u001b[0m\u001b[1;34m'U'\u001b[0m\u001b[1;33m)\u001b[0m\u001b[1;33m\u001b[0m\u001b[0m\n\u001b[0m",
        "\u001b[1;31mNameError\u001b[0m: name 'me' is not defined"
       ]
      }
     ],
     "prompt_number": 8
    },
    {
     "cell_type": "code",
     "collapsed": false,
     "input": [
      "lower_arm_frame.orient(inertial_frame, 'Axis', (phi, inertial_frame.z))\n",
      "lower_arm_frame.dcm(inertial_frame)"
     ],
     "language": "python",
     "metadata": {},
     "outputs": []
    },
    {
     "cell_type": "heading",
     "level": 1,
     "metadata": {},
     "source": [
      "Point Locations"
     ]
    },
    {
     "cell_type": "code",
     "collapsed": false,
     "input": [
      "lower_arm_length, upper_arm_length = sympy.symbols('l_L, l_U')"
     ],
     "language": "python",
     "metadata": {},
     "outputs": []
    },
    {
     "cell_type": "code",
     "collapsed": false,
     "input": [
      "shoulder = me.Point('S')"
     ],
     "language": "python",
     "metadata": {},
     "outputs": []
    },
    {
     "cell_type": "code",
     "collapsed": false,
     "input": [
      "elbow = me.Point('E')\n",
      "elbow.set_pos(shoulder, upper_arm_length * upper_arm_frame.x)\n",
      "elbow.pos_from(shoulder)"
     ],
     "language": "python",
     "metadata": {},
     "outputs": []
    },
    {
     "cell_type": "code",
     "collapsed": false,
     "input": [
      "hand = me.Point('H')\n",
      "hand.set_pos(elbow, lower_arm_length * lower_arm_frame.x)\n",
      "hand.pos_from(shoulder)"
     ],
     "language": "python",
     "metadata": {},
     "outputs": []
    },
    {
     "cell_type": "heading",
     "level": 2,
     "metadata": {},
     "source": [
      "Center of mass locations"
     ]
    },
    {
     "cell_type": "code",
     "collapsed": false,
     "input": [
      "lower_arm_com_length, upper_arm_com_length = sympy.symbols('d_L, d_U')"
     ],
     "language": "python",
     "metadata": {},
     "outputs": []
    },
    {
     "cell_type": "code",
     "collapsed": false,
     "input": [
      "upper_arm_mass_center = me.Point('U_o')\n",
      "upper_arm_mass_center.set_pos(shoulder, upper_arm_com_length * upper_arm_frame.x)\n",
      "upper_arm_mass_center.pos_from(shoulder)"
     ],
     "language": "python",
     "metadata": {},
     "outputs": []
    },
    {
     "cell_type": "code",
     "collapsed": false,
     "input": [
      "lower_arm_mass_center = me.Point('L_o')\n",
      "lower_arm_mass_center.set_pos(elbow, lower_arm_com_length * lower_arm_frame.x)\n",
      "lower_arm_mass_center.pos_from(shoulder)"
     ],
     "language": "python",
     "metadata": {},
     "outputs": []
    },
    {
     "cell_type": "heading",
     "level": 1,
     "metadata": {},
     "source": [
      "Angular Velocities"
     ]
    },
    {
     "cell_type": "markdown",
     "metadata": {},
     "source": []
    },
    {
     "cell_type": "code",
     "collapsed": false,
     "input": [
      "omega, gamma = me.dynamicsymbols('omega_l, gamma')"
     ],
     "language": "python",
     "metadata": {},
     "outputs": []
    },
    {
     "cell_type": "code",
     "collapsed": false,
     "input": [
      "lower_arm_frame.set_ang_vel(inertial_frame, omega * inertial_frame.z)\n",
      "lower_arm_frame.ang_vel_in(inertial_frame)"
     ],
     "language": "python",
     "metadata": {},
     "outputs": []
    },
    {
     "cell_type": "code",
     "collapsed": false,
     "input": [
      "upper_arm_frame.set_ang_vel(inertial_frame, gamma * inertial_frame.z)\n",
      "upper_arm_frame.ang_vel_in(inertial_frame)"
     ],
     "language": "python",
     "metadata": {},
     "outputs": []
    },
    {
     "cell_type": "heading",
     "level": 1,
     "metadata": {},
     "source": [
      "Linear Velocities"
     ]
    },
    {
     "cell_type": "markdown",
     "metadata": {},
     "source": [
      "We assume that the shoulder point is fixed in the inertial reference frame."
     ]
    },
    {
     "cell_type": "code",
     "collapsed": false,
     "input": [
      "shoulder.set_vel(inertial_frame, 0)"
     ],
     "language": "python",
     "metadata": {},
     "outputs": []
    },
    {
     "cell_type": "code",
     "collapsed": false,
     "input": [
      "elbow.v2pt_theory(shoulder, inertial_frame, lower_arm_frame)\n",
      "elbow.vel(inertial_frame)"
     ],
     "language": "python",
     "metadata": {},
     "outputs": []
    },
    {
     "cell_type": "code",
     "collapsed": false,
     "input": [
      "hand.v2pt_theory(elbow, inertial_frame, upper_arm_frame)\n",
      "hand.vel(inertial_frame)"
     ],
     "language": "python",
     "metadata": {},
     "outputs": []
    },
    {
     "cell_type": "heading",
     "level": 1,
     "metadata": {},
     "source": [
      "Inertia"
     ]
    },
    {
     "cell_type": "code",
     "collapsed": false,
     "input": [
      "upper_arm_mass, lower_arm_mass = sympy.symbols('m_U, m_L')"
     ],
     "language": "python",
     "metadata": {},
     "outputs": []
    },
    {
     "cell_type": "code",
     "collapsed": false,
     "input": [
      "upper_arm_inertia, lower_arm_inertia = sympy.symbols('I_Uz, I_Lz')"
     ],
     "language": "python",
     "metadata": {},
     "outputs": []
    },
    {
     "cell_type": "code",
     "collapsed": false,
     "input": [
      "upper_arm_inertia_dyadic = me.inertia(upper_arm_frame, 0, 0, upper_arm_inertia)\n",
      "upper_arm_inertia_dyadic"
     ],
     "language": "python",
     "metadata": {},
     "outputs": []
    },
    {
     "cell_type": "code",
     "collapsed": false,
     "input": [
      "lower_arm_inertia_dyadic = me.inertia(lower_arm_frame, 0, 0, lower_arm_inertia)\n",
      "lower_arm_inertia_dyadic"
     ],
     "language": "python",
     "metadata": {},
     "outputs": []
    },
    {
     "cell_type": "heading",
     "level": 1,
     "metadata": {},
     "source": [
      "Rigid Bodies"
     ]
    },
    {
     "cell_type": "code",
     "collapsed": false,
     "input": [
      "upper_arm = me.RigidBody('Upper Arm', upper_arm_mass_center, upper_arm_frame,\n",
      "                         upper_arm_mass, (upper_arm_inertia_dyadic, upper_arm_mass_center))"
     ],
     "language": "python",
     "metadata": {},
     "outputs": []
    },
    {
     "cell_type": "code",
     "collapsed": false,
     "input": [
      "lower_arm = me.RigidBody('Lower Arm', lower_arm_mass_center, lower_arm_frame,\n",
      "                         lower_arm_mass, (lower_arm_inertia_dyadic, lower_arm_mass_center))"
     ],
     "language": "python",
     "metadata": {},
     "outputs": []
    },
    {
     "cell_type": "heading",
     "level": 1,
     "metadata": {},
     "source": [
      "Forces"
     ]
    },
    {
     "cell_type": "markdown",
     "metadata": {},
     "source": [
      "Shoulder and elbow torques."
     ]
    },
    {
     "cell_type": "code",
     "collapsed": false,
     "input": [
      "dynamic_symbols"
     ],
     "language": "python",
     "metadata": {},
     "outputs": []
    }
   ],
   "metadata": {}
  }
 ]
}