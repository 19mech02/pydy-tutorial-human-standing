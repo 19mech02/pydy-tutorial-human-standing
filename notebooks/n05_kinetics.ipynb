{
 "metadata": {
  "name": ""
 },
 "nbformat": 3,
 "nbformat_minor": 0,
 "worksheets": [
  {
   "cells": [
    {
     "cell_type": "heading",
     "level": 1,
     "metadata": {},
     "source": [
      "Introduction"
     ]
    },
    {
     "cell_type": "markdown",
     "metadata": {},
     "source": [
      "There are several several loads that act on the rigid bodies of the system. There are three gravitaionl forces acting on the mass center of each body and there are three joint torques that act between each body causing rotation. Here we will specify vectors for each load and the points or reference frame they act on."
     ]
    },
    {
     "cell_type": "heading",
     "level": 1,
     "metadata": {},
     "source": [
      "Setup"
     ]
    },
    {
     "cell_type": "code",
     "collapsed": false,
     "input": [
      "from solution.inertia import *"
     ],
     "language": "python",
     "metadata": {},
     "outputs": [],
     "prompt_number": 1
    },
    {
     "cell_type": "code",
     "collapsed": false,
     "input": [
      "from sympy import init_printing"
     ],
     "language": "python",
     "metadata": {},
     "outputs": [],
     "prompt_number": 2
    },
    {
     "cell_type": "code",
     "collapsed": false,
     "input": [
      "init_printing()"
     ],
     "language": "python",
     "metadata": {},
     "outputs": [],
     "prompt_number": 3
    },
    {
     "cell_type": "heading",
     "level": 1,
     "metadata": {},
     "source": [
      "Gravity"
     ]
    },
    {
     "cell_type": "markdown",
     "metadata": {},
     "source": [
      "We need a gravitaional constant."
     ]
    },
    {
     "cell_type": "code",
     "collapsed": false,
     "input": [
      "g = symbols('g')"
     ],
     "language": "python",
     "metadata": {},
     "outputs": [],
     "prompt_number": 4
    },
    {
     "cell_type": "markdown",
     "metadata": {},
     "source": [
      "Forces are bound vectors, i.e. they act on a point. We need a force with a magnitude $mg$ acting in the negative $y$ direction of the inertial reference frame."
     ]
    },
    {
     "cell_type": "code",
     "collapsed": false,
     "input": [
      "lower_leg_grav_force_vector = -lower_leg_mass * g * inertial_frame.y\n",
      "lower_leg_grav_force_vector"
     ],
     "language": "python",
     "metadata": {},
     "outputs": [
      {
       "latex": [
        "$$-  g m_{L}\\mathbf{\\hat{i}_y}$$"
       ],
       "metadata": {},
       "output_type": "pyout",
       "png": "[encoded data removed]",
       "prompt_number": 5,
       "text": [
        "- g\u22c5m_L*\u001b[94m\u001b[1mi_y\u001b[0;0m\u001b[0;0m"
       ]
      }
     ],
     "prompt_number": 5
    },
    {
     "cell_type": "markdown",
     "metadata": {},
     "source": [
      "Now we make a tuple to represent the bound vector acting on the mass center of the lower leg."
     ]
    },
    {
     "cell_type": "code",
     "collapsed": false,
     "input": [
      "lower_leg_grav_force = (lower_leg_mass_center, lower_leg_grav_force_vector)"
     ],
     "language": "python",
     "metadata": {},
     "outputs": [],
     "prompt_number": 6
    },
    {
     "cell_type": "markdown",
     "metadata": {},
     "source": [
      "As an excercise, create bound force vectors for the upper leg and the torso which impose the force of gravity."
     ]
    },
    {
     "cell_type": "code",
     "collapsed": false,
     "input": [
      "upper_leg_grav_force = (upper_leg_mass_center, -upper_leg_mass * g * inertial_frame.y)\n",
      "torso_grav_force = (torso_mass_center, -torso_mass * g * inertial_frame.y)"
     ],
     "language": "python",
     "metadata": {},
     "outputs": [],
     "prompt_number": 7
    },
    {
     "cell_type": "heading",
     "level": 1,
     "metadata": {},
     "source": [
      "Joint Torques"
     ]
    },
    {
     "cell_type": "markdown",
     "metadata": {},
     "source": [
      "Joint torques can be used to simpilfy the effect that muscles have on making body segments move relative to each other. We need to specify three torque vectors which represent the total torque acting on each rigid body. First specify three ne time varying variables to represent the magnitude of the joint torques."
     ]
    },
    {
     "cell_type": "code",
     "collapsed": false,
     "input": [
      "ankle_torque, knee_torque, hip_torque = dynamicsymbols('T_a, T_k, T_h')"
     ],
     "language": "python",
     "metadata": {},
     "outputs": [],
     "prompt_number": 8
    },
    {
     "cell_type": "markdown",
     "metadata": {},
     "source": [
      "Similar to the bound force vectors we must specify a reference frame and a vector of all the torques acting on that reference frame (rigid body). The external torques acting on the lower leg can be represented as a vector combining the ankle and knee torque contributions. Don't forget [Newton's third law of motion](https://en.wikipedia.org/wiki/Newton%27s_laws_of_motion#Newton.27s_3rd_Law)."
     ]
    },
    {
     "cell_type": "code",
     "collapsed": false,
     "input": [
      "lower_leg_torque_vector = ankle_torque * inertial_frame.z - knee_torque * inertial_frame.z\n",
      "lower_leg_torque_vector"
     ],
     "language": "python",
     "metadata": {},
     "outputs": [
      {
       "latex": [
        "$$(T_{a} - T_{k})\\mathbf{\\hat{i}_z}$$"
       ],
       "metadata": {},
       "output_type": "pyout",
       "png": "[encoded data removed]",
       "prompt_number": 9,
       "text": [
        "(T\u2090 - T_k)*\u001b[94m\u001b[1mi_z\u001b[0;0m\u001b[0;0m"
       ]
      }
     ],
     "prompt_number": 9
    },
    {
     "cell_type": "markdown",
     "metadata": {},
     "source": [
      "Now store the lower leg's reference frame and the torque vector in a tuple for later use."
     ]
    },
    {
     "cell_type": "code",
     "collapsed": false,
     "input": [
      "lower_leg_torque = (lower_leg_frame, lower_leg_torque_vector)"
     ],
     "language": "python",
     "metadata": {},
     "outputs": [],
     "prompt_number": 10
    },
    {
     "cell_type": "markdown",
     "metadata": {},
     "source": [
      "As an excercise, create the torque tuples that contain the forces acting on the upper leg and the torso."
     ]
    },
    {
     "cell_type": "code",
     "collapsed": false,
     "input": [
      "upper_leg_torque = (upper_leg_frame, knee_torque * inertial_frame.z - hip_torque * inertial_frame.z)\n",
      "torso_torque = (torso_frame, hip_torque * inertial_frame.z)"
     ],
     "language": "python",
     "metadata": {},
     "outputs": [],
     "prompt_number": 11
    }
   ],
   "metadata": {}
  }
 ]
}