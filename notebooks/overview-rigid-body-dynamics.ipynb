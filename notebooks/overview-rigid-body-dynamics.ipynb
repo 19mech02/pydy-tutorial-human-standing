{
 "metadata": {
  "name": ""
 },
 "nbformat": 3,
 "nbformat_minor": 0,
 "worksheets": [
  {
   "cells": [
    {
     "cell_type": "heading",
     "level": 1,
     "metadata": {},
     "source": [
      "An overview of rigid body dynamics"
     ]
    },
    {
     "cell_type": "markdown",
     "metadata": {},
     "source": [
      "$$\n",
      "\\newcommand{\\v}[1]{\\mathbf{\\vec{#1}}}\n",
      "\\newcommand{\\u}[1]{\\mathbf{\\hat{#1}}}\n",
      "\\newcommand{\\dp}[2]{#1 \\cdot #2}\n",
      "\\newcommand{\\cp}[2]{#1 \\times #2}\n",
      "$$"
     ]
    },
    {
     "cell_type": "markdown",
     "metadata": {},
     "source": [
      "Rigid body dynamics is concerned with describing the motion of systems composed of solid bodies; such as vehicles, skeletons, robots [1-4]:\n",
      "\n",
      "![Examples of rigid body systems](files/figures/example_rigid_body_systems.svg)"
     ]
    },
    {
     "cell_type": "heading",
     "level": 1,
     "metadata": {},
     "source": [
      "Newton's Second Law"
     ]
    },
    {
     "cell_type": "markdown",
     "metadata": {},
     "source": [
      "For all these systems, our goal is to determine how each body's position changes in time. Newton told us that the acceleration $\\v{a}$ of a system is proportional to the force $\\v{F}$ applied to it:\n",
      "\n",
      "$$\\v{F} = m\\v{a}$$\n",
      "\n",
      "Newton gave us the bodies' acceleration, but we would really prefer to obtain their position. Thus, Newton gave us a second order ordinary differential equation for the quantity we seek. This equation is actually far too simple for the systems we want to study, but it reveals that there are three topics to consider in describing a rigid body system: its kinematics ($\\v{a}$), its mass properties ($m$), and the external forces applied to the system ($\\v{F}$). In this notebook, we present the tools necessary to mathematically describe a rigid body system. Once equipped with a mathematical description of a system, we can generate equations that describe its motion. Regardless, we always end up with second-order ordinary differential equations in time."
     ]
    },
    {
     "cell_type": "heading",
     "level": 1,
     "metadata": {},
     "source": [
      "Vectors"
     ]
    },
    {
     "cell_type": "markdown",
     "metadata": {},
     "source": [
      "Newton's second law is a vector equation. A vector is a quantity that has a **magnitude** and a **direction**. For example, \"5 miles East\" is a vector quantity with magnitude 5 miles and direction East. We draw them as arrows:\n",
      "\n",
      "![What does a vector look like?](files/figures/vector_basics.svg)\n",
      "\n",
      "We represent the magnitude of a vector $\\v{v}$ as $|\\v{v}|$. We represent the direction of a vector $\\v{v}$ using a unit vector $\\u{u}$ (magnitude of 1) that has the same direction as $\\v{v}$: \n",
      "\n",
      "$$\\u{u} = \\frac{\\v{v}}{|\\v{v}|}$$"
     ]
    },
    {
     "cell_type": "markdown",
     "metadata": {},
     "source": [
      "We will work with the following vector quantities: positions, velocities, accelerations, forces, angular velocities, and torques/moments. Don't think about these vectors as linear algebra vectors. Our vectors always have a physical interpretation (and thus are always 2 or 3 dimensinonal), while linear algebra vectors are often more abstract."
     ]
    },
    {
     "cell_type": "heading",
     "level": 3,
     "metadata": {},
     "source": [
      "Addition"
     ]
    },
    {
     "cell_type": "markdown",
     "metadata": {},
     "source": [
      "When we add vector $\\v{b}$ to vector $\\v{a}$, the result is a vector that starts at the tail of $\\v{a}$ and ends at the tip of $\\v{b}$:\n",
      "\n",
      "![Vector addition](files/figures/vector_addition.svg)"
     ]
    },
    {
     "cell_type": "heading",
     "level": 3,
     "metadata": {},
     "source": [
      "Scaling "
     ]
    },
    {
     "cell_type": "markdown",
     "metadata": {},
     "source": [
      "Multiplying a vector by a scalar changes its magnitude, but not its direction. Scaling by a negative number changes a vector's magnitude and reverses its sense (rotates it by 180 degrees).\n",
      "\n",
      "![Vector scaling](files/figures/vector_scaling.svg)"
     ]
    },
    {
     "cell_type": "heading",
     "level": 3,
     "metadata": {},
     "source": [
      "Dot product (scalar product)"
     ]
    },
    {
     "cell_type": "markdown",
     "metadata": {},
     "source": [
      "The dot product, which yields a scalar quantity, is defined as:\n",
      "\n",
      "$$\\v{a} \\cdot \\v{b} = |\\v{a}||\\v{b}| \\cos{\\theta}$$\n",
      "\n",
      "where $\\theta$ is the angle between the two vectors. It is used to determine:\n",
      "\n",
      "* the angle between two vectors: $\\theta = \\cos^{-1}[\\v{a} \\cdot \\v{b} / (|\\v{a}||\\v{b}|)]$\n",
      "* a vector's magnitude: $ |\\v{v}| = \\sqrt{\\v{v} \\cdot \\v{v}} $\n",
      "* the length of a vector along a direction/unit vector $\\u{u}$ (called the projection): $ \\mbox{proj}_{\\u{u}}\\v{v} = \\v{v} \\cdot \\u{u}$\n",
      "* if two vectors are perpendicular: $ \\v{a} \\cdot \\v{b} = 0 \\mbox{ if } \\v{a} \\perp \\v{b} $\n",
      "* compute power: $ P = \\dp{\\v{F}}{\\v{v}}$\n",
      "\n",
      "Also, dot products are used to convert a vector equation into a scalar equation (by \"dotting\" an entire equation with a vector).\n",
      "\n",
      "![Vector dot product](files/figures/vector_dot.svg)"
     ]
    },
    {
     "cell_type": "heading",
     "level": 3,
     "metadata": {},
     "source": [
      "Cross product (vector product)"
     ]
    },
    {
     "cell_type": "markdown",
     "metadata": {},
     "source": [
      "The cross product, which yields a vector quantity, is defined as:\n",
      "\n",
      "$$ \\cp{\\v{a}}{\\v{b}} = |\\v{a}||\\v{b}| \\sin\\theta \\u{u}$$\n",
      "\n",
      "where $\\theta$ is the angle between the two vectors, and $\\u{u}$ is the unit vector perpendicular to both $\\v{a}$ and $\\v{b}$ whose sense is given by the right-hand rule. It is used to:\n",
      "\n",
      "* obtain a vector/direction perpendicular to two other vectors\n",
      "* determine if two vectors are parallel: $\\cp{\\v{a}}{\\v{b}} = \\v{0} \\mbox{ if } \\v{a} \\parallel \\v{b}$\n",
      "* compute moments: $ \\cp{\\v{r}}{\\v{F}}$\n",
      "* compute the area of a triangle\n",
      "\n",
      "![Vector cross product](files/figures/vector_cross.svg)"
     ]
    },
    {
     "cell_type": "heading",
     "level": 3,
     "metadata": {},
     "source": [
      "Some vector properties"
     ]
    },
    {
     "cell_type": "markdown",
     "metadata": {},
     "source": [
      "* The order in which you add them does not matter: $\\v{a} + \\v{b} = \\v{b} + \\v{a}$\n",
      "* You can distrubute a scalar among vectors: $ s (\\v{a} + \\v{b}) = s\\v{a} + s\\v{b} $\n",
      "\n",
      "**Dot product**\n",
      "\n",
      "* You can pull out scalars: $ c \\v{a} \\cdot d \\v{b} = cd (\\v{a} \\cdot \\v{b})$\n",
      "* Order does not matter: $\\dp{\\v{a}}{\\v{b}} = \\dp{\\v{b}}{\\v{a}}$\n",
      "* You can distribute: $\\dp{\\v{a}}{(\\v{b} + \\v{c})} = \\dp{\\v{a}}{\\v{b}} + \\dp{\\v{a}}{\\v{c}}$\n",
      "\n",
      "**Cross product**\n",
      "\n",
      "* Crossing a vector with itself \"cancels\" it: $\\cp{\\v{a}}{\\v{b}} = \\vec{0}$\n",
      "* You can pull out scalars: $ c \\v{a} \\times d \\v{b} = cd (\\v{a} \\times \\v{b})$\n",
      "* Order DOES matter (because of the right-hand rule): $\\cp{\\v{a}}{\\v{b}} = -\\cp{\\v{b}}{\\v{a}}$\n",
      "* You can distribute: $\\cp{\\v{a}}{(\\v{b} + \\v{c})} = \\cp{\\v{a}}{\\v{b}} + \\cp{\\v{a}}{\\v{c}}$\n",
      "* They are NOT associative: $\\cp{\\v{a}}{(\\cp{\\v{b}}{\\v{c}})} \\neq \\cp{(\\cp{\\v{a}}{\\v{b}})}{\\v{c}}$"
     ]
    },
    {
     "cell_type": "heading",
     "level": 3,
     "metadata": {},
     "source": [
      "Expressing vectors with a vector basis"
     ]
    },
    {
     "cell_type": "markdown",
     "metadata": {},
     "source": [
      "We have shown you what a vector $\\v{v}$ looks like, but have yet to express an actual vector mathematically. To do so, we first, we choose three unit vectors $\\u{a}_x$, $\\u{a}_y$, and $\\u{a}_z$ whose directions we accept. Consider the human jumper from above; we choose:\n",
      "\n",
      "* $\\u{a}_x$ to point forward,\n",
      "* $\\u{a}_y$ to point upwards,\n",
      "* $\\u{a}_z$ to point out of the plane (to the subject's right).\n",
      "\n",
      "![Express a vector in different bases](files/figures/vector_express.svg)\n",
      "\n",
      "These three unit vectors are mutually perpendicular. For pratical reasons, we will always make sure that's the case. If so, the three vectors define a vector basis. We can express the position of the subject's hand from its toes in terms of these three vectors:\n",
      "\n",
      "$$ \\v{r} = d_x \\u{a}_x + d_y \\u{a}_y + 0 \\u{a}_z$$\n",
      "\n",
      "We call $r_x$ the **measure** of $\\v{r}$ along $\\u{a}_x$, and it is equal to $\\v{r} \\cdot \\u{a}_x$. Note that a vector basis does not have an origin. We could have chosen a different vector basis, such as $\\u{b}_x$, $\\u{b}_y$, $\\u{b}_z$. Then, we would express $\\v{r}$ as:\n",
      "\n",
      "$$ \\v{r} = f_x \\u{b}_x + f_y \\u{b}_y + 0 \\u{b}_z$$\n",
      "\n",
      "Using this alternative vector basis does not change the fact that $\\v{r}$ is the position of the hand from the toes; it simply changes how we *express* this quantity. It is possible to express a single vector in infinitely many ways, since we can choose to use any valid vector basis. In the next section, we will learn how to relate different vector bases to each other."
     ]
    },
    {
     "cell_type": "heading",
     "level": 1,
     "metadata": {},
     "source": [
      "Reference frames and rotation matrices"
     ]
    },
    {
     "cell_type": "heading",
     "level": 1,
     "metadata": {},
     "source": [
      "Derivatives of vectors"
     ]
    },
    {
     "cell_type": "heading",
     "level": 1,
     "metadata": {},
     "source": [
      "Position, velocity, and acceleration"
     ]
    },
    {
     "cell_type": "markdown",
     "metadata": {},
     "source": [
      "TODO will be talking about points. To describe a point's position, we must specify another point from which we"
     ]
    },
    {
     "cell_type": "markdown",
     "metadata": {},
     "source": [
      "Previously, we used the symbol $\\v{v}$ to denote a generic vector. Henceforth, $\\v{v}$ refers to a velocity."
     ]
    },
    {
     "cell_type": "heading",
     "level": 1,
     "metadata": {},
     "source": [
      "Mass properties"
     ]
    },
    {
     "cell_type": "heading",
     "level": 1,
     "metadata": {},
     "source": [
      "Forces and moments/torques"
     ]
    },
    {
     "cell_type": "heading",
     "level": 1,
     "metadata": {},
     "source": [
      "Equations of motion"
     ]
    },
    {
     "cell_type": "heading",
     "level": 1,
     "metadata": {},
     "source": [
      "Ordinary differential equations"
     ]
    },
    {
     "cell_type": "heading",
     "level": 1,
     "metadata": {},
     "source": [
      "References"
     ]
    },
    {
     "cell_type": "markdown",
     "metadata": {},
     "source": [
      "[1] Moore, J. K. (2012). Human Control of a Bicycle. University of California, Davis.\n",
      "\n",
      "[2] Ashby, B. M., & Delp, S. L. (2006). Optimal control simulations reveal mechanisms by which arm movement improves standing long jump performance. Journal of biomechanics, 39(9), 1726\u201334. doi:10.1016/j.jbiomech.2005.04.017\n",
      "\n",
      "[3] Gong, X., Bai, Y., Hou, Z., Zhao, C., Tian, Y., & Sun, Q. (2012). Backstepping sliding mode tracking control of quad-rotor under input saturation. International Journal of Intelligent Computing and Cybernetics, 5(4), 515\u2013532. doi:10.1108/17563781211282268\n",
      "\n",
      "[4] Wu, J. Z., An, K.-N., Cutlip, R. G., Krajnak, K., Welcome, D., & Dong, R. G. (2008). Analysis of musculoskeletal loading in an index finger during tapping. Journal of biomechanics, 41(3), 668\u201376. doi:10.1016/j.jbiomech.2007.09.025\n",
      "\n",
      "[5] Mitiguy, P. Advanced Dynamics & Motion Simulation. 2013."
     ]
    },
    {
     "cell_type": "code",
     "collapsed": false,
     "input": [],
     "language": "python",
     "metadata": {},
     "outputs": []
    }
   ],
   "metadata": {}
  }
 ]
}