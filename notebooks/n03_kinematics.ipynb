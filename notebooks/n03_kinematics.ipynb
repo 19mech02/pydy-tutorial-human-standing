{
 "metadata": {
  "name": ""
 },
 "nbformat": 3,
 "nbformat_minor": 0,
 "worksheets": [
  {
   "cells": [
    {
     "cell_type": "heading",
     "level": 1,
     "metadata": {},
     "source": [
      "Introduction"
     ]
    },
    {
     "cell_type": "markdown",
     "metadata": {},
     "source": [
      "The first step, and notably the most difficult, is to define the kinematic (motion) relationships among rigid bodies in the system. Here will we make use of `ReferenceFrame` objects to describe the four frames in the problem, set their orientations, and then construct vectors in the frames that position varioius important `Point`s. Finally, we will specify the linear and angular velocities of the frames and point using generalized speeds."
     ]
    },
    {
     "cell_type": "heading",
     "level": 1,
     "metadata": {},
     "source": [
      "Setup"
     ]
    },
    {
     "cell_type": "markdown",
     "metadata": {},
     "source": [
      "First, import the necessary functions from SymPy for basic kinematics."
     ]
    },
    {
     "cell_type": "code",
     "collapsed": false,
     "input": [
      "from sympy import init_printing, symbols, simplify\n",
      "from sympy.physics.mechanics import dynamicsymbols, ReferenceFrame, Point"
     ],
     "language": "python",
     "metadata": {},
     "outputs": [],
     "prompt_number": 1
    },
    {
     "cell_type": "markdown",
     "metadata": {},
     "source": [
      "SymPy has a rich printing system. Here we initialize printing so that all of the mathematical equations are rendered in standard mathematical notation."
     ]
    },
    {
     "cell_type": "code",
     "collapsed": false,
     "input": [
      "init_printing()"
     ],
     "language": "python",
     "metadata": {},
     "outputs": [],
     "prompt_number": 2
    },
    {
     "cell_type": "heading",
     "level": 1,
     "metadata": {},
     "source": [
      "Reference Frames and Orientation"
     ]
    },
    {
     "cell_type": "markdown",
     "metadata": {},
     "source": [
      "Our first step is to define three reference frames, one each for the lower leg, upper leg, and torso. These reference frames hold the information that defines how each frame is oriented relative to each other in addition to their relative angular velocites and angular accelerations. We start by creating four reference frames for each frame in the system."
     ]
    },
    {
     "cell_type": "code",
     "collapsed": false,
     "input": [
      "inertial_frame = ReferenceFrame('I')"
     ],
     "language": "python",
     "metadata": {},
     "outputs": [],
     "prompt_number": 3
    },
    {
     "cell_type": "code",
     "collapsed": false,
     "input": [
      "lower_leg_frame = ReferenceFrame('L')"
     ],
     "language": "python",
     "metadata": {},
     "outputs": [],
     "prompt_number": 4
    },
    {
     "cell_type": "markdown",
     "metadata": {},
     "source": [
      "Now define an `upper_leg_frame` and a `torso_frame` with the names `U` and `T`, respectively."
     ]
    },
    {
     "cell_type": "code",
     "collapsed": false,
     "input": [
      "upper_leg_frame = ReferenceFrame('U')"
     ],
     "language": "python",
     "metadata": {},
     "outputs": [],
     "prompt_number": 5
    },
    {
     "cell_type": "code",
     "collapsed": false,
     "input": [
      "torso_frame = ReferenceFrame('T')"
     ],
     "language": "python",
     "metadata": {},
     "outputs": [],
     "prompt_number": 6
    },
    {
     "cell_type": "markdown",
     "metadata": {},
     "source": [
      "Now we need to specify how the frames are oriented with respect to each other. To do this, we need to define the three generalized coordinates, $\\theta_1(t)$, $\\theta_2(t)$, and $\\theta_3(t)$, for the ankle, knee, and hip angles which are time varying quantities."
     ]
    },
    {
     "cell_type": "code",
     "collapsed": false,
     "input": [
      "theta1, theta2, theta3 = dynamicsymbols('theta1, theta2, theta3')"
     ],
     "language": "python",
     "metadata": {},
     "outputs": [],
     "prompt_number": 7
    },
    {
     "cell_type": "markdown",
     "metadata": {},
     "source": [
      "We can start by setting the orientation of the lower leg relative to the inertial reference frame. We'd like the lower leg to rotate through the angle $\\theta_1$ relative to the inertial frame. $\\theta_1$ then becomes the plantarflexion angle of the ankle. The `ReferenceFrame.orient()` method makes this easy. Simply give the base frame, `Axis` type of rotation, and a tuple containing the rotation angle, and the vector abotu which to rotate, in this case the Z unit vector of the inertial reference frame."
     ]
    },
    {
     "cell_type": "code",
     "collapsed": false,
     "input": [
      "lower_leg_frame.orient(inertial_frame, 'Axis', (theta1, inertial_frame.z))"
     ],
     "language": "python",
     "metadata": {},
     "outputs": [],
     "prompt_number": 8
    },
    {
     "cell_type": "markdown",
     "metadata": {},
     "source": [
      "We now can see that the direction cosine matrix relating the two reference frames has been set on both frames."
     ]
    },
    {
     "cell_type": "code",
     "collapsed": false,
     "input": [
      "lower_leg_frame.dcm(inertial_frame)"
     ],
     "language": "python",
     "metadata": {},
     "outputs": [
      {
       "latex": [
        "$$\\left[\\begin{matrix}\\cos{\\left (\\theta_{1}{\\left (t \\right )} \\right )} & \\sin{\\left (\\theta_{1}{\\left (t \\right )} \\right )} & 0\\\\- \\sin{\\left (\\theta_{1}{\\left (t \\right )} \\right )} & \\cos{\\left (\\theta_{1}{\\left (t \\right )} \\right )} & 0\\\\0 & 0 & 1\\end{matrix}\\right]$$"
       ],
       "metadata": {},
       "output_type": "pyout",
       "png": "[encoded data removed]",
       "prompt_number": 9,
       "text": [
        "\u23a1cos(\u03b8\u2081(t))   sin(\u03b8\u2081(t))  0\u23a4\n",
        "\u23a2                          \u23a5\n",
        "\u23a2-sin(\u03b8\u2081(t))  cos(\u03b8\u2081(t))  0\u23a5\n",
        "\u23a2                          \u23a5\n",
        "\u23a3     0           0       1\u23a6"
       ]
      }
     ],
     "prompt_number": 9
    },
    {
     "cell_type": "code",
     "collapsed": false,
     "input": [
      "inertial_frame.dcm(lower_leg_frame)"
     ],
     "language": "python",
     "metadata": {},
     "outputs": [
      {
       "latex": [
        "$$\\left[\\begin{matrix}\\cos{\\left (\\theta_{1}{\\left (t \\right )} \\right )} & - \\sin{\\left (\\theta_{1}{\\left (t \\right )} \\right )} & 0\\\\\\sin{\\left (\\theta_{1}{\\left (t \\right )} \\right )} & \\cos{\\left (\\theta_{1}{\\left (t \\right )} \\right )} & 0\\\\0 & 0 & 1\\end{matrix}\\right]$$"
       ],
       "metadata": {},
       "output_type": "pyout",
       "png": "[encoded data removed]",
       "prompt_number": 10,
       "text": [
        "\u23a1cos(\u03b8\u2081(t))  -sin(\u03b8\u2081(t))  0\u23a4\n",
        "\u23a2                          \u23a5\n",
        "\u23a2sin(\u03b8\u2081(t))  cos(\u03b8\u2081(t))   0\u23a5\n",
        "\u23a2                          \u23a5\n",
        "\u23a3    0            0       1\u23a6"
       ]
      }
     ],
     "prompt_number": 10
    },
    {
     "cell_type": "markdown",
     "metadata": {},
     "source": [
      "We can rotate the upper leg relative to the lower leg through the knee flexion angle, $\\theta_2$, in a similar fashion. We can "
     ]
    },
    {
     "cell_type": "code",
     "collapsed": false,
     "input": [
      "upper_leg_frame.orient(lower_leg_frame, 'Axis', (theta2, lower_leg_frame.z))"
     ],
     "language": "python",
     "metadata": {},
     "outputs": [],
     "prompt_number": 11
    },
    {
     "cell_type": "markdown",
     "metadata": {},
     "source": [
      "Now that we have two reference frames chained, we can show the direction cosine matrices of the uppper leg (one end of the chain) to the inertial reference frame (the other end of the chain)."
     ]
    },
    {
     "cell_type": "code",
     "collapsed": false,
     "input": [
      "upper_leg_frame.dcm(inertial_frame)"
     ],
     "language": "python",
     "metadata": {},
     "outputs": [
      {
       "latex": [
        "$$\\left[\\begin{matrix}- \\sin{\\left (\\theta_{1}{\\left (t \\right )} \\right )} \\sin{\\left (\\theta_{2}{\\left (t \\right )} \\right )} + \\cos{\\left (\\theta_{1}{\\left (t \\right )} \\right )} \\cos{\\left (\\theta_{2}{\\left (t \\right )} \\right )} & \\sin{\\left (\\theta_{1}{\\left (t \\right )} \\right )} \\cos{\\left (\\theta_{2}{\\left (t \\right )} \\right )} + \\sin{\\left (\\theta_{2}{\\left (t \\right )} \\right )} \\cos{\\left (\\theta_{1}{\\left (t \\right )} \\right )} & 0\\\\- \\sin{\\left (\\theta_{1}{\\left (t \\right )} \\right )} \\cos{\\left (\\theta_{2}{\\left (t \\right )} \\right )} - \\sin{\\left (\\theta_{2}{\\left (t \\right )} \\right )} \\cos{\\left (\\theta_{1}{\\left (t \\right )} \\right )} & - \\sin{\\left (\\theta_{1}{\\left (t \\right )} \\right )} \\sin{\\left (\\theta_{2}{\\left (t \\right )} \\right )} + \\cos{\\left (\\theta_{1}{\\left (t \\right )} \\right )} \\cos{\\left (\\theta_{2}{\\left (t \\right )} \\right )} & 0\\\\0 & 0 & 1\\end{matrix}\\right]$$"
       ],
       "metadata": {},
       "output_type": "pyout",
       "png": "[encoded data removed]",
       "prompt_number": 12,
       "text": [
        "\u23a1-sin(\u03b8\u2081(t))\u22c5sin(\u03b8\u2082(t)) + cos(\u03b8\u2081(t))\u22c5cos(\u03b8\u2082(t))  sin(\u03b8\u2081(t))\u22c5cos(\u03b8\u2082(t)) + sin(\u03b8\n",
        "\u23a2                                                                             \n",
        "\u23a2-sin(\u03b8\u2081(t))\u22c5cos(\u03b8\u2082(t)) - sin(\u03b8\u2082(t))\u22c5cos(\u03b8\u2081(t))  -sin(\u03b8\u2081(t))\u22c5sin(\u03b8\u2082(t)) + cos(\n",
        "\u23a2                                                                             \n",
        "\u23a3                      0                                               0      \n",
        "\n",
        "\u2082(t))\u22c5cos(\u03b8\u2081(t))   0\u23a4\n",
        "                    \u23a5\n",
        "\u03b8\u2081(t))\u22c5cos(\u03b8\u2082(t))  0\u23a5\n",
        "                    \u23a5\n",
        "                   1\u23a6"
       ]
      }
     ],
     "prompt_number": 12
    },
    {
     "cell_type": "markdown",
     "metadata": {},
     "source": [
      "Notice that thedirection cosine matrix isn't in its simplest form. We can be simplified with using the `simplify()` function."
     ]
    },
    {
     "cell_type": "code",
     "collapsed": false,
     "input": [
      "simplify(upper_leg_frame.dcm(inertial_frame))"
     ],
     "language": "python",
     "metadata": {},
     "outputs": [
      {
       "latex": [
        "$$\\left[\\begin{matrix}\\cos{\\left (\\theta_{1}{\\left (t \\right )} + \\theta_{2}{\\left (t \\right )} \\right )} & \\sin{\\left (\\theta_{1}{\\left (t \\right )} + \\theta_{2}{\\left (t \\right )} \\right )} & 0\\\\- \\sin{\\left (\\theta_{1}{\\left (t \\right )} + \\theta_{2}{\\left (t \\right )} \\right )} & \\cos{\\left (\\theta_{1}{\\left (t \\right )} + \\theta_{2}{\\left (t \\right )} \\right )} & 0\\\\0 & 0 & 1\\end{matrix}\\right]$$"
       ],
       "metadata": {},
       "output_type": "pyout",
       "png": "[encoded data removed]",
       "prompt_number": 13,
       "text": [
        "\u23a1cos(\u03b8\u2081(t) + \u03b8\u2082(t))   sin(\u03b8\u2081(t) + \u03b8\u2082(t))  0\u23a4\n",
        "\u23a2                                          \u23a5\n",
        "\u23a2-sin(\u03b8\u2081(t) + \u03b8\u2082(t))  cos(\u03b8\u2081(t) + \u03b8\u2082(t))  0\u23a5\n",
        "\u23a2                                          \u23a5\n",
        "\u23a3         0                   0           1\u23a6"
       ]
      }
     ],
     "prompt_number": 13
    },
    {
     "cell_type": "markdown",
     "metadata": {},
     "source": [
      "Now as an excercise, rotate the torso reference frame relative to the upper leg through the hip extension angle, $\\theta_3$, and show the simplified direction cosine matrix of the torso with respect to the inertial reference frame."
     ]
    },
    {
     "cell_type": "code",
     "collapsed": false,
     "input": [
      "torso_frame.orient(upper_leg_frame, 'Axis', (theta3, upper_leg_frame.z))\n",
      "simplify(torso_frame.dcm(inertial_frame))"
     ],
     "language": "python",
     "metadata": {},
     "outputs": [
      {
       "latex": [
        "$$\\left[\\begin{matrix}\\cos{\\left (\\theta_{1}{\\left (t \\right )} + \\theta_{2}{\\left (t \\right )} + \\theta_{3}{\\left (t \\right )} \\right )} & \\sin{\\left (\\theta_{1}{\\left (t \\right )} + \\theta_{2}{\\left (t \\right )} + \\theta_{3}{\\left (t \\right )} \\right )} & 0\\\\- \\sin{\\left (\\theta_{1}{\\left (t \\right )} + \\theta_{2}{\\left (t \\right )} + \\theta_{3}{\\left (t \\right )} \\right )} & \\cos{\\left (\\theta_{1}{\\left (t \\right )} + \\theta_{2}{\\left (t \\right )} + \\theta_{3}{\\left (t \\right )} \\right )} & 0\\\\0 & 0 & 1\\end{matrix}\\right]$$"
       ],
       "metadata": {},
       "output_type": "pyout",
       "png": "[encoded data removed]",
       "prompt_number": 14,
       "text": [
        "\u23a1cos(\u03b8\u2081(t) + \u03b8\u2082(t) + \u03b8\u2083(t))   sin(\u03b8\u2081(t) + \u03b8\u2082(t) + \u03b8\u2083(t))  0\u23a4\n",
        "\u23a2                                                          \u23a5\n",
        "\u23a2-sin(\u03b8\u2081(t) + \u03b8\u2082(t) + \u03b8\u2083(t))  cos(\u03b8\u2081(t) + \u03b8\u2082(t) + \u03b8\u2083(t))  0\u23a5\n",
        "\u23a2                                                          \u23a5\n",
        "\u23a3             0                           0               1\u23a6"
       ]
      }
     ],
     "prompt_number": 14
    },
    {
     "cell_type": "heading",
     "level": 1,
     "metadata": {},
     "source": [
      "Point and Locations"
     ]
    },
    {
     "cell_type": "markdown",
     "metadata": {},
     "source": [
      "To derive the equations of motion of a system we need to have defined the accelerations of the mass centers of each rigid body. We will first define points that locate the joints: ankle, knee, and hip to simplify the mass centers of the lower leg, upper leg, and torso."
     ]
    },
    {
     "cell_type": "heading",
     "level": 2,
     "metadata": {},
     "source": [
      "Joints"
     ]
    },
    {
     "cell_type": "markdown",
     "metadata": {},
     "source": [
      "The ankle will be our based point and all other point will be defined with respect to the ankle. The ankle will be considered fixed in the inertial reference frame, i.e. $^I\\mathbf{v}^A=0$"
     ]
    },
    {
     "cell_type": "code",
     "collapsed": false,
     "input": [
      "ankle = Point('A')"
     ],
     "language": "python",
     "metadata": {},
     "outputs": [],
     "prompt_number": 15
    },
    {
     "cell_type": "markdown",
     "metadata": {},
     "source": [
      "The knee is defined with respect to the ankle with a vector that is the length from the ankle to the knee, $l_L$, in the direction of the lower leg $\\hat{\\mathbf{l}}_y$ unit vector. We need the constant length and a new point $K$."
     ]
    },
    {
     "cell_type": "code",
     "collapsed": false,
     "input": [
      "lower_leg_length = symbols('l_L')"
     ],
     "language": "python",
     "metadata": {},
     "outputs": [],
     "prompt_number": 16
    },
    {
     "cell_type": "code",
     "collapsed": false,
     "input": [
      "knee = Point('K')"
     ],
     "language": "python",
     "metadata": {},
     "outputs": [],
     "prompt_number": 17
    },
    {
     "cell_type": "markdown",
     "metadata": {},
     "source": [
      "The position is set with the `Point.set_pos()` method, giving the reference point and the vector."
     ]
    },
    {
     "cell_type": "code",
     "collapsed": false,
     "input": [
      "knee.set_pos(ankle, lower_leg_length * lower_leg_frame.y)"
     ],
     "language": "python",
     "metadata": {},
     "outputs": [],
     "prompt_number": 18
    },
    {
     "cell_type": "markdown",
     "metadata": {},
     "source": [
      "The position from any other point can then be found using the `Point.pos_from()` method."
     ]
    },
    {
     "cell_type": "code",
     "collapsed": false,
     "input": [
      "knee.pos_from(ankle)"
     ],
     "language": "python",
     "metadata": {},
     "outputs": [
      {
       "latex": [
        "$$l_{L}\\mathbf{\\hat{l}_y}$$"
       ],
       "metadata": {},
       "output_type": "pyout",
       "png": "[encoded data removed]",
       "prompt_number": 19,
       "text": [
        "l_L*\u001b[94m\u001b[1ml_y\u001b[0;0m\u001b[0;0m"
       ]
      }
     ],
     "prompt_number": 19
    },
    {
     "cell_type": "markdown",
     "metadata": {},
     "source": [
      "It is also possible to express the returned vector in another reference frame. For example, you may want to know the position of the knee in the coordinates of the inertial reference frame."
     ]
    },
    {
     "cell_type": "code",
     "collapsed": false,
     "input": [
      "knee.pos_from(ankle).express(inertial_frame).simplify()"
     ],
     "language": "python",
     "metadata": {},
     "outputs": [
      {
       "latex": [
        "$$-  l_{L} \\operatorname{sin}\\left(\\theta_{1}\\right)\\mathbf{\\hat{i}_x} + l_{L} \\operatorname{cos}\\left(\\theta_{1}\\right)\\mathbf{\\hat{i}_y}$$"
       ],
       "metadata": {},
       "output_type": "pyout",
       "png": "[encoded data removed]",
       "prompt_number": 20,
       "text": [
        "- l_L\u22c5sin(\u03b8\u2081)*\u001b[94m\u001b[1mi_x\u001b[0;0m\u001b[0;0m + l_L\u22c5cos(\u03b8\u2081)*\u001b[94m\u001b[1mi_y\u001b[0;0m\u001b[0;0m"
       ]
      }
     ],
     "prompt_number": 20
    },
    {
     "cell_type": "markdown",
     "metadata": {},
     "source": [
      "Now define a point to locate the hip a distance of $l_U$ from the knee."
     ]
    },
    {
     "cell_type": "code",
     "collapsed": false,
     "input": [
      "upper_leg_length = symbols('l_U')"
     ],
     "language": "python",
     "metadata": {},
     "outputs": [],
     "prompt_number": 21
    },
    {
     "cell_type": "code",
     "collapsed": false,
     "input": [
      "hip = Point('H')\n",
      "hip.set_pos(knee, upper_leg_length * upper_leg_frame.y)\n",
      "hip.pos_from(ankle)"
     ],
     "language": "python",
     "metadata": {},
     "outputs": [
      {
       "latex": [
        "$$l_{U}\\mathbf{\\hat{u}_y} + l_{L}\\mathbf{\\hat{l}_y}$$"
       ],
       "metadata": {},
       "output_type": "pyout",
       "png": "[encoded data removed]",
       "prompt_number": 22,
       "text": [
        "l_U*\u001b[94m\u001b[1mu_y\u001b[0;0m\u001b[0;0m + l_L*\u001b[94m\u001b[1ml_y\u001b[0;0m\u001b[0;0m"
       ]
      }
     ],
     "prompt_number": 22
    },
    {
     "cell_type": "code",
     "collapsed": false,
     "input": [
      "hip.pos_from(ankle).express(inertial_frame).simplify()"
     ],
     "language": "python",
     "metadata": {},
     "outputs": [
      {
       "latex": [
        "$$(- l_{L} \\operatorname{sin}\\left(\\theta_{1}\\right) - l_{U} \\operatorname{sin}\\left(\\theta_{1} + \\theta_{2}\\right))\\mathbf{\\hat{i}_x} + (l_{L} \\operatorname{cos}\\left(\\theta_{1}\\right) + l_{U} \\operatorname{cos}\\left(\\theta_{1} + \\theta_{2}\\right))\\mathbf{\\hat{i}_y}$$"
       ],
       "metadata": {},
       "output_type": "pyout",
       "png": "[encoded data removed]",
       "prompt_number": 23,
       "text": [
        "(-l_L\u22c5sin(\u03b8\u2081) - l_U\u22c5sin(\u03b8\u2081 + \u03b8\u2082))*\u001b[94m\u001b[1mi_x\u001b[0;0m\u001b[0;0m + (l_L\u22c5cos(\u03b8\u2081) + l_U\u22c5cos(\u03b8\u2081 + \u03b8\u2082))*\u001b[94m\u001b[1mi_y\u001b[0;0m\u001b[0;0m"
       ]
      }
     ],
     "prompt_number": 23
    },
    {
     "cell_type": "heading",
     "level": 2,
     "metadata": {},
     "source": [
      "Center of mass locations"
     ]
    },
    {
     "cell_type": "markdown",
     "metadata": {},
     "source": [
      "The mass centers of the three bodies can be located in a similar fashion."
     ]
    },
    {
     "cell_type": "code",
     "collapsed": false,
     "input": [
      "lower_leg_com_length, upper_leg_com_length, torso_com_length = symbols('d_L, d_U, d_T')"
     ],
     "language": "python",
     "metadata": {},
     "outputs": [],
     "prompt_number": 24
    },
    {
     "cell_type": "code",
     "collapsed": false,
     "input": [
      "lower_leg_mass_center = Point('L_o')\n",
      "lower_leg_mass_center.set_pos(ankle, lower_leg_com_length * lower_leg_frame.y)\n",
      "lower_leg_mass_center.pos_from(ankle)"
     ],
     "language": "python",
     "metadata": {},
     "outputs": [
      {
       "latex": [
        "$$d_{L}\\mathbf{\\hat{l}_y}$$"
       ],
       "metadata": {},
       "output_type": "pyout",
       "png": "[encoded data removed]",
       "prompt_number": 25,
       "text": [
        "d_L*\u001b[94m\u001b[1ml_y\u001b[0;0m\u001b[0;0m"
       ]
      }
     ],
     "prompt_number": 25
    },
    {
     "cell_type": "code",
     "collapsed": false,
     "input": [
      "upper_leg_mass_center = Point('U_o')\n",
      "upper_leg_mass_center.set_pos(knee, upper_leg_com_length * upper_leg_frame.y)\n",
      "upper_leg_mass_center.pos_from(ankle)"
     ],
     "language": "python",
     "metadata": {},
     "outputs": [
      {
       "latex": [
        "$$d_{U}\\mathbf{\\hat{u}_y} + l_{L}\\mathbf{\\hat{l}_y}$$"
       ],
       "metadata": {},
       "output_type": "pyout",
       "png": "[encoded data removed]",
       "prompt_number": 26,
       "text": [
        "d_U*\u001b[94m\u001b[1mu_y\u001b[0;0m\u001b[0;0m + l_L*\u001b[94m\u001b[1ml_y\u001b[0;0m\u001b[0;0m"
       ]
      }
     ],
     "prompt_number": 26
    },
    {
     "cell_type": "code",
     "collapsed": false,
     "input": [
      "torso_mass_center = Point('T_o')\n",
      "torso_mass_center.set_pos(hip, torso_com_length * torso_frame.y)\n",
      "torso_mass_center.pos_from(ankle)"
     ],
     "language": "python",
     "metadata": {},
     "outputs": [
      {
       "latex": [
        "$$d_{T}\\mathbf{\\hat{t}_y} + l_{U}\\mathbf{\\hat{u}_y} + l_{L}\\mathbf{\\hat{l}_y}$$"
       ],
       "metadata": {},
       "output_type": "pyout",
       "png": "[encoded data removed]",
       "prompt_number": 27,
       "text": [
        "d_T*\u001b[94m\u001b[1mt_y\u001b[0;0m\u001b[0;0m + l_U*\u001b[94m\u001b[1mu_y\u001b[0;0m\u001b[0;0m + l_L*\u001b[94m\u001b[1ml_y\u001b[0;0m\u001b[0;0m"
       ]
      }
     ],
     "prompt_number": 27
    },
    {
     "cell_type": "heading",
     "level": 1,
     "metadata": {},
     "source": [
      "Kinematical Differential Equations"
     ]
    },
    {
     "cell_type": "markdown",
     "metadata": {},
     "source": [
      "At this point, we are going to select three generalized speeds, $\\omega_1$, $\\omega_2$, and $\\omega_3$, so that the time derivative of the generalized coordinates are equal to the genearlized speeds. These relationships are called the kinematical differential equations and allow for the remaining equations of motion to be derived in first order form. This step is explicit when using Kane's method, which we will do."
     ]
    },
    {
     "cell_type": "code",
     "collapsed": false,
     "input": [
      "omega1, omega2, omega3 = dynamicsymbols('omega1, omega2, omega3')"
     ],
     "language": "python",
     "metadata": {},
     "outputs": [],
     "prompt_number": 28
    },
    {
     "cell_type": "markdown",
     "metadata": {},
     "source": [
      "To enforce the relationships: $0 = w_n - \\dot{\\theta}_n$ we define these three equations: "
     ]
    },
    {
     "cell_type": "code",
     "collapsed": false,
     "input": [
      "time = symbols('t')"
     ],
     "language": "python",
     "metadata": {},
     "outputs": [],
     "prompt_number": 29
    },
    {
     "cell_type": "code",
     "collapsed": false,
     "input": [
      "kinematical_differential_equations = [omega1 - theta1.diff(time),\n",
      "                                      omega2 - theta2.diff(time),\n",
      "                                      omega3 - theta3.diff(time)]\n",
      "kinematical_differential_equations"
     ],
     "language": "python",
     "metadata": {},
     "outputs": [
      {
       "latex": [
        "$$\\begin{bmatrix}\\omega_{1}{\\left (t \\right )} - \\frac{d}{d t} \\theta_{1}{\\left (t \\right )}, & \\omega_{2}{\\left (t \\right )} - \\frac{d}{d t} \\theta_{2}{\\left (t \\right )}, & \\omega_{3}{\\left (t \\right )} - \\frac{d}{d t} \\theta_{3}{\\left (t \\right )}\\end{bmatrix}$$"
       ],
       "metadata": {},
       "output_type": "pyout",
       "png": "[encoded data removed]",
       "prompt_number": 30,
       "text": [
        "\u23a1        d                  d                  d        \u23a4\n",
        "\u23a2\u03c9\u2081(t) - \u2500\u2500(\u03b8\u2081(t)), \u03c9\u2082(t) - \u2500\u2500(\u03b8\u2082(t)), \u03c9\u2083(t) - \u2500\u2500(\u03b8\u2083(t))\u23a5\n",
        "\u23a3        dt                 dt                 dt       \u23a6"
       ]
      }
     ],
     "prompt_number": 30
    },
    {
     "cell_type": "heading",
     "level": 1,
     "metadata": {},
     "source": [
      "Angular Velocities"
     ]
    },
    {
     "cell_type": "markdown",
     "metadata": {},
     "source": [
      "Now we can use the generalized speeds to define the angular velocities of the reference frames. The `ReferenceFrame.set_ang_vel()` method takes a base frame and the angular velocity vector. Due to our definitions of rotations these are simply $\\omega_n \\hat{\\mathbf{i}}$."
     ]
    },
    {
     "cell_type": "code",
     "collapsed": false,
     "input": [
      "lower_leg_frame.set_ang_vel(inertial_frame, omega1 * inertial_frame.z)\n",
      "lower_leg_frame.ang_vel_in(inertial_frame)"
     ],
     "language": "python",
     "metadata": {},
     "outputs": [
      {
       "latex": [
        "$$\\omega_{1}\\mathbf{\\hat{i}_z}$$"
       ],
       "metadata": {},
       "output_type": "pyout",
       "png": "[encoded data removed]",
       "prompt_number": 31,
       "text": [
        "\u03c9\u2081*\u001b[94m\u001b[1mi_z\u001b[0;0m\u001b[0;0m"
       ]
      }
     ],
     "prompt_number": 31
    },
    {
     "cell_type": "code",
     "collapsed": false,
     "input": [
      "upper_leg_frame.set_ang_vel(lower_leg_frame, omega2 * inertial_frame.z)\n",
      "upper_leg_frame.ang_vel_in(inertial_frame)"
     ],
     "language": "python",
     "metadata": {},
     "outputs": [
      {
       "latex": [
        "$$(\\omega_{1} + \\omega_{2})\\mathbf{\\hat{i}_z}$$"
       ],
       "metadata": {},
       "output_type": "pyout",
       "png": "[encoded data removed]",
       "prompt_number": 32,
       "text": [
        "(\u03c9\u2081 + \u03c9\u2082)*\u001b[94m\u001b[1mi_z\u001b[0;0m\u001b[0;0m"
       ]
      }
     ],
     "prompt_number": 32
    },
    {
     "cell_type": "markdown",
     "metadata": {},
     "source": [
      "Define the torso reference frames angular velocity such that it is $\\omega_3 \\hat{\\mathbf{i}}$."
     ]
    },
    {
     "cell_type": "code",
     "collapsed": false,
     "input": [
      "torso_frame.set_ang_vel(upper_leg_frame, omega3 * inertial_frame.z)\n",
      "torso_frame.ang_vel_in(inertial_frame)"
     ],
     "language": "python",
     "metadata": {},
     "outputs": [
      {
       "latex": [
        "$$(\\omega_{1} + \\omega_{2} + \\omega_{3})\\mathbf{\\hat{i}_z}$$"
       ],
       "metadata": {},
       "output_type": "pyout",
       "png": "[encoded data removed]",
       "prompt_number": 33,
       "text": [
        "(\u03c9\u2081 + \u03c9\u2082 + \u03c9\u2083)*\u001b[94m\u001b[1mi_z\u001b[0;0m\u001b[0;0m"
       ]
      }
     ],
     "prompt_number": 33
    },
    {
     "cell_type": "heading",
     "level": 1,
     "metadata": {},
     "source": [
      "Linear Velocities"
     ]
    },
    {
     "cell_type": "markdown",
     "metadata": {},
     "source": [
      "Finally, the linear velocities of the mass centers are needed. Starting at the ankle we set the velocity to 0."
     ]
    },
    {
     "cell_type": "code",
     "collapsed": false,
     "input": [
      "ankle.set_vel(inertial_frame, 0)"
     ],
     "language": "python",
     "metadata": {},
     "outputs": [],
     "prompt_number": 34
    },
    {
     "cell_type": "markdown",
     "metadata": {},
     "source": [
      "Working our way up the chain we can make use of the fact that the joint points are located on two rigid bodies. Any fixed point in a reference frame can be computed if the linear velocity of another point on that frame is known and the frame's angular velocity is known.\n",
      "\n",
      "$$^I\\mathbf{v}^{P_2} = ^I\\mathbf{v}^{P_1} + ^I\\omega^A \\times \\mathbf{r}^{\\frac{P_2}{P_1}}$$\n",
      "\n",
      "The `Point.v2pt_theory()` method makes it easy to do this calculation."
     ]
    },
    {
     "cell_type": "code",
     "collapsed": false,
     "input": [
      "lower_leg_mass_center.v2pt_theory(ankle, inertial_frame, lower_leg_frame)\n",
      "lower_leg_mass_center.vel(inertial_frame)"
     ],
     "language": "python",
     "metadata": {},
     "outputs": [
      {
       "latex": [
        "$$-  d_{L} \\omega_{1}\\mathbf{\\hat{l}_x}$$"
       ],
       "metadata": {},
       "output_type": "pyout",
       "png": "[encoded data removed]",
       "prompt_number": 35,
       "text": [
        "- d_L\u22c5\u03c9\u2081*\u001b[94m\u001b[1ml_x\u001b[0;0m\u001b[0;0m"
       ]
      }
     ],
     "prompt_number": 35
    },
    {
     "cell_type": "code",
     "collapsed": false,
     "input": [
      "knee.v2pt_theory(ankle, inertial_frame, lower_leg_frame)\n",
      "knee.vel(inertial_frame)"
     ],
     "language": "python",
     "metadata": {},
     "outputs": [
      {
       "latex": [
        "$$-  l_{L} \\omega_{1}\\mathbf{\\hat{l}_x}$$"
       ],
       "metadata": {},
       "output_type": "pyout",
       "png": "[encoded data removed]",
       "prompt_number": 36,
       "text": [
        "- l_L\u22c5\u03c9\u2081*\u001b[94m\u001b[1ml_x\u001b[0;0m\u001b[0;0m"
       ]
      }
     ],
     "prompt_number": 36
    },
    {
     "cell_type": "code",
     "collapsed": false,
     "input": [
      "upper_leg_mass_center.v2pt_theory(knee, inertial_frame, upper_leg_frame)\n",
      "upper_leg_mass_center.vel(inertial_frame)"
     ],
     "language": "python",
     "metadata": {},
     "outputs": [
      {
       "latex": [
        "$$-  l_{L} \\omega_{1}\\mathbf{\\hat{l}_x} -  d_{U} \\left(\\omega_{1} + \\omega_{2}\\right)\\mathbf{\\hat{u}_x}$$"
       ],
       "metadata": {},
       "output_type": "pyout",
       "png": "[encoded data removed]",
       "prompt_number": 37,
       "text": [
        "- l_L\u22c5\u03c9\u2081*\u001b[94m\u001b[1ml_x\u001b[0;0m\u001b[0;0m - d_U\u22c5(\u03c9\u2081 + \u03c9\u2082)*\u001b[94m\u001b[1mu_x\u001b[0;0m\u001b[0;0m"
       ]
      }
     ],
     "prompt_number": 37
    },
    {
     "cell_type": "markdown",
     "metadata": {},
     "source": [
      "As an excercise, set the velocities of the hip and torso mass center using the `v2pt_theory()` method."
     ]
    },
    {
     "cell_type": "code",
     "collapsed": false,
     "input": [
      "hip.v2pt_theory(knee, inertial_frame, upper_leg_frame)\n",
      "hip.vel(inertial_frame)"
     ],
     "language": "python",
     "metadata": {},
     "outputs": [
      {
       "latex": [
        "$$-  l_{L} \\omega_{1}\\mathbf{\\hat{l}_x} -  l_{U} \\left(\\omega_{1} + \\omega_{2}\\right)\\mathbf{\\hat{u}_x}$$"
       ],
       "metadata": {},
       "output_type": "pyout",
       "png": "[encoded data removed]",
       "prompt_number": 38,
       "text": [
        "- l_L\u22c5\u03c9\u2081*\u001b[94m\u001b[1ml_x\u001b[0;0m\u001b[0;0m - l_U\u22c5(\u03c9\u2081 + \u03c9\u2082)*\u001b[94m\u001b[1mu_x\u001b[0;0m\u001b[0;0m"
       ]
      }
     ],
     "prompt_number": 38
    },
    {
     "cell_type": "code",
     "collapsed": false,
     "input": [
      "torso_mass_center.v2pt_theory(hip, inertial_frame, torso_frame)\n",
      "torso_mass_center.vel(inertial_frame)"
     ],
     "language": "python",
     "metadata": {},
     "outputs": [
      {
       "latex": [
        "$$-  l_{L} \\omega_{1}\\mathbf{\\hat{l}_x} -  l_{U} \\left(\\omega_{1} + \\omega_{2}\\right)\\mathbf{\\hat{u}_x} -  d_{T} \\left(\\omega_{1} + \\omega_{2} + \\omega_{3}\\right)\\mathbf{\\hat{t}_x}$$"
       ],
       "metadata": {},
       "output_type": "pyout",
       "png": "[encoded data removed]",
       "prompt_number": 39,
       "text": [
        "- l_L\u22c5\u03c9\u2081*\u001b[94m\u001b[1ml_x\u001b[0;0m\u001b[0;0m - l_U\u22c5(\u03c9\u2081 + \u03c9\u2082)*\u001b[94m\u001b[1mu_x\u001b[0;0m\u001b[0;0m - d_T\u22c5(\u03c9\u2081 + \u03c9\u2082 + \u03c9\u2083)*\u001b[94m\u001b[1mt_x\u001b[0;0m\u001b[0;0m"
       ]
      }
     ],
     "prompt_number": 39
    },
    {
     "cell_type": "heading",
     "level": 1,
     "metadata": {},
     "source": [
      "Accelerations"
     ]
    },
    {
     "cell_type": "markdown",
     "metadata": {},
     "source": [
      "The linear and angular accelerations can also be specified, but we will allow them to be computed automatically."
     ]
    }
   ],
   "metadata": {}
  }
 ]
}