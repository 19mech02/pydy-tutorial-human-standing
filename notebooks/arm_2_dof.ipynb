{
 "metadata": {
  "name": ""
 },
 "nbformat": 3,
 "nbformat_minor": 0,
 "worksheets": [
  {
   "cells": [
    {
     "cell_type": "code",
     "collapsed": false,
     "input": [
      "import sympy\n",
      "from sympy.physics import mechanics as me"
     ],
     "language": "python",
     "metadata": {},
     "outputs": [],
     "prompt_number": 1
    },
    {
     "cell_type": "code",
     "collapsed": false,
     "input": [
      "theta, phi = me.dynamicsymbols('theta, phi')"
     ],
     "language": "python",
     "metadata": {},
     "outputs": [],
     "prompt_number": 6
    },
    {
     "cell_type": "code",
     "collapsed": false,
     "input": [
      "lower_arm_length, upper_arm_length = sympy.symbols('l_l, l_u')"
     ],
     "language": "python",
     "metadata": {},
     "outputs": [],
     "prompt_number": 17
    },
    {
     "cell_type": "code",
     "collapsed": false,
     "input": [
      "inertial_frame = me.ReferenceFrame('I')\n",
      "upper_arm_frame = me.ReferenceFrame('U')\n",
      "lower_arm_frame = me.ReferenceFrame('L')"
     ],
     "language": "python",
     "metadata": {},
     "outputs": [],
     "prompt_number": 18
    },
    {
     "cell_type": "code",
     "collapsed": false,
     "input": [
      "upper_arm_frame.orient(inertial_frame, 'Axis', (theta, inertial_frame.z))"
     ],
     "language": "python",
     "metadata": {},
     "outputs": [],
     "prompt_number": 19
    },
    {
     "cell_type": "code",
     "collapsed": false,
     "input": [
      "lower_arm_frame.orient(inertial_frame, 'Axis', (phi, inertial_frame.z))\n",
      "lower_arm_frame.dcm(inertial_frame)"
     ],
     "language": "python",
     "metadata": {},
     "outputs": [
      {
       "metadata": {},
       "output_type": "pyout",
       "prompt_number": 20,
       "text": [
        "Matrix([\n",
        "[ cos(phi), sin(phi), 0],\n",
        "[-sin(phi), cos(phi), 0],\n",
        "[        0,        0, 1]])"
       ]
      }
     ],
     "prompt_number": 20
    },
    {
     "cell_type": "code",
     "collapsed": false,
     "input": [
      "shoulder = me.Point('S')\n",
      "shoulder.set_vel(inertial_frame, 0)"
     ],
     "language": "python",
     "metadata": {},
     "outputs": [],
     "prompt_number": 21
    },
    {
     "cell_type": "code",
     "collapsed": false,
     "input": [
      "elbow = me.Point('E')\n",
      "elbow.set_pos(shoulder, upper_arm_length * upper_arm_frame.x)"
     ],
     "language": "python",
     "metadata": {},
     "outputs": [],
     "prompt_number": 26
    },
    {
     "cell_type": "code",
     "collapsed": false,
     "input": [
      "hand = me.Point('H')\n",
      "hand.set_pos(elbow, lower_arm_length * lower_arm_frame.x)"
     ],
     "language": "python",
     "metadata": {},
     "outputs": [],
     "prompt_number": 30
    },
    {
     "cell_type": "code",
     "collapsed": false,
     "input": [],
     "language": "python",
     "metadata": {},
     "outputs": []
    }
   ],
   "metadata": {}
  }
 ]
}