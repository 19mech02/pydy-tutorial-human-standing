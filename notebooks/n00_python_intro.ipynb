{
 "metadata": {
  "name": ""
 },
 "nbformat": 3,
 "nbformat_minor": 0,
 "worksheets": [
  {
   "cells": [
    {
     "cell_type": "heading",
     "level": 1,
     "metadata": {},
     "source": [
      "Introduction"
     ]
    },
    {
     "cell_type": "markdown",
     "metadata": {},
     "source": [
      "The following is a brief introduction to Python and the IPython Notebook. There is much more to learn than what is covered here. This is just enough to get you started with the tutorial."
     ]
    },
    {
     "cell_type": "heading",
     "level": 1,
     "metadata": {},
     "source": [
      "The IPython Notebook"
     ]
    },
    {
     "cell_type": "markdown",
     "metadata": {},
     "source": [
      "IPython consists of two processes: a kernel and a frontend. The kernel executes code while the frontend provides an interface for the user enter their code. The IPython notebook is a frontend for Python which provides an interactive web-environment for executing code and displaying rich media."
     ]
    },
    {
     "cell_type": "heading",
     "level": 3,
     "metadata": {},
     "source": [
      "Using the Notebook"
     ]
    },
    {
     "cell_type": "markdown",
     "metadata": {},
     "source": [
      "To start an IPython notebook session open a command prompt, navigate to a desired working directory then issue the following command:\n",
      "\n",
      "`ipython notebook`\n",
      "\n",
      "A new window will open in your web browser where you can open an existing notebook or start a new one.\n",
      "Notebooks are organinzed with cells. You may have a code cell for inputing commands followed by its result cell which contains the output of the code. You may also have a text cell, such as this one you're reading right now. Cell type can be changed in the above dropdown menu.\n",
      "\n",
      "There is the menubar above for navigating a notebook but you will find the following shortcuts helpful:\n",
      "\n",
      "- `Enter` : Create a new line with in cell\n",
      "- `Shift + Enter` : Execute cell and advance to next cell\n",
      "- `Ctrl + Enter` : Execute cell in place (do not advance to the next cell)\n",
      "- `Ctrl + M` then press `H` : Display keyboard shortcuts\n",
      "\n",
      "At times you might run code that gets stuck in an infinite loop or simply you want to clear all your workspace variables and start over. To solve each of these problems you can click on the menu:\n",
      "\n",
      "`Kernel -> Interrupt`\n",
      "\n",
      "`Kernel -> Restart`\n",
      "\n"
     ]
    },
    {
     "cell_type": "heading",
     "level": 3,
     "metadata": {},
     "source": [
      "Magic Commands"
     ]
    },
    {
     "cell_type": "markdown",
     "metadata": {},
     "source": [
      "These are commands to control IPython itself."
     ]
    },
    {
     "cell_type": "code",
     "collapsed": false,
     "input": [
      "# list available magic commands\n",
      "%lsmagic"
     ],
     "language": "python",
     "metadata": {},
     "outputs": [
      {
       "json": [
        "{\"cell\": {\"prun\": \"ExecutionMagics\", \"file\": \"Other\", \"!\": \"OSMagics\", \"capture\": \"ExecutionMagics\", \"timeit\": \"ExecutionMagics\", \"script\": \"ScriptMagics\", \"ruby\": \"Other\", \"system\": \"OSMagics\", \"perl\": \"Other\", \"HTML\": \"Other\", \"bash\": \"Other\", \"python\": \"Other\", \"SVG\": \"Other\", \"javascript\": \"DisplayMagics\", \"writefile\": \"OSMagics\", \"pypy\": \"Other\", \"python3\": \"Other\", \"latex\": \"DisplayMagics\", \"sx\": \"OSMagics\", \"svg\": \"DisplayMagics\", \"html\": \"DisplayMagics\", \"sh\": \"Other\", \"time\": \"ExecutionMagics\", \"debug\": \"ExecutionMagics\"}, \"line\": {\"load\": \"CodeMagics\", \"psource\": \"NamespaceMagics\", \"lsmagic\": \"BasicMagics\", \"logstate\": \"LoggingMagics\", \"logstart\": \"LoggingMagics\", \"popd\": \"OSMagics\", \"ed\": \"Other\", \"pycat\": \"OSMagics\", \"loadpy\": \"CodeMagics\", \"install_ext\": \"ExtensionMagics\", \"cd\": \"OSMagics\", \"pastebin\": \"CodeMagics\", \"clear\": \"KernelMagics\", \"colors\": \"BasicMagics\", \"prun\": \"ExecutionMagics\", \"pushd\": \"OSMagics\", \"rep\": \"Other\", \"config\": \"ConfigMagics\", \"dirs\": \"OSMagics\", \"time\": \"ExecutionMagics\", \"who_ls\": \"NamespaceMagics\", \"install_profiles\": \"DeprecatedMagics\", \"macro\": \"ExecutionMagics\", \"autocall\": \"AutoMagics\", \"alias\": \"OSMagics\", \"bookmark\": \"OSMagics\", \"connect_info\": \"KernelMagics\", \"rehashx\": \"OSMagics\", \"pprint\": \"BasicMagics\", \"system\": \"OSMagics\", \"whos\": \"NamespaceMagics\", \"hist\": \"Other\", \"install_default_config\": \"DeprecatedMagics\", \"logoff\": \"LoggingMagics\", \"env\": \"OSMagics\", \"qtconsole\": \"KernelMagics\", \"load_ext\": \"ExtensionMagics\", \"save\": \"CodeMagics\", \"tb\": \"ExecutionMagics\", \"store\": \"StoreMagics\", \"more\": \"KernelMagics\", \"profile\": \"BasicMagics\", \"doctest_mode\": \"KernelMagics\", \"pylab\": \"PylabMagics\", \"run\": \"ExecutionMagics\", \"reset_selective\": \"NamespaceMagics\", \"pfile\": \"NamespaceMagics\", \"pinfo2\": \"NamespaceMagics\", \"pdef\": \"NamespaceMagics\", \"killbgscripts\": \"ScriptMagics\", \"who\": \"NamespaceMagics\", \"precision\": \"BasicMagics\", \"matplotlib\": \"PylabMagics\", \"quickref\": \"BasicMagics\", \"pinfo\": \"NamespaceMagics\", \"pwd\": \"OSMagics\", \"psearch\": \"NamespaceMagics\", \"autosave\": \"KernelMagics\", \"less\": \"KernelMagics\", \"sc\": \"OSMagics\", \"automagic\": \"AutoMagics\", \"reset\": \"NamespaceMagics\", \"sx\": \"OSMagics\", \"magic\": \"BasicMagics\", \"dhist\": \"OSMagics\", \"timeit\": \"ExecutionMagics\", \"edit\": \"KernelMagics\", \"logstop\": \"LoggingMagics\", \"gui\": \"BasicMagics\", \"xdel\": \"NamespaceMagics\", \"xmode\": \"BasicMagics\", \"notebook\": \"BasicMagics\", \"pdb\": \"ExecutionMagics\", \"recall\": \"HistoryMagics\", \"unalias\": \"OSMagics\", \"unload_ext\": \"ExtensionMagics\", \"alias_magic\": \"BasicMagics\", \"reload_ext\": \"ExtensionMagics\", \"man\": \"KernelMagics\", \"rerun\": \"HistoryMagics\", \"debug\": \"ExecutionMagics\", \"logon\": \"LoggingMagics\", \"page\": \"BasicMagics\", \"pdoc\": \"NamespaceMagics\", \"history\": \"HistoryMagics\"}}"
       ],
       "metadata": {},
       "output_type": "pyout",
       "prompt_number": 1,
       "text": [
        "Available line magics:\n",
        "%alias  %alias_magic  %autocall  %automagic  %autosave  %bookmark  %cd  %clear  %colors  %config  %connect_info  %debug  %dhist  %dirs  %doctest_mode  %ed  %edit  %env  %gui  %hist  %history  %install_default_config  %install_ext  %install_profiles  %killbgscripts  %less  %load  %load_ext  %loadpy  %logoff  %logon  %logstart  %logstate  %logstop  %lsmagic  %macro  %magic  %man  %matplotlib  %more  %notebook  %page  %pastebin  %pdb  %pdef  %pdoc  %pfile  %pinfo  %pinfo2  %popd  %pprint  %precision  %profile  %prun  %psearch  %psource  %pushd  %pwd  %pycat  %pylab  %qtconsole  %quickref  %recall  %rehashx  %reload_ext  %rep  %rerun  %reset  %reset_selective  %run  %save  %sc  %store  %sx  %system  %tb  %time  %timeit  %unalias  %unload_ext  %who  %who_ls  %whos  %xdel  %xmode\n",
        "\n",
        "Available cell magics:\n",
        "%%!  %%HTML  %%SVG  %%bash  %%capture  %%debug  %%file  %%html  %%javascript  %%latex  %%perl  %%prun  %%pypy  %%python  %%python3  %%ruby  %%script  %%sh  %%svg  %%sx  %%system  %%time  %%timeit  %%writefile\n",
        "\n",
        "Automagic is ON, % prefix IS NOT needed for line magics."
       ]
      }
     ],
     "prompt_number": 1
    },
    {
     "cell_type": "code",
     "collapsed": false,
     "input": [
      "# run a script\n",
      "%load utils.py"
     ],
     "language": "python",
     "metadata": {},
     "outputs": []
    },
    {
     "cell_type": "code",
     "collapsed": false,
     "input": [
      "#!/usr/bin/env python\n",
      "\n",
      "import numpy as np\n",
      "\n",
      "\n",
      "def controllable(a, b):\n",
      "    \"\"\"Returns true if the system is controllable and false if not.\n",
      "\n",
      "    Parameters\n",
      "    ----------\n",
      "    a : array_like, shape(n,n)\n",
      "        The state matrix.\n",
      "    b : array_like, shape(n,r)\n",
      "        The input matrix.\n",
      "\n",
      "    Returns\n",
      "    -------\n",
      "    controllable : boolean\n",
      "\n",
      "    \"\"\"\n",
      "    a = np.matrix(a)\n",
      "    b = np.matrix(b)\n",
      "    n = a.shape[0]\n",
      "    controllability_matrix = []\n",
      "    for i in range(n):\n",
      "        controllability_matrix.append(a ** i * b)\n",
      "    controllability_matrix = np.hstack(controllability_matrix)\n",
      "\n",
      "    return np.linalg.matrix_rank(controllability_matrix) == n\n"
     ],
     "language": "python",
     "metadata": {},
     "outputs": []
    },
    {
     "cell_type": "heading",
     "level": 3,
     "metadata": {},
     "source": [
      "Need Help?"
     ]
    },
    {
     "cell_type": "markdown",
     "metadata": {},
     "source": [
      "In case you're lost help isn't far. The following commands should provide assistance."
     ]
    },
    {
     "cell_type": "code",
     "collapsed": false,
     "input": [
      "# Displays an overview of IPython's features\n",
      "?"
     ],
     "language": "python",
     "metadata": {},
     "outputs": [],
     "prompt_number": 2
    },
    {
     "cell_type": "code",
     "collapsed": false,
     "input": [
      "# A Quick Reference for IPython\n",
      "%quickref"
     ],
     "language": "python",
     "metadata": {},
     "outputs": [],
     "prompt_number": 3
    },
    {
     "cell_type": "code",
     "collapsed": false,
     "input": [
      "# For details about an object\n",
      "# object_name?\n",
      "round??"
     ],
     "language": "python",
     "metadata": {},
     "outputs": [],
     "prompt_number": 6
    },
    {
     "cell_type": "code",
     "collapsed": false,
     "input": [
      "# list functions available in your workspace\n",
      "dir()"
     ],
     "language": "python",
     "metadata": {},
     "outputs": [
      {
       "metadata": {},
       "output_type": "pyout",
       "prompt_number": 7,
       "text": [
        "['In',\n",
        " 'Out',\n",
        " '_',\n",
        " '_1',\n",
        " '__',\n",
        " '___',\n",
        " '__builtin__',\n",
        " '__builtins__',\n",
        " '__doc__',\n",
        " '__name__',\n",
        " '_dh',\n",
        " '_i',\n",
        " '_i1',\n",
        " '_i2',\n",
        " '_i3',\n",
        " '_i4',\n",
        " '_i5',\n",
        " '_i6',\n",
        " '_i7',\n",
        " '_ih',\n",
        " '_ii',\n",
        " '_iii',\n",
        " '_oh',\n",
        " '_sh',\n",
        " 'exit',\n",
        " 'get_ipython',\n",
        " 'quit']"
       ]
      }
     ],
     "prompt_number": 7
    },
    {
     "cell_type": "code",
     "collapsed": false,
     "input": [
      "# list variables available in your workspace\n",
      "%whos"
     ],
     "language": "python",
     "metadata": {},
     "outputs": [
      {
       "output_type": "stream",
       "stream": "stdout",
       "text": [
        "Interactive namespace is empty.\n"
       ]
      }
     ],
     "prompt_number": 8
    },
    {
     "cell_type": "heading",
     "level": 1,
     "metadata": {},
     "source": [
      "Python"
     ]
    },
    {
     "cell_type": "heading",
     "level": 3,
     "metadata": {},
     "source": [
      "Basic Data Types"
     ]
    },
    {
     "cell_type": "code",
     "collapsed": false,
     "input": [
      "a = 5\n",
      "b = 5.0\n",
      "c = float(5)\n",
      "d = 'dee'\n",
      "e = 'e'\n",
      "\n",
      "type(a), type(b), type(c), type(d), type(e)"
     ],
     "language": "python",
     "metadata": {},
     "outputs": []
    },
    {
     "cell_type": "heading",
     "level": 3,
     "metadata": {},
     "source": [
      "Data Structures"
     ]
    },
    {
     "cell_type": "markdown",
     "metadata": {},
     "source": [
      "Python offers several builtin data structures for arranging data in memory. We will be making use of lists, dictionaries, tuples during this tutorial. "
     ]
    },
    {
     "cell_type": "heading",
     "level": 4,
     "metadata": {},
     "source": [
      "Lists"
     ]
    },
    {
     "cell_type": "markdown",
     "metadata": {},
     "source": [
      "A list is a versatile container that holds objects in the order given. Lists are typically used to group similar items but may contain heterogenous data types."
     ]
    },
    {
     "cell_type": "code",
     "collapsed": false,
     "input": [
      "empty_list = []\n",
      "\n",
      "string_list = ['lions', 'tigers', 'bears', 'sharks', 'hamsters']\n",
      "\n",
      "int_list = [0, 1, 2, 3, 4]\n",
      "int_list2 = range(5,10)\n",
      "\n",
      "list_from_variables = [a,b,c,d,e]\n",
      "\n",
      "list_of_lists = [empty_list,\n",
      "                 string_list,\n",
      "                 list_from_variables,\n",
      "                 int_list,\n",
      "                 int_list2]\n",
      "\n",
      "print list_of_lists"
     ],
     "language": "python",
     "metadata": {},
     "outputs": []
    },
    {
     "cell_type": "markdown",
     "metadata": {},
     "source": [
      "Elements of a list are accessible by their index."
     ]
    },
    {
     "cell_type": "code",
     "collapsed": false,
     "input": [
      "print string_list[0] \n",
      "print string_list[1:4]\n",
      "print int_list[::2] # get every 2nd element\n",
      "print list_of_lists[1][4] # get a nested item"
     ],
     "language": "python",
     "metadata": {},
     "outputs": []
    },
    {
     "cell_type": "markdown",
     "metadata": {},
     "source": [
      "List are mutable, meaning after a list is created we can change, add, or remove elements."
     ]
    },
    {
     "cell_type": "code",
     "collapsed": true,
     "input": [
      "int_list[2] = 222\n",
      "\n",
      "int_list.append(5)\n",
      "\n",
      "string_list.remove('lions')\n",
      "\n",
      "list_from_variables.extend(int_list)\n",
      "\n",
      "print int_list\n",
      "print string_list\n",
      "print list_from_variables"
     ],
     "language": "python",
     "metadata": {},
     "outputs": []
    },
    {
     "cell_type": "heading",
     "level": 4,
     "metadata": {},
     "source": [
      "Tuples"
     ]
    },
    {
     "cell_type": "markdown",
     "metadata": {},
     "source": [
      "Tuples share similarites with lists. A tuple is good for organizing related data that may be of different types. Notice they are defined with parenthesis, `()`, rather than brackets."
     ]
    },
    {
     "cell_type": "code",
     "collapsed": false,
     "input": [
      "joe_blow = (32, 'tall', 'likes hats')\n",
      "\n",
      "print joe_blow[1]"
     ],
     "language": "python",
     "metadata": {},
     "outputs": []
    },
    {
     "cell_type": "markdown",
     "metadata": {},
     "source": [
      "Unlike lists, tuples are immutable. They cannot be changed once defined."
     ]
    },
    {
     "cell_type": "code",
     "collapsed": false,
     "input": [
      "# this won't work\n",
      "joe_blow.append('married')\n",
      "\n",
      "# neither will this\n",
      "joe_blow[2] = 'not really a fan of hats'"
     ],
     "language": "python",
     "metadata": {},
     "outputs": []
    },
    {
     "cell_type": "markdown",
     "metadata": {},
     "source": [
      "In python a function can return multiple values. These ouputs are packed into a tuple. Tuple unpacking assigns individual elements of a tuple to separate variables."
     ]
    },
    {
     "cell_type": "code",
     "collapsed": false,
     "input": [
      "pets = ('elephant', 'cow', 'rock')\n",
      "\n",
      "pet1, pet2, pet3 = pets"
     ],
     "language": "python",
     "metadata": {},
     "outputs": []
    },
    {
     "cell_type": "markdown",
     "metadata": {},
     "source": [
      "A peculiar thing about tuples in python is defining a single element tuple. Note the trialing comma. This is necessary for python to know you want a one-element tuple."
     ]
    },
    {
     "cell_type": "code",
     "collapsed": false,
     "input": [
      "(pet1,)"
     ],
     "language": "python",
     "metadata": {},
     "outputs": []
    },
    {
     "cell_type": "heading",
     "level": 4,
     "metadata": {},
     "source": [
      "Dictionaries"
     ]
    },
    {
     "cell_type": "markdown",
     "metadata": {},
     "source": [
      "A dictionary is an unordered set of *key:value* pairs. Much like a language dictionary where you look up a *word* and get its *definition* in a python dictionary you look up a *key* and get its *value*."
     ]
    },
    {
     "cell_type": "code",
     "collapsed": false,
     "input": [
      "# numbers or strings may be used as keys\n",
      "dictionary0 = {'key1':'value1', 'key2':'value2', 'key3':'value3'}\n",
      "dictionary1 = {1:'value1', 2:'value2', 3:'value3'}\n",
      "\n",
      "cylinder = {'mass':50, 'base':10, 'height':100}\n",
      "\n",
      "print dictionary0\n",
      "print dictionary1.keys()\n",
      "print cylinder['mass']"
     ],
     "language": "python",
     "metadata": {},
     "outputs": []
    },
    {
     "cell_type": "markdown",
     "metadata": {},
     "source": [
      "The zip function is a convenient function to help generate a dictionary. It takes sequence objects and combines them into a list of tuples. We can subsequently use the list of two element tuples to create a dictionary."
     ]
    },
    {
     "cell_type": "code",
     "collapsed": false,
     "input": [
      "keys = ['mass01', 'inertia01', 'mass02', 'inertia02']\n",
      "values = [10, 1, 50, 5]\n",
      "\n",
      "dict(zip(keys, values))"
     ],
     "language": "python",
     "metadata": {},
     "outputs": []
    },
    {
     "cell_type": "heading",
     "level": 3,
     "metadata": {},
     "source": [
      "Functions"
     ]
    },
    {
     "cell_type": "markdown",
     "metadata": {},
     "source": [
      "Python does not use braces, `{}`, or `end` statements to seperate blocks of code. Rather, code blocks are initialized with colon, `:`, and defined by their indentation. It is convention to use four spaces for each level of indentation."
     ]
    },
    {
     "cell_type": "code",
     "collapsed": false,
     "input": [
      "def abs_value(A):\n",
      "    if A < 0:\n",
      "        A = -A \n",
      "    return A\n",
      "\n",
      "abs_value(-100)"
     ],
     "language": "python",
     "metadata": {},
     "outputs": []
    },
    {
     "cell_type": "code",
     "collapsed": false,
     "input": [
      "def long_div(dividend, divisor):\n",
      "    quotient = dividend // divisor # // : floor division\n",
      "    remainder = dividend % divisor # % : modulo\n",
      "    return quotient, remainder\n",
      "\n",
      "\n",
      "a = 430\n",
      "b = 25\n",
      "\n",
      "# an example of tuple unpacking\n",
      "quo, rem = long_div(a, b)\n",
      "\n",
      "print '%d divided %d is %d remainder %d' % (a, b, quo, rem)"
     ],
     "language": "python",
     "metadata": {},
     "outputs": []
    },
    {
     "cell_type": "heading",
     "level": 3,
     "metadata": {},
     "source": [
      "Modules"
     ]
    },
    {
     "cell_type": "markdown",
     "metadata": {},
     "source": [
      "Modules add additional functionality not present in the default installation of python. Throughout this tutorial we will either import an entire module or import specific functions from a module."
     ]
    },
    {
     "cell_type": "code",
     "collapsed": false,
     "input": [
      "# import object from sympy into the current namespace\n",
      "from numpy import array\n",
      "\n",
      "# import multiple objects from sympy\n",
      "from sympy.physics.mechanics import dynamicsymbols, ReferenceFrame, Point"
     ],
     "language": "python",
     "metadata": {},
     "outputs": [],
     "prompt_number": 9
    },
    {
     "cell_type": "markdown",
     "metadata": {},
     "source": [
      "Objects from these modules are now available in your namespace."
     ]
    },
    {
     "cell_type": "code",
     "collapsed": false,
     "input": [
      "# from numpy\n",
      "arr = array([1,2,3,4,5])\n",
      "\n",
      "# from sympy.physics.mechanics\n",
      "inertial_frame = ReferenceFrame('I')"
     ],
     "language": "python",
     "metadata": {},
     "outputs": []
    },
    {
     "cell_type": "heading",
     "level": 1,
     "metadata": {},
     "source": [
      "The SciPy Stack"
     ]
    },
    {
     "cell_type": "markdown",
     "metadata": {},
     "source": [
      "SciPy is a collection of open source software that brings scientific computing to Python.\n",
      "\n",
      "- IPython : Enhanced Interactive Console\n",
      "- Numpy : N-dimensional array package\n",
      "- Matplotlib : a fully featured 2D plotting package\n",
      "- Scipy : a collection of toolboxes for signal processing, optimization, statisitics, etc.\n",
      "- Sympy : symbolic mathematics and computer algebra\n",
      "- and much more..."
     ]
    },
    {
     "cell_type": "heading",
     "level": 2,
     "metadata": {},
     "source": [
      "Numpy"
     ]
    },
    {
     "cell_type": "heading",
     "level": 3,
     "metadata": {},
     "source": [
      "Setup"
     ]
    },
    {
     "cell_type": "code",
     "collapsed": false,
     "input": [
      "from numpy import random, linspace, zeros, arange"
     ],
     "language": "python",
     "metadata": {},
     "outputs": [],
     "prompt_number": 10
    },
    {
     "cell_type": "heading",
     "level": 3,
     "metadata": {},
     "source": [
      "Creating Arrays"
     ]
    },
    {
     "cell_type": "code",
     "collapsed": false,
     "input": [
      "# An array from a list\n",
      "print array([5, 12, -2, 9.3, 7])\n",
      "\n",
      "# random values\n",
      "print random.random((5))\n",
      "\n",
      "# linearly spaced values\n",
      "# 5 values between 0 and 10 inclusive\n",
      "print linspace(0,10,5) \n",
      "\n",
      "# range of values with a defined stepsize\n",
      "# start at 0 and increase by 3 \n",
      "print arange(0,14,3)"
     ],
     "language": "python",
     "metadata": {},
     "outputs": [
      {
       "output_type": "stream",
       "stream": "stdout",
       "text": [
        "[  5.   12.   -2.    9.3   7. ]\n",
        "[ 0.06780877  0.27963233  0.76922     0.32209376  0.08866387]\n",
        "[  0.    2.5   5.    7.5  10. ]\n",
        "[ 0  3  6  9 12]\n"
       ]
      }
     ],
     "prompt_number": 11
    },
    {
     "cell_type": "heading",
     "level": 3,
     "metadata": {},
     "source": [
      "Accessing Array Elements"
     ]
    },
    {
     "cell_type": "code",
     "collapsed": false,
     "input": [
      "P = random.random((3,5))\n",
      "\n",
      "# individual element\n",
      "print P[0,3]\n",
      "\n",
      "# entire row\n",
      "print P[2]\n",
      "\n",
      "# entire column\n",
      "print P[:,4]\n",
      "\n",
      "# every third element\n",
      "print P[::3]"
     ],
     "language": "python",
     "metadata": {},
     "outputs": [
      {
       "output_type": "stream",
       "stream": "stdout",
       "text": [
        "0.942832727095\n",
        "[ 0.87014961  0.75076661  0.84941172  0.93829773  0.17452304]\n",
        "[ 0.22921028  0.68488043  0.17452304]\n",
        "[[ 0.2579815   0.19680115  0.56645679  0.94283273  0.22921028]]\n"
       ]
      }
     ],
     "prompt_number": 12
    },
    {
     "cell_type": "heading",
     "level": 3,
     "metadata": {},
     "source": [
      "Operations on Arrays"
     ]
    },
    {
     "cell_type": "code",
     "collapsed": false,
     "input": [
      "# mathematical operations are always elementwise\n",
      "x = arange(5)\n",
      "\n",
      "print x\n",
      "\n",
      "# the double asterisk represents exponentiation\n",
      "print x + x**2"
     ],
     "language": "python",
     "metadata": {},
     "outputs": [
      {
       "output_type": "stream",
       "stream": "stdout",
       "text": [
        "[0 1 2 3 4]\n",
        "[ 0  2  6 12 20]\n"
       ]
      }
     ],
     "prompt_number": 13
    },
    {
     "cell_type": "heading",
     "level": 2,
     "metadata": {},
     "source": [
      "Matplotlib"
     ]
    },
    {
     "cell_type": "markdown",
     "metadata": {},
     "source": [
      "Matplotlib provides an API similar to MATLAB's"
     ]
    },
    {
     "cell_type": "markdown",
     "metadata": {},
     "source": [
      "Use the magic command `%matplotlib inline` to work with matplotlib interactively. The `inline` argument allows for plots to be embedded within the IPython notebook"
     ]
    },
    {
     "cell_type": "code",
     "collapsed": false,
     "input": [
      "%matplotlib inline"
     ],
     "language": "python",
     "metadata": {},
     "outputs": [],
     "prompt_number": 14
    },
    {
     "cell_type": "code",
     "collapsed": false,
     "input": [
      "from matplotlib.pyplot import plot, subplot, xlabel, ylabel, legend, tight_layout\n",
      "from numpy import sin, cos, pi"
     ],
     "language": "python",
     "metadata": {},
     "outputs": [],
     "prompt_number": 15
    },
    {
     "cell_type": "heading",
     "level": 3,
     "metadata": {},
     "source": [
      "Examples"
     ]
    },
    {
     "cell_type": "code",
     "collapsed": false,
     "input": [
      "x = arange(-pi,pi,0.1)\n",
      "y1 = 2*sin(x)\n",
      "y2 = x + cos(4*x)\n",
      "\n",
      "plot(x, y1, 'r', x, y2, '--b')\n",
      "plot(x[::5], y1[::5], 'og') # plot every 5th point\n",
      "xlabel('x axis')\n",
      "ylabel('y axis')\n",
      "legend(['red', 'blue', 'green'], 'upper left')"
     ],
     "language": "python",
     "metadata": {},
     "outputs": [
      {
       "metadata": {},
       "output_type": "pyout",
       "prompt_number": 16,
       "text": [
        "<matplotlib.legend.Legend at 0x57dab10>"
       ]
      },
      {
       "metadata": {},
       "output_type": "display_data",
       "png": "[encoded data removed]",
       "text": [
        "<matplotlib.figure.Figure at 0x57baa50>"
       ]
      }
     ],
     "prompt_number": 16
    },
    {
     "cell_type": "code",
     "collapsed": false,
     "input": [
      "x = linspace(-100,100)\n",
      "\n",
      "for i in range(1,5):\n",
      "    subplot(2,2,i)\n",
      "    plot(x, x**i)\n",
      "    \n",
      "tight_layout() # this prevents the axis labels from overlapping"
     ],
     "language": "python",
     "metadata": {},
     "outputs": [
      {
       "metadata": {},
       "output_type": "display_data",
       "png": "[encoded data removed]",
       "text": [
        "<matplotlib.figure.Figure at 0x59d3f90>"
       ]
      }
     ],
     "prompt_number": 17
    },
    {
     "cell_type": "heading",
     "level": 3,
     "metadata": {},
     "source": [
      "Exercise"
     ]
    },
    {
     "cell_type": "markdown",
     "metadata": {},
     "source": [
      "Use the provided function to create 3 different sine waves at various frequencies. Plot the 3 functions with labeled axis."
     ]
    },
    {
     "cell_type": "code",
     "collapsed": false,
     "input": [
      "def three_sine_waves(t, A, B, C):\n",
      "    \"\"\"\n",
      "    t : (type: array) an monotonically increasing array of time values\n",
      "    A,B,C : (type: float) frequency of sine waves\n",
      "    \"\"\"\n",
      "    y1 = sin(A*t)\n",
      "    y2 = sin(B*t)\n",
      "    y3 = sin(C*t)\n",
      "    \n",
      "    return y1, y2, y3"
     ],
     "language": "python",
     "metadata": {},
     "outputs": [],
     "prompt_number": 20
    },
    {
     "cell_type": "code",
     "collapsed": false,
     "input": [
      "t = \n",
      "y1, y2, y3 = three_sine_waves()"
     ],
     "language": "python",
     "metadata": {},
     "outputs": []
    },
    {
     "cell_type": "code",
     "collapsed": false,
     "input": [
      "## Solution\n",
      "%load exercise_solutions/n00_python_intro_data-plotting.py"
     ],
     "language": "python",
     "metadata": {},
     "outputs": [],
     "prompt_number": 18
    },
    {
     "cell_type": "code",
     "collapsed": false,
     "input": [
      "time = arange(0,5,0.1)\n",
      "a = 1\n",
      "b = 2\n",
      "c = 3\n",
      "\n",
      "f1, f2, f3 = three_sine_waves(time, a, b, c)\n",
      "\n",
      "plot(time, f1, 'r', time, f2, 'g', time, f3, 'b')\n",
      "xlabel('x axis')\n",
      "ylabel('y axis')\n",
      "legend(['f1', 'f2', 'f3'], 'upper left')"
     ],
     "language": "python",
     "metadata": {},
     "outputs": [
      {
       "metadata": {},
       "output_type": "pyout",
       "prompt_number": 21,
       "text": [
        "<matplotlib.legend.Legend at 0x5d3d390>"
       ]
      },
      {
       "metadata": {},
       "output_type": "display_data",
       "png": "[encoded data removed]",
       "text": [
        "<matplotlib.figure.Figure at 0x5d3d450>"
       ]
      }
     ],
     "prompt_number": 21
    },
    {
     "cell_type": "heading",
     "level": 2,
     "metadata": {},
     "source": [
      "Scipy odeint"
     ]
    },
    {
     "cell_type": "markdown",
     "metadata": {},
     "source": [
      "Scipy provides a routine for integrating first order ordinary differential equations."
     ]
    },
    {
     "cell_type": "heading",
     "level": 3,
     "metadata": {},
     "source": [
      "Setup"
     ]
    },
    {
     "cell_type": "code",
     "collapsed": false,
     "input": [
      "from scipy.integrate import odeint"
     ],
     "language": "python",
     "metadata": {},
     "outputs": [],
     "prompt_number": 22
    },
    {
     "cell_type": "heading",
     "level": 3,
     "metadata": {},
     "source": [
      "Examples"
     ]
    },
    {
     "cell_type": "code",
     "collapsed": false,
     "input": [
      "def dy(y,x):\n",
      "    return x\n",
      "\n",
      "y0 = 0.0\n",
      "x = linspace(-5.0, 5.0, 1000)\n",
      "\n",
      "y = odeint(dy,y0,x)\n",
      "\n",
      "plot(x,y)"
     ],
     "language": "python",
     "metadata": {},
     "outputs": [
      {
       "metadata": {},
       "output_type": "pyout",
       "prompt_number": 23,
       "text": [
        "[<matplotlib.lines.Line2D at 0x5e45bd0>]"
       ]
      },
      {
       "metadata": {},
       "output_type": "display_data",
       "png": "[encoded data removed]",
       "text": [
        "<matplotlib.figure.Figure at 0x5fcd450>"
       ]
      }
     ],
     "prompt_number": 23
    },
    {
     "cell_type": "code",
     "collapsed": false,
     "input": [
      "def dy(y,t,coeff):\n",
      "    A = coeff['A']\n",
      "    B = coeff['B']\n",
      "    C = coeff['C']\n",
      "    D = coeff['D']\n",
      "    return A*t**3 + B*t**2 + C*t + D\n",
      "\n",
      "y0 = 2.0\n",
      "t = linspace(-5.0, 3.0, 1000)\n",
      "sys = {'A' : 0.25,\n",
      "       'B' : 0.75,\n",
      "       'C' : -1.5,\n",
      "       'D' : -2.0}\n",
      "\n",
      "y = odeint(dy, y0, t, args=(sys,))\n",
      "\n",
      "plot(t,y)"
     ],
     "language": "python",
     "metadata": {},
     "outputs": [
      {
       "metadata": {},
       "output_type": "pyout",
       "prompt_number": 24,
       "text": [
        "[<matplotlib.lines.Line2D at 0x60ca190>]"
       ]
      },
      {
       "metadata": {},
       "output_type": "display_data",
       "png": "[encoded data removed]",
       "text": [
        "<matplotlib.figure.Figure at 0x5e2bed0>"
       ]
      }
     ],
     "prompt_number": 24
    },
    {
     "cell_type": "heading",
     "level": 2,
     "metadata": {},
     "source": [
      "SymPy"
     ]
    },
    {
     "cell_type": "heading",
     "level": 3,
     "metadata": {},
     "source": [
      "Setup"
     ]
    },
    {
     "cell_type": "code",
     "collapsed": false,
     "input": [
      "from sympy import *\n",
      "\n",
      "# This is for prettier printing of equations\n",
      "interactive.printing.init_printing()"
     ],
     "language": "python",
     "metadata": {},
     "outputs": [],
     "prompt_number": 25
    },
    {
     "cell_type": "heading",
     "level": 3,
     "metadata": {},
     "source": [
      "Creating Symbolic Variables"
     ]
    },
    {
     "cell_type": "code",
     "collapsed": false,
     "input": [
      "a = symbols('a')\n",
      "b = symbols('b')\n",
      "gravity, mass, spring_const, time = symbols('g, m, k, t')"
     ],
     "language": "python",
     "metadata": {},
     "outputs": [],
     "prompt_number": 26
    },
    {
     "cell_type": "heading",
     "level": 3,
     "metadata": {},
     "source": [
      "Expressions Using Symbolic Variables"
     ]
    },
    {
     "cell_type": "code",
     "collapsed": false,
     "input": [
      "a**2 + b/pi"
     ],
     "language": "python",
     "metadata": {},
     "outputs": [
      {
       "latex": [
        "$$a^{2} + \\frac{b}{\\pi}$$"
       ],
       "metadata": {},
       "output_type": "pyout",
       "png": "[encoded data removed]",
       "prompt_number": 27,
       "text": [
        " 2   b\n",
        "a  + \u2500\n",
        "     \u03c0"
       ]
      }
     ],
     "prompt_number": 27
    },
    {
     "cell_type": "code",
     "collapsed": false,
     "input": [
      "simplify(4*(a*a*a)*(b+b+b))"
     ],
     "language": "python",
     "metadata": {},
     "outputs": [
      {
       "latex": [
        "$$12 a^{3} b$$"
       ],
       "metadata": {},
       "output_type": "pyout",
       "png": "[encoded data removed]",
       "prompt_number": 28,
       "text": [
        "    3  \n",
        "12\u22c5a \u22c5b"
       ]
      }
     ],
     "prompt_number": 28
    },
    {
     "cell_type": "code",
     "collapsed": false,
     "input": [
      "diff(-gravity*time**2/2, time)"
     ],
     "language": "python",
     "metadata": {},
     "outputs": [
      {
       "latex": [
        "$$- g t$$"
       ],
       "metadata": {},
       "output_type": "pyout",
       "png": "[encoded data removed]",
       "prompt_number": 29,
       "text": [
        "-g\u22c5t"
       ]
      }
     ],
     "prompt_number": 29
    },
    {
     "cell_type": "code",
     "collapsed": false,
     "input": [
      "# indefinte integral\n",
      "\n",
      "integrate(-gravity,time)"
     ],
     "language": "python",
     "metadata": {},
     "outputs": [
      {
       "latex": [
        "$$- g t$$"
       ],
       "metadata": {},
       "output_type": "pyout",
       "png": "[encoded data removed]",
       "prompt_number": 30,
       "text": [
        "-g\u22c5t"
       ]
      }
     ],
     "prompt_number": 30
    },
    {
     "cell_type": "code",
     "collapsed": false,
     "input": [
      "# definite integral\n",
      "\n",
      "v0 = 5\n",
      "t1 = 0\n",
      "t2 = .35\n",
      "position = integrate(-gravity*time + v0,(time,t1,t2))\n",
      "position.subs(gravity, 9.81)"
     ],
     "language": "python",
     "metadata": {},
     "outputs": [
      {
       "latex": [
        "$$1.1491375$$"
       ],
       "metadata": {},
       "output_type": "pyout",
       "png": "[encoded data removed]",
       "prompt_number": 31,
       "text": [
        "1.14913750000000"
       ]
      }
     ],
     "prompt_number": 31
    },
    {
     "cell_type": "heading",
     "level": 1,
     "metadata": {},
     "source": [
      "Additional Resources"
     ]
    },
    {
     "cell_type": "markdown",
     "metadata": {},
     "source": [
      "[1] http://docs.python.org/2/tutorial\n",
      "\n",
      "[2] http://nbviewer.ipython.org/github/ipython/ipython/blob/master/examples/notebooks/Cell%20Magics.ipynb\n",
      "\n",
      "[3] http://www.scipy.org/index.html"
     ]
    }
   ],
   "metadata": {}
  }
 ]
}