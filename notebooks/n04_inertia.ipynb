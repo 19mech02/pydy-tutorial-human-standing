{
 "metadata": {
  "name": ""
 },
 "nbformat": 3,
 "nbformat_minor": 0,
 "worksheets": [
  {
   "cells": [
    {
     "cell_type": "heading",
     "level": 1,
     "metadata": {},
     "source": [
      "Introduction"
     ]
    },
    {
     "cell_type": "markdown",
     "metadata": {},
     "source": [
      "The next step is to provide some information about the mass and inertia of the bodies involved. Each of the three rigid bodies have both a mass which resists linear accelerations and inertia which resists rotational accelerations. In this notebook we will specify the mass of the three bodies, the inertia tensor/dyadic, and also create three `RigidBody` objects that hold all of the necessary information for each rigid body."
     ]
    },
    {
     "cell_type": "heading",
     "level": 1,
     "metadata": {},
     "source": [
      "Setup"
     ]
    },
    {
     "cell_type": "markdown",
     "metadata": {},
     "source": [
      "First, we will import the results from the previous notebook. Even if you didn't get everything correctly working, the following import statement will bring in the correct solution so you can move forward. We will do this in all of the subsquent notebooks."
     ]
    },
    {
     "cell_type": "code",
     "collapsed": false,
     "input": [
      "from solution.kinematics import *"
     ],
     "language": "python",
     "metadata": {},
     "outputs": [],
     "prompt_number": 1
    },
    {
     "cell_type": "markdown",
     "metadata": {},
     "source": [
      "We will also need the function for easily generating inertial quantities and the `RigigBody` class so we can create some rigid bodies."
     ]
    },
    {
     "cell_type": "code",
     "collapsed": false,
     "input": [
      "from sympy.physics.mechanics import inertia, RigidBody"
     ],
     "language": "python",
     "metadata": {},
     "outputs": [],
     "prompt_number": 2
    },
    {
     "cell_type": "markdown",
     "metadata": {},
     "source": [
      "We will need to specify some constants for the mass and inertia values."
     ]
    },
    {
     "cell_type": "code",
     "collapsed": false,
     "input": [
      "from sympy import symbols"
     ],
     "language": "python",
     "metadata": {},
     "outputs": [],
     "prompt_number": 3
    },
    {
     "cell_type": "markdown",
     "metadata": {},
     "source": [
      "Once again, initalize SymPy printing so that we get nicely renderd symbols."
     ]
    },
    {
     "cell_type": "code",
     "collapsed": false,
     "input": [
      "from sympy.physics.vector import init_vprinting\n",
      "init_vprinting()"
     ],
     "language": "python",
     "metadata": {},
     "outputs": [],
     "prompt_number": 4
    },
    {
     "cell_type": "heading",
     "level": 1,
     "metadata": {},
     "source": [
      "Mass"
     ]
    },
    {
     "cell_type": "markdown",
     "metadata": {},
     "source": [
      "The masses of each rigid body can be represented by constant values, so we create a symbol for each body."
     ]
    },
    {
     "cell_type": "code",
     "collapsed": false,
     "input": [
      "lower_leg_mass, upper_leg_mass, torso_mass = symbols('m_L, m_U, m_T')"
     ],
     "language": "python",
     "metadata": {},
     "outputs": [],
     "prompt_number": 5
    },
    {
     "cell_type": "code",
     "collapsed": false,
     "input": [
      "lower_leg_mass"
     ],
     "language": "python",
     "metadata": {},
     "outputs": [
      {
       "latex": [
        "$$m_{L}$$"
       ],
       "metadata": {},
       "output_type": "pyout",
       "png": "[encoded data removed]",
       "prompt_number": 6,
       "text": [
        "m_L"
       ]
      }
     ],
     "prompt_number": 6
    },
    {
     "cell_type": "code",
     "collapsed": false,
     "input": [
      "upper_leg_mass"
     ],
     "language": "python",
     "metadata": {},
     "outputs": [
      {
       "latex": [
        "$$m_{U}$$"
       ],
       "metadata": {},
       "output_type": "pyout",
       "png": "[encoded data removed]",
       "prompt_number": 7,
       "text": [
        "m_U"
       ]
      }
     ],
     "prompt_number": 7
    },
    {
     "cell_type": "code",
     "collapsed": false,
     "input": [
      "torso_mass"
     ],
     "language": "python",
     "metadata": {},
     "outputs": [
      {
       "latex": [
        "$$m_{T}$$"
       ],
       "metadata": {},
       "output_type": "pyout",
       "png": "[encoded data removed]",
       "prompt_number": 8,
       "text": [
        "m_T"
       ]
      }
     ],
     "prompt_number": 8
    },
    {
     "cell_type": "heading",
     "level": 1,
     "metadata": {},
     "source": [
      "Inertia"
     ]
    },
    {
     "cell_type": "markdown",
     "metadata": {},
     "source": [
      "Since we are studying a 2D planar problem, we are only concerned about the rotational inertia about the $\\hat{i}_z$ axis. We will assume that the rigid bodies are symmetric about the $XZ$ and $YZ$ planes, so we only need a single variable for each rigid body to specify the rotation inertia."
     ]
    },
    {
     "cell_type": "code",
     "collapsed": false,
     "input": [
      "lower_leg_inertia, upper_leg_inertia, torso_inertia = symbols('I_Lz, I_Uz, I_Tz')"
     ],
     "language": "python",
     "metadata": {},
     "outputs": [],
     "prompt_number": 9
    },
    {
     "cell_type": "markdown",
     "metadata": {},
     "source": [
      "The `inertia()` function is a convenience function for creating inertia dyadics (i.e. basis dependent tensors). You specify a reference frame to define the inertia with respect to and at a minimum for symmetric bodies provide the diagonal entries of the inertia tensor. In our case the rotational inertia about the $x$ and $y$ are not neeed so they are set to zero and $z$ inertia entry is set to the defined variable."
     ]
    },
    {
     "cell_type": "code",
     "collapsed": false,
     "input": [
      "lower_leg_inertia_dyadic = inertia(lower_leg_frame, 0, 0, lower_leg_inertia)"
     ],
     "language": "python",
     "metadata": {},
     "outputs": [],
     "prompt_number": 10
    },
    {
     "cell_type": "code",
     "collapsed": false,
     "input": [
      "lower_leg_inertia_dyadic"
     ],
     "language": "python",
     "metadata": {},
     "outputs": [
      {
       "latex": [
        "$$I_{Lz}\\mathbf{\\hat{l}_z}\\otimes \\mathbf{\\hat{l}_z}$$"
       ],
       "metadata": {},
       "output_type": "pyout",
       "png": "[encoded data removed]",
       "prompt_number": 11,
       "text": [
        "I_Lz \u001b[94m\u001b[1ml_z\u001b[0;0m\u001b[0;0m\u2297\u001b[94m\u001b[1ml_z\u001b[0;0m\u001b[0;0m"
       ]
      }
     ],
     "prompt_number": 11
    },
    {
     "cell_type": "markdown",
     "metadata": {},
     "source": [
      "In general, we store the inertia in dyadics, i.e. basis dependent tensors. If you want to see what the inertia is expressed in a particular frame, use the `to_matrix()` method."
     ]
    },
    {
     "cell_type": "code",
     "collapsed": false,
     "input": [
      "lower_leg_inertia_dyadic.to_matrix(lower_leg_frame)"
     ],
     "language": "python",
     "metadata": {},
     "outputs": [
      {
       "latex": [
        "$$\\left[\\begin{matrix}0 & 0 & 0\\\\0 & 0 & 0\\\\0 & 0 & I_{Lz}\\end{matrix}\\right]$$"
       ],
       "metadata": {},
       "output_type": "pyout",
       "png": "[encoded data removed]",
       "prompt_number": 12,
       "text": [
        "\u23a10  0   0  \u23a4\n",
        "\u23a2          \u23a5\n",
        "\u23a20  0   0  \u23a5\n",
        "\u23a2          \u23a5\n",
        "\u23a30  0  I_Lz\u23a6"
       ]
      }
     ],
     "prompt_number": 12
    },
    {
     "cell_type": "markdown",
     "metadata": {},
     "source": [
      "We will also eventually need to know what point the inertia is defined with respect to. In our case, we will simply define all inertia's about the mass center. We can store the total information needed for in a tuple of an inertia `Dyadic` and a `Point`."
     ]
    },
    {
     "cell_type": "code",
     "collapsed": false,
     "input": [
      "lower_leg_central_inertia = (lower_leg_inertia_dyadic, lower_leg_mass_center)"
     ],
     "language": "python",
     "metadata": {},
     "outputs": [],
     "prompt_number": 13
    },
    {
     "cell_type": "heading",
     "level": 2,
     "metadata": {},
     "source": [
      "Exercise"
     ]
    },
    {
     "cell_type": "markdown",
     "metadata": {},
     "source": [
      "As an exercise, set the upper leg and torso inertia's in the same fashion at the lower leg."
     ]
    },
    {
     "cell_type": "code",
     "collapsed": false,
     "input": [],
     "language": "python",
     "metadata": {},
     "outputs": []
    },
    {
     "cell_type": "code",
     "collapsed": false,
     "input": [
      "## Solution\n",
      "%load exercise_solutions/n04_inertia_inertia-dyadic.py"
     ],
     "language": "python",
     "metadata": {},
     "outputs": []
    },
    {
     "cell_type": "heading",
     "level": 1,
     "metadata": {},
     "source": [
      "Rigid Bodies"
     ]
    },
    {
     "cell_type": "markdown",
     "metadata": {},
     "source": [
      "To completely define a rigid body, the mass center point, the reference frame, the mass, and the inertia defined about a point must be specified."
     ]
    },
    {
     "cell_type": "code",
     "collapsed": false,
     "input": [
      "lower_leg = RigidBody('Lower Leg', lower_leg_mass_center, lower_leg_frame,\n",
      "                      lower_leg_mass, lower_leg_central_inertia)"
     ],
     "language": "python",
     "metadata": {},
     "outputs": [],
     "prompt_number": 18
    },
    {
     "cell_type": "heading",
     "level": 2,
     "metadata": {},
     "source": [
      "Exercise"
     ]
    },
    {
     "cell_type": "markdown",
     "metadata": {},
     "source": [
      "As an exercise, define rigid bodies for the `upper_leg` and `torso`."
     ]
    },
    {
     "cell_type": "code",
     "collapsed": false,
     "input": [],
     "language": "python",
     "metadata": {},
     "outputs": []
    },
    {
     "cell_type": "code",
     "collapsed": false,
     "input": [
      "## Solution\n",
      "%load exercise_solutions/n04_inertia_define-rigid-body.py"
     ],
     "language": "python",
     "metadata": {},
     "outputs": []
    }
   ],
   "metadata": {}
  }
 ]
}