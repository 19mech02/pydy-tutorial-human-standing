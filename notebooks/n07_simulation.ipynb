{
 "cells": [
  {
   "cell_type": "markdown",
   "metadata": {},
   "source": [
    "# Introduction"
   ]
  },
  {
   "cell_type": "markdown",
   "metadata": {},
   "source": [
    "Now that we have the symbolic equations of motion we need to transform them into Python functions that can be evaluated for use in numerical integration. [Numerical integration](http://en.wikipedia.org/wiki/Numerical_methods_for_ordinary_differential_equations) is required to solve the ordinary differential initial value problem and allow us to see how the states change through time."
   ]
  },
  {
   "cell_type": "markdown",
   "metadata": {},
   "source": [
    "# Setup"
   ]
  },
  {
   "cell_type": "markdown",
   "metadata": {},
   "source": [
    "Load the solutions from the previous notebooks:"
   ]
  },
  {
   "cell_type": "code",
   "execution_count": 1,
   "metadata": {
    "collapsed": false
   },
   "outputs": [],
   "source": [
    "from solution.equations_of_motion import *"
   ]
  },
  {
   "cell_type": "markdown",
   "metadata": {},
   "source": [
    "To setup the numerical values and integrate the equations of motion we will need some functions from NumPy for numerical arrays:"
   ]
  },
  {
   "cell_type": "code",
   "execution_count": 2,
   "metadata": {
    "collapsed": false
   },
   "outputs": [],
   "source": [
    "from numpy import deg2rad, rad2deg, array, zeros, linspace"
   ]
  },
  {
   "cell_type": "markdown",
   "metadata": {},
   "source": [
    "We will need a ODE numerical integration routine from SciPy:"
   ]
  },
  {
   "cell_type": "code",
   "execution_count": 3,
   "metadata": {
    "collapsed": false
   },
   "outputs": [],
   "source": [
    "from scipy.integrate import odeint"
   ]
  },
  {
   "cell_type": "markdown",
   "metadata": {},
   "source": [
    "We can use PyDy's ODE function generator to transform the symbolic equations into numerical functions:"
   ]
  },
  {
   "cell_type": "code",
   "execution_count": 4,
   "metadata": {
    "collapsed": false
   },
   "outputs": [],
   "source": [
    "from pydy.codegen.ode_function_generators import generate_ode_function"
   ]
  },
  {
   "cell_type": "markdown",
   "metadata": {},
   "source": [
    "Once again, let's display the symbolics nicely."
   ]
  },
  {
   "cell_type": "code",
   "execution_count": 5,
   "metadata": {
    "collapsed": false
   },
   "outputs": [],
   "source": [
    "from sympy.physics.vector import init_vprinting, vlatex"
   ]
  },
  {
   "cell_type": "code",
   "execution_count": 6,
   "metadata": {
    "collapsed": false
   },
   "outputs": [],
   "source": [
    "init_vprinting(use_latex='mathjax')"
   ]
  },
  {
   "cell_type": "markdown",
   "metadata": {},
   "source": [
    "Once we get a solution for how the state changes over time, it is nice to visualize it. The simplest way to do this is to plot the trajectories versus time. We can use the matplotlib library to do this. First enable inline plotting:"
   ]
  },
  {
   "cell_type": "code",
   "execution_count": 7,
   "metadata": {
    "collapsed": false
   },
   "outputs": [],
   "source": [
    "%matplotlib inline"
   ]
  },
  {
   "cell_type": "markdown",
   "metadata": {},
   "source": [
    "Import a few functions for plotting:"
   ]
  },
  {
   "cell_type": "code",
   "execution_count": 8,
   "metadata": {
    "collapsed": false
   },
   "outputs": [],
   "source": [
    "from matplotlib.pyplot import plot, legend, xlabel, ylabel, rcParams"
   ]
  },
  {
   "cell_type": "markdown",
   "metadata": {},
   "source": [
    "And set the default figure size to be larger:"
   ]
  },
  {
   "cell_type": "code",
   "execution_count": 9,
   "metadata": {
    "collapsed": false
   },
   "outputs": [],
   "source": [
    "rcParams['figure.figsize'] = (14.0, 6.0)"
   ]
  },
  {
   "cell_type": "markdown",
   "metadata": {},
   "source": [
    "# Variables"
   ]
  },
  {
   "cell_type": "markdown",
   "metadata": {},
   "source": [
    "The first step is to gather all of the variables in the equations of motion into lists. We will need the constants, coordinates, speeds, and the specified inputs."
   ]
  },
  {
   "cell_type": "markdown",
   "metadata": {},
   "source": [
    "## Constants"
   ]
  },
  {
   "cell_type": "markdown",
   "metadata": {},
   "source": [
    "There are twelve constants in the equations. Put them into a list."
   ]
  },
  {
   "cell_type": "code",
   "execution_count": 10,
   "metadata": {
    "collapsed": false
   },
   "outputs": [
    {
     "data": {
      "text/latex": [
       "$$\\left [ l_{L}, \\quad d_{L}, \\quad m_{L}, \\quad I_{Lz}, \\quad l_{U}, \\quad d_{U}, \\quad m_{U}, \\quad I_{Uz}, \\quad d_{T}, \\quad m_{T}, \\quad I_{Tz}, \\quad g\\right ]$$"
      ],
      "text/plain": [
       "[l_L, d_L, m_L, I_Lz, l_U, d_U, m_U, I_Uz, d_T, m_T, I_Tz, g]"
      ]
     },
     "execution_count": 10,
     "metadata": {},
     "output_type": "execute_result"
    }
   ],
   "source": [
    "constants = [lower_leg_length,\n",
    "             lower_leg_com_length,\n",
    "             lower_leg_mass,\n",
    "             lower_leg_inertia,\n",
    "             upper_leg_length,\n",
    "             upper_leg_com_length,\n",
    "             upper_leg_mass,\n",
    "             upper_leg_inertia,\n",
    "             torso_com_length,\n",
    "             torso_mass,            \n",
    "             torso_inertia,\n",
    "             g]\n",
    "constants\n",
    "             "
   ]
  },
  {
   "cell_type": "markdown",
   "metadata": {},
   "source": [
    "## Time Varying"
   ]
  },
  {
   "cell_type": "markdown",
   "metadata": {},
   "source": [
    "The coordinates and speeds make up the states and there are three time varying specified inputs to the system, the joint torques."
   ]
  },
  {
   "cell_type": "code",
   "execution_count": 11,
   "metadata": {
    "collapsed": false
   },
   "outputs": [
    {
     "data": {
      "text/latex": [
       "$$\\left [ \\theta_{1}, \\quad \\theta_{2}, \\quad \\theta_{3}\\right ]$$"
      ],
      "text/plain": [
       "[θ₁, θ₂, θ₃]"
      ]
     },
     "execution_count": 11,
     "metadata": {},
     "output_type": "execute_result"
    }
   ],
   "source": [
    "coordinates = [theta1, theta2, theta3]\n",
    "coordinates"
   ]
  },
  {
   "cell_type": "code",
   "execution_count": 12,
   "metadata": {
    "collapsed": false
   },
   "outputs": [
    {
     "data": {
      "text/latex": [
       "$$\\left [ \\omega_{1}, \\quad \\omega_{2}, \\quad \\omega_{3}\\right ]$$"
      ],
      "text/plain": [
       "[ω₁, ω₂, ω₃]"
      ]
     },
     "execution_count": 12,
     "metadata": {},
     "output_type": "execute_result"
    }
   ],
   "source": [
    "speeds = [omega1, omega2, omega3]\n",
    "speeds"
   ]
  },
  {
   "cell_type": "markdown",
   "metadata": {},
   "source": [
    "## Exercise"
   ]
  },
  {
   "cell_type": "markdown",
   "metadata": {},
   "source": [
    "Make a list called `specified` that contains the three torque magnitude variables: $T_a$, $T_k$, and $T_h$."
   ]
  },
  {
   "cell_type": "code",
   "execution_count": null,
   "metadata": {
    "collapsed": false
   },
   "outputs": [],
   "source": []
  },
  {
   "cell_type": "code",
   "execution_count": 14,
   "metadata": {
    "collapsed": false
   },
   "outputs": [],
   "source": [
    "# %load exercise_solutions/n07_simulation_torque-magnitude.py\n",
    "specified = [ankle_torque, knee_torque, hip_torque]"
   ]
  },
  {
   "cell_type": "markdown",
   "metadata": {},
   "source": [
    "# Generate the Numerical ODE Function"
   ]
  },
  {
   "cell_type": "markdown",
   "metadata": {},
   "source": [
    "Ordinary differential equation integrators, like `scipy.integrate.odeint`, require a function that numerically evaluates the right hand side of the coupled first order ordinary differential equations. We have the symbolic form of the mass matrix and the forcing vector available. The `generate_ode_function` function generates a function from the symbolic expressions that fits the form needed for `odeint`.\n",
    "\n",
    "`odeint` is an ODE integrator based on the `lsoda` routine from ODEPACK that works well for both non-stiff and stiff ODEs. Notice that it requres the right hand side function, the initial conditions of the state, a time vector. We will also pass in extra arguments, `args`, of the right hand side function."
   ]
  },
  {
   "cell_type": "code",
   "execution_count": 15,
   "metadata": {
    "collapsed": false
   },
   "outputs": [
    {
     "name": "stdout",
     "output_type": "stream",
     "text": [
      "Help on function odeint in module scipy.integrate.odepack:\n",
      "\n",
      "odeint(func, y0, t, args=(), Dfun=None, col_deriv=0, full_output=0, ml=None, mu=None, rtol=None, atol=None, tcrit=None, h0=0.0, hmax=0.0, hmin=0.0, ixpr=0, mxstep=0, mxhnil=0, mxordn=12, mxords=5, printmessg=0)\n",
      "    Integrate a system of ordinary differential equations.\n",
      "    \n",
      "    Solve a system of ordinary differential equations using lsoda from the\n",
      "    FORTRAN library odepack.\n",
      "    \n",
      "    Solves the initial value problem for stiff or non-stiff systems\n",
      "    of first order ode-s::\n",
      "    \n",
      "        dy/dt = func(y, t0, ...)\n",
      "    \n",
      "    where y can be a vector.\n",
      "    \n",
      "    *Note*: The first two arguments of ``func(y, t0, ...)`` are in the\n",
      "    opposite order of the arguments in the system definition function used\n",
      "    by the `scipy.integrate.ode` class.\n",
      "    \n",
      "    Parameters\n",
      "    ----------\n",
      "    func : callable(y, t0, ...)\n",
      "        Computes the derivative of y at t0.\n",
      "    y0 : array\n",
      "        Initial condition on y (can be a vector).\n",
      "    t : array\n",
      "        A sequence of time points for which to solve for y.  The initial\n",
      "        value point should be the first element of this sequence.\n",
      "    args : tuple, optional\n",
      "        Extra arguments to pass to function.\n",
      "    Dfun : callable(y, t0, ...)\n",
      "        Gradient (Jacobian) of `func`.\n",
      "    col_deriv : bool, optional\n",
      "        True if `Dfun` defines derivatives down columns (faster),\n",
      "        otherwise `Dfun` should define derivatives across rows.\n",
      "    full_output : bool, optional\n",
      "        True if to return a dictionary of optional outputs as the second output\n",
      "    printmessg : bool, optional\n",
      "        Whether to print the convergence message\n",
      "    \n",
      "    Returns\n",
      "    -------\n",
      "    y : array, shape (len(t), len(y0))\n",
      "        Array containing the value of y for each desired time in t,\n",
      "        with the initial value `y0` in the first row.\n",
      "    infodict : dict, only returned if full_output == True\n",
      "        Dictionary containing additional output information\n",
      "    \n",
      "        =======  ============================================================\n",
      "        key      meaning\n",
      "        =======  ============================================================\n",
      "        'hu'     vector of step sizes successfully used for each time step.\n",
      "        'tcur'   vector with the value of t reached for each time step.\n",
      "                 (will always be at least as large as the input times).\n",
      "        'tolsf'  vector of tolerance scale factors, greater than 1.0,\n",
      "                 computed when a request for too much accuracy was detected.\n",
      "        'tsw'    value of t at the time of the last method switch\n",
      "                 (given for each time step)\n",
      "        'nst'    cumulative number of time steps\n",
      "        'nfe'    cumulative number of function evaluations for each time step\n",
      "        'nje'    cumulative number of jacobian evaluations for each time step\n",
      "        'nqu'    a vector of method orders for each successful step.\n",
      "        'imxer'  index of the component of largest magnitude in the\n",
      "                 weighted local error vector (e / ewt) on an error return, -1\n",
      "                 otherwise.\n",
      "        'lenrw'  the length of the double work array required.\n",
      "        'leniw'  the length of integer work array required.\n",
      "        'mused'  a vector of method indicators for each successful time step:\n",
      "                 1: adams (nonstiff), 2: bdf (stiff)\n",
      "        =======  ============================================================\n",
      "    \n",
      "    Other Parameters\n",
      "    ----------------\n",
      "    ml, mu : int, optional\n",
      "        If either of these are not None or non-negative, then the\n",
      "        Jacobian is assumed to be banded.  These give the number of\n",
      "        lower and upper non-zero diagonals in this banded matrix.\n",
      "        For the banded case, `Dfun` should return a matrix whose\n",
      "        rows contain the non-zero bands (starting with the lowest diagonal).\n",
      "        Thus, the return matrix `jac` from `Dfun` should have shape\n",
      "        ``(ml + mu + 1, len(y0))`` when ``ml >=0`` or ``mu >=0``.\n",
      "        The data in `jac` must be stored such that ``jac[i - j + mu, j]``\n",
      "        holds the derivative of the `i`th equation with respect to the `j`th\n",
      "        state variable.  If `col_deriv` is True, the transpose of this\n",
      "        `jac` must be returned.\n",
      "    rtol, atol : float, optional\n",
      "        The input parameters `rtol` and `atol` determine the error\n",
      "        control performed by the solver.  The solver will control the\n",
      "        vector, e, of estimated local errors in y, according to an\n",
      "        inequality of the form ``max-norm of (e / ewt) <= 1``,\n",
      "        where ewt is a vector of positive error weights computed as\n",
      "        ``ewt = rtol * abs(y) + atol``.\n",
      "        rtol and atol can be either vectors the same length as y or scalars.\n",
      "        Defaults to 1.49012e-8.\n",
      "    tcrit : ndarray, optional\n",
      "        Vector of critical points (e.g. singularities) where integration\n",
      "        care should be taken.\n",
      "    h0 : float, (0: solver-determined), optional\n",
      "        The step size to be attempted on the first step.\n",
      "    hmax : float, (0: solver-determined), optional\n",
      "        The maximum absolute step size allowed.\n",
      "    hmin : float, (0: solver-determined), optional\n",
      "        The minimum absolute step size allowed.\n",
      "    ixpr : bool, optional\n",
      "        Whether to generate extra printing at method switches.\n",
      "    mxstep : int, (0: solver-determined), optional\n",
      "        Maximum number of (internally defined) steps allowed for each\n",
      "        integration point in t.\n",
      "    mxhnil : int, (0: solver-determined), optional\n",
      "        Maximum number of messages printed.\n",
      "    mxordn : int, (0: solver-determined), optional\n",
      "        Maximum order to be allowed for the non-stiff (Adams) method.\n",
      "    mxords : int, (0: solver-determined), optional\n",
      "        Maximum order to be allowed for the stiff (BDF) method.\n",
      "    \n",
      "    See Also\n",
      "    --------\n",
      "    ode : a more object-oriented integrator based on VODE.\n",
      "    quad : for finding the area under a curve.\n",
      "    \n",
      "    Examples\n",
      "    --------\n",
      "    The second order differential equation for the angle `theta` of a\n",
      "    pendulum acted on by gravity with friction can be written::\n",
      "    \n",
      "        theta''(t) + b*theta'(t) + c*sin(theta(t)) = 0\n",
      "    \n",
      "    where `b` and `c` are positive constants, and a prime (') denotes a\n",
      "    derivative.  To solve this equation with `odeint`, we must first convert\n",
      "    it to a system of first order equations.  By defining the angular\n",
      "    velocity ``omega(t) = theta'(t)``, we obtain the system::\n",
      "    \n",
      "        theta'(t) = omega(t)\n",
      "        omega'(t) = -b*omega(t) - c*sin(theta(t))\n",
      "    \n",
      "    Let `y` be the vector [`theta`, `omega`].  We implement this system\n",
      "    in python as:\n",
      "    \n",
      "    >>> def pend(y, t, b, c):\n",
      "    ...     theta, omega = y\n",
      "    ...     dydt = [omega, -b*omega - c*np.sin(theta)]\n",
      "    ...     return dydt\n",
      "    ...\n",
      "    \n",
      "    We assume the constants are `b` = 0.25 and `c` = 5.0:\n",
      "    \n",
      "    >>> b = 0.25\n",
      "    >>> c = 5.0\n",
      "    \n",
      "    For initial conditions, we assume the pendulum is nearly vertical\n",
      "    with `theta(0)` = `pi` - 0.1, and it initially at rest, so\n",
      "    `omega(0)` = 0.  Then the vector of initial conditions is\n",
      "    \n",
      "    >>> y0 = [np.pi - 0.1, 0.0]\n",
      "    \n",
      "    We generate a solution 101 evenly spaced samples in the interval\n",
      "    0 <= `t` <= 10.  So our array of times is:\n",
      "    \n",
      "    >>> t = np.linspace(0, 10, 101)\n",
      "    \n",
      "    Call `odeint` to generate the solution.  To pass the parameters\n",
      "    `b` and `c` to `pend`, we give them to `odeint` using the `args`\n",
      "    argument.\n",
      "    \n",
      "    >>> from scipy.integrate import odeint\n",
      "    >>> sol = odeint(pend, y0, t, args=(b, c))\n",
      "    \n",
      "    The solution is an array with shape (101, 2).  The first column\n",
      "    is `theta(t)`, and the second is `omega(t)`.  The following code\n",
      "    plots both components.\n",
      "    \n",
      "    >>> import matplotlib.pyplot as plt\n",
      "    >>> plt.plot(t, sol[:, 0], 'b', label='theta(t)')\n",
      "    >>> plt.plot(t, sol[:, 1], 'g', label='omega(t)')\n",
      "    >>> plt.legend(loc='best')\n",
      "    >>> plt.xlabel('t')\n",
      "    >>> plt.grid()\n",
      "    >>> plt.show()\n",
      "\n"
     ]
    }
   ],
   "source": [
    "help(odeint)"
   ]
  },
  {
   "cell_type": "markdown",
   "metadata": {},
   "source": [
    "To create the function, simply pass in $\\mathbf{M}$, $\\mathbf{f}$, and the lists of variables in the system."
   ]
  },
  {
   "cell_type": "code",
   "execution_count": 16,
   "metadata": {
    "collapsed": false
   },
   "outputs": [],
   "source": [
    "right_hand_side = generate_ode_function(forcing_vector, coordinates,\n",
    "                                        speeds, constants,\n",
    "                                        mass_matrix=mass_matrix,\n",
    "                                        specifieds=specified)"
   ]
  },
  {
   "cell_type": "markdown",
   "metadata": {},
   "source": [
    "We see that the result is a function."
   ]
  },
  {
   "cell_type": "code",
   "execution_count": 17,
   "metadata": {
    "collapsed": false
   },
   "outputs": [
    {
     "data": {
      "text/plain": [
       "function"
      ]
     },
     "execution_count": 17,
     "metadata": {},
     "output_type": "execute_result"
    }
   ],
   "source": [
    "type(right_hand_side)"
   ]
  },
  {
   "cell_type": "markdown",
   "metadata": {},
   "source": [
    "And the doc string gives information on the type of the arguments needed to evaluate it:"
   ]
  },
  {
   "cell_type": "code",
   "execution_count": 18,
   "metadata": {
    "collapsed": false
   },
   "outputs": [
    {
     "name": "stdout",
     "output_type": "stream",
     "text": [
      "Help on function rhs in module pydy.codegen.ode_function_generators:\n",
      "\n",
      "rhs(*args)\n",
      "    Returns the derivatives of the states, i.e. numerically evaluates the right\n",
      "    hand side of the first order differential equation.\n",
      "    \n",
      "    x' = f(x, t, r, p)\n",
      "    \n",
      "    Parameters\n",
      "    ==========\n",
      "    x : ndarray, shape(6,)\n",
      "        The state vector is ordered as such:\n",
      "            - theta1(t)\n",
      "            - theta2(t)\n",
      "            - theta3(t)\n",
      "            - omega1(t)\n",
      "            - omega2(t)\n",
      "            - omega3(t)\n",
      "    t : float\n",
      "        The current time.\n",
      "    r : dictionary; ndarray, shape(3,); function\n",
      "    \n",
      "        There are three options for this argument. (1) is more flexible but\n",
      "        (2) and (3) are much more efficient.\n",
      "    \n",
      "        (1) A dictionary that maps the specified functions of time to floats,\n",
      "        ndarrays, or functions that produce ndarrays. The keys can be a single\n",
      "        specified symbolic function of time or a tuple of symbols. The total\n",
      "        number of symbols must be equal to 3. If the value is a\n",
      "        function it must be of the form g(x, t), where x is the current state\n",
      "        vector ndarray and t is the current time float and it must return an\n",
      "        ndarray of the correct shape. For example::\n",
      "    \n",
      "          r = {a: 1.0,\n",
      "               (d, b) : np.array([1.0, 2.0]),\n",
      "               (e, f) : lambda x, t: np.array(x[0], x[1]),\n",
      "               c: lambda x, t: np.array(x[2])}\n",
      "    \n",
      "        (2) A ndarray with the specified values in the correct order and of the\n",
      "        correct shape.\n",
      "    \n",
      "        (3) A function that must be of the form g(x, t), where x is the current\n",
      "        state vector and t is the current time and it must return an ndarray of\n",
      "        the correct shape.\n",
      "    \n",
      "        The specified inputs are, in order:\n",
      "            - T_a(t)\n",
      "            - T_k(t)\n",
      "            - T_h(t)\n",
      "    p : dictionary len(12) or ndarray shape(12,)\n",
      "        Either a dictionary that maps the constants symbols to their numerical\n",
      "        values or an array with the constants in the following order:\n",
      "            - l_L\n",
      "            - d_L\n",
      "            - m_L\n",
      "            - I_Lz\n",
      "            - l_U\n",
      "            - d_U\n",
      "            - m_U\n",
      "            - I_Uz\n",
      "            - d_T\n",
      "            - m_T\n",
      "            - I_Tz\n",
      "            - g\n",
      "    \n",
      "    Returns\n",
      "    =======\n",
      "    dx : ndarray, shape(6,)\n",
      "        The derivative of the state vector.\n",
      "\n"
     ]
    }
   ],
   "source": [
    "help(right_hand_side)"
   ]
  },
  {
   "cell_type": "markdown",
   "metadata": {},
   "source": [
    "# Set the Initial Conditions, Parameter Values, and Time Array"
   ]
  },
  {
   "cell_type": "markdown",
   "metadata": {},
   "source": [
    "We will set the intial values of the speeds to be zero and the coordinates to be offset from vertical at 2 degrees. First make an array of zeros:"
   ]
  },
  {
   "cell_type": "code",
   "execution_count": 19,
   "metadata": {
    "collapsed": false
   },
   "outputs": [
    {
     "data": {
      "text/plain": [
       "array([ 0.,  0.,  0.,  0.,  0.,  0.])"
      ]
     },
     "execution_count": 19,
     "metadata": {},
     "output_type": "execute_result"
    }
   ],
   "source": [
    "x0 = zeros(6)\n",
    "x0"
   ]
  },
  {
   "cell_type": "markdown",
   "metadata": {},
   "source": [
    "And then set the first three values, $\\theta_{1,2,3}$, to 2 degrees:"
   ]
  },
  {
   "cell_type": "code",
   "execution_count": 20,
   "metadata": {
    "collapsed": false
   },
   "outputs": [
    {
     "data": {
      "text/plain": [
       "array([ 0.03490659,  0.03490659,  0.03490659,  0.        ,  0.        ,  0.        ])"
      ]
     },
     "execution_count": 20,
     "metadata": {},
     "output_type": "execute_result"
    }
   ],
   "source": [
    "x0[:3] = deg2rad(2.0)\n",
    "x0"
   ]
  },
  {
   "cell_type": "markdown",
   "metadata": {},
   "source": [
    "The right hand side function requires numerical values of all the constants to be passed in and values for the specified joint torques. Here we will use typical values from body segment parameter measurements which were generated from the [Yeadon](http://yeadon.readthedocs.org/en/latest/) Python package (`male1.txt`). Make sure the units are all consistent!"
   ]
  },
  {
   "cell_type": "code",
   "execution_count": 21,
   "metadata": {
    "collapsed": false
   },
   "outputs": [],
   "source": [
    "numerical_constants = array([0.611,  # lower_leg_length [m]\n",
    "                             0.387,  # lower_leg_com_length [m]\n",
    "                             6.769,  # lower_leg_mass [kg]\n",
    "                             0.101,  # lower_leg_inertia [kg*m^2]\n",
    "                             0.424,  # upper_leg_length [m]\n",
    "                             0.193,  # upper_leg_com_length\n",
    "                             17.01,  # upper_leg_mass [kg]\n",
    "                             0.282,  # upper_leg_inertia [kg*m^2]\n",
    "                             0.305,  # torso_com_length [m]\n",
    "                             32.44,  # torso_mass [kg]\n",
    "                             1.485,  # torso_inertia [kg*m^2]\n",
    "                             9.81],  # acceleration due to gravity [m/s^2]\n",
    "                            ) "
   ]
  },
  {
   "cell_type": "markdown",
   "metadata": {},
   "source": [
    "## Exercise"
   ]
  },
  {
   "cell_type": "markdown",
   "metadata": {},
   "source": [
    "For this first simulation we will set the three joint torques equal to zero for the duration of the simulation. Created a Python variale `numerical_specified` which is a NumPy array of length three and each entry is equal to zero."
   ]
  },
  {
   "cell_type": "code",
   "execution_count": null,
   "metadata": {
    "collapsed": false
   },
   "outputs": [],
   "source": []
  },
  {
   "cell_type": "markdown",
   "metadata": {},
   "source": [
    "We can use the `linspace` function to generate a time vector over 10 secs such that `odeint` returns results at 60 Hz."
   ]
  },
  {
   "cell_type": "code",
   "execution_count": null,
   "metadata": {
    "collapsed": false
   },
   "outputs": [],
   "source": []
  },
  {
   "cell_type": "code",
   "execution_count": 23,
   "metadata": {
    "collapsed": false
   },
   "outputs": [],
   "source": [
    "# %load exercise_solutions/n07_simulation_sim-setup.py\n",
    "numerical_specified = zeros(3)\n",
    "\n",
    "args = {'constants': numerical_constants,\n",
    "        'specified': numerical_specified}\n",
    "\n",
    "frames_per_sec = 60\n",
    "final_time = 5.0\n",
    "\n",
    "t = linspace(0.0, final_time, final_time * frames_per_sec)"
   ]
  },
  {
   "cell_type": "markdown",
   "metadata": {},
   "source": [
    "# Integrate the Equations of Motion"
   ]
  },
  {
   "cell_type": "markdown",
   "metadata": {},
   "source": [
    "The right hand side function can now be evaluated numerically given a current value of the states, a value for time, and the numerical values for all the constants and specified values in the equations of motion:"
   ]
  },
  {
   "cell_type": "code",
   "execution_count": 24,
   "metadata": {
    "collapsed": false
   },
   "outputs": [
    {
     "data": {
      "text/plain": [
       "array([ 0.        ,  0.        ,  0.        , -1.76725648,  5.52084443,\n",
       "       -2.62845189])"
      ]
     },
     "execution_count": 24,
     "metadata": {},
     "output_type": "execute_result"
    }
   ],
   "source": [
    "right_hand_side(x0, 0.0, numerical_specified, numerical_constants)"
   ]
  },
  {
   "cell_type": "markdown",
   "metadata": {},
   "source": [
    "Now we can solve the initial value problem and simulate the motion. As shown above, `odeint` requires the function to integrate `right_hand_side`, the initial conditions `x0`, the time vector `t`, and the extra arguments `args`:"
   ]
  },
  {
   "cell_type": "code",
   "execution_count": 25,
   "metadata": {
    "collapsed": false
   },
   "outputs": [],
   "source": [
    "y = odeint(right_hand_side, x0, t, args=(numerical_specified, numerical_constants))"
   ]
  },
  {
   "cell_type": "markdown",
   "metadata": {},
   "source": [
    "The `y` variable now contains a 2D array that gives the trajectories of the states as a function of time."
   ]
  },
  {
   "cell_type": "code",
   "execution_count": 26,
   "metadata": {
    "collapsed": false
   },
   "outputs": [
    {
     "data": {
      "text/latex": [
       "$$\\left ( 300, \\quad 6\\right )$$"
      ],
      "text/plain": [
       "(300, 6)"
      ]
     },
     "execution_count": 26,
     "metadata": {},
     "output_type": "execute_result"
    }
   ],
   "source": [
    "y.shape"
   ]
  },
  {
   "cell_type": "markdown",
   "metadata": {},
   "source": [
    "# Plot the results"
   ]
  },
  {
   "cell_type": "markdown",
   "metadata": {},
   "source": [
    "We can plot the first 3 columns of `y` versus `t` so see how the three angles change throughout time."
   ]
  },
  {
   "cell_type": "code",
   "execution_count": 27,
   "metadata": {
    "collapsed": false
   },
   "outputs": [
    {
     "data": {
      "text/plain": [
       "<matplotlib.legend.Legend at 0x7fad5ea0f400>"
      ]
     },
     "execution_count": 27,
     "metadata": {},
     "output_type": "execute_result"
    },
    {
     "data": {
      "image/png": "[encoded data removed]",
      "text/plain": [
       "<matplotlib.figure.Figure at 0x7fad5ea0f390>"
      ]
     },
     "metadata": {},
     "output_type": "display_data"
    }
   ],
   "source": [
    "plot(t, rad2deg(y[:, :3]))\n",
    "xlabel('Time [s]')\n",
    "ylabel('Angle [deg]')\n",
    "legend([\"${}$\".format(vlatex(c)) for c in coordinates])"
   ]
  },
  {
   "cell_type": "markdown",
   "metadata": {},
   "source": [
    "What does this graph tell us? How does the system behave?"
   ]
  },
  {
   "cell_type": "markdown",
   "metadata": {},
   "source": [
    "## Exercise"
   ]
  },
  {
   "cell_type": "markdown",
   "metadata": {},
   "source": [
    "Now as an exercise, plot the generalized speeds (i.e. the last three states)."
   ]
  },
  {
   "cell_type": "code",
   "execution_count": null,
   "metadata": {
    "collapsed": false
   },
   "outputs": [],
   "source": []
  },
  {
   "cell_type": "code",
   "execution_count": 29,
   "metadata": {
    "collapsed": false
   },
   "outputs": [
    {
     "data": {
      "text/plain": [
       "<matplotlib.legend.Legend at 0x7fad5becc358>"
      ]
     },
     "execution_count": 29,
     "metadata": {},
     "output_type": "execute_result"
    },
    {
     "data": {
      "image/png": "[encoded data removed]",
      "text/plain": [
       "<matplotlib.figure.Figure at 0x7fad5becca90>"
      ]
     },
     "metadata": {},
     "output_type": "display_data"
    }
   ],
   "source": [
    "# %load exercise_solutions/n07_simulation_plot-speeds.py\n",
    "plot(t, rad2deg(y[:, 3:]))\n",
    "xlabel('Time [s]')\n",
    "ylabel('Angular Rate [deg/s]')\n",
    "legend([\"${}$\".format(vlatex(s)) for s in speeds])"
   ]
  }
 ],
 "metadata": {
  "kernelspec": {
   "display_name": "Python 3",
   "language": "python",
   "name": "python3"
  },
  "language_info": {
   "codemirror_mode": {
    "name": "ipython",
    "version": 3
   },
   "file_extension": ".py",
   "mimetype": "text/x-python",
   "name": "python",
   "nbconvert_exporter": "python",
   "pygments_lexer": "ipython3",
   "version": "3.5.1"
  }
 },
 "nbformat": 4,
 "nbformat_minor": 0
}
