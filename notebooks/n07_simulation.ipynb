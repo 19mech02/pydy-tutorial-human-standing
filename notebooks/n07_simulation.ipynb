{
 "metadata": {
  "name": ""
 },
 "nbformat": 3,
 "nbformat_minor": 0,
 "worksheets": [
  {
   "cells": [
    {
     "cell_type": "heading",
     "level": 1,
     "metadata": {},
     "source": [
      "Introduction"
     ]
    },
    {
     "cell_type": "markdown",
     "metadata": {},
     "source": [
      "Now that we have the symbolic equations of motion we need to transform them into Python functions that can be evaluated for use in numerical integration. [Numerical integration](http://en.wikipedia.org/wiki/Numerical_methods_for_ordinary_differential_equations) is required to solve the ordinary differential initial value problem and allow us to see how the states change through time."
     ]
    },
    {
     "cell_type": "heading",
     "level": 1,
     "metadata": {},
     "source": [
      "Setup"
     ]
    },
    {
     "cell_type": "markdown",
     "metadata": {},
     "source": [
      "Load the solutions from the previous notebooks:"
     ]
    },
    {
     "cell_type": "code",
     "collapsed": false,
     "input": [
      "from solution.equations_of_motion import *"
     ],
     "language": "python",
     "metadata": {},
     "outputs": [],
     "prompt_number": 1
    },
    {
     "cell_type": "markdown",
     "metadata": {},
     "source": [
      "To setup the numerical values and integrate the equations of motion we will need some functions from NumPy for numerical arrays:"
     ]
    },
    {
     "cell_type": "code",
     "collapsed": false,
     "input": [
      "from numpy import deg2rad, rad2deg, array, zeros, linspace"
     ],
     "language": "python",
     "metadata": {},
     "outputs": [],
     "prompt_number": 2
    },
    {
     "cell_type": "markdown",
     "metadata": {},
     "source": [
      "We will need a ODE numerical integration routine from SciPy:"
     ]
    },
    {
     "cell_type": "code",
     "collapsed": false,
     "input": [
      "from scipy.integrate import odeint"
     ],
     "language": "python",
     "metadata": {},
     "outputs": [],
     "prompt_number": 3
    },
    {
     "cell_type": "markdown",
     "metadata": {},
     "source": [
      "We can use PyDy's ODE function generator to transform the symbolic equations into numerical functions:"
     ]
    },
    {
     "cell_type": "code",
     "collapsed": false,
     "input": [
      "from pydy_code_gen.code import generate_ode_function"
     ],
     "language": "python",
     "metadata": {},
     "outputs": [],
     "prompt_number": 4
    },
    {
     "cell_type": "markdown",
     "metadata": {},
     "source": [
      "Once again, let's display the symbolics nicely."
     ]
    },
    {
     "cell_type": "code",
     "collapsed": false,
     "input": [
      "from sympy.physics.vector import init_vprinting, vlatex"
     ],
     "language": "python",
     "metadata": {},
     "outputs": [],
     "prompt_number": 5
    },
    {
     "cell_type": "code",
     "collapsed": false,
     "input": [
      "init_vprinting()"
     ],
     "language": "python",
     "metadata": {},
     "outputs": [],
     "prompt_number": 6
    },
    {
     "cell_type": "markdown",
     "metadata": {},
     "source": [
      "Once we get the solution for how the state change over time, it is nice to visualize them. The simplest way to do this is to plot the trajectories versus time. We can use the matplotlib library to do this. First enable inline plotting:"
     ]
    },
    {
     "cell_type": "code",
     "collapsed": false,
     "input": [
      "%matplotlib inline"
     ],
     "language": "python",
     "metadata": {},
     "outputs": [],
     "prompt_number": 7
    },
    {
     "cell_type": "markdown",
     "metadata": {},
     "source": [
      "Import a few functions for plotting:"
     ]
    },
    {
     "cell_type": "code",
     "collapsed": false,
     "input": [
      "from matplotlib.pyplot import plot, legend, xlabel, ylabel, rcParams"
     ],
     "language": "python",
     "metadata": {},
     "outputs": [],
     "prompt_number": 8
    },
    {
     "cell_type": "markdown",
     "metadata": {},
     "source": [
      "And set the default figure size to be larger:"
     ]
    },
    {
     "cell_type": "code",
     "collapsed": false,
     "input": [
      "rcParams['figure.figsize'] = (14.0, 6.0)"
     ],
     "language": "python",
     "metadata": {},
     "outputs": [],
     "prompt_number": 9
    },
    {
     "cell_type": "heading",
     "level": 1,
     "metadata": {},
     "source": [
      "Variables"
     ]
    },
    {
     "cell_type": "markdown",
     "metadata": {},
     "source": [
      "The first step is to gather all of the variables in the equations of motion into lists. We will need the constants, coordinates, speeds, and the specified inputs."
     ]
    },
    {
     "cell_type": "heading",
     "level": 2,
     "metadata": {},
     "source": [
      "Constants"
     ]
    },
    {
     "cell_type": "markdown",
     "metadata": {},
     "source": [
      "There are twelve constants in the equations. Put them into a list."
     ]
    },
    {
     "cell_type": "code",
     "collapsed": false,
     "input": [
      "constants = [lower_leg_length,\n",
      "             lower_leg_com_length,\n",
      "             lower_leg_mass,\n",
      "             lower_leg_inertia,\n",
      "             upper_leg_length,\n",
      "             upper_leg_com_length,\n",
      "             upper_leg_mass,\n",
      "             upper_leg_inertia,\n",
      "             torso_com_length,\n",
      "             torso_mass,            \n",
      "             torso_inertia,\n",
      "             g]\n",
      "constants\n",
      "             "
     ],
     "language": "python",
     "metadata": {},
     "outputs": [
      {
       "latex": [
        "$$\\begin{bmatrix}l_{L}, & d_{L}, & m_{L}, & I_{Lz}, & l_{U}, & d_{U}, & m_{U}, & I_{Uz}, & d_{T}, & m_{T}, & I_{Tz}, & g\\end{bmatrix}$$"
       ],
       "metadata": {},
       "output_type": "pyout",
       "prompt_number": 10,
       "text": [
        "[l_L, d_L, m_L, I_Lz, l_U, d_U, m_U, I_Uz, d_T, m_T, I_Tz, g]"
       ]
      }
     ],
     "prompt_number": 10
    },
    {
     "cell_type": "heading",
     "level": 2,
     "metadata": {},
     "source": [
      "Time Varying"
     ]
    },
    {
     "cell_type": "markdown",
     "metadata": {},
     "source": [
      "The coordinates and speeds make up the states and there are three time varying specified inputs to the system, the joint torques."
     ]
    },
    {
     "cell_type": "code",
     "collapsed": false,
     "input": [
      "coordinates = [theta1, theta2, theta3]\n",
      "coordinates"
     ],
     "language": "python",
     "metadata": {},
     "outputs": [
      {
       "latex": [
        "$$\\begin{bmatrix}\\theta_{1}, & \\theta_{2}, & \\theta_{3}\\end{bmatrix}$$"
       ],
       "metadata": {},
       "output_type": "pyout",
       "png": "[encoded data removed]",
       "prompt_number": 11,
       "text": [
        "[\u03b8\u2081, \u03b8\u2082, \u03b8\u2083]"
       ]
      }
     ],
     "prompt_number": 11
    },
    {
     "cell_type": "code",
     "collapsed": false,
     "input": [
      "speeds = [omega1, omega2, omega3]\n",
      "speeds"
     ],
     "language": "python",
     "metadata": {},
     "outputs": [
      {
       "latex": [
        "$$\\begin{bmatrix}\\omega_{1}, & \\omega_{2}, & \\omega_{3}\\end{bmatrix}$$"
       ],
       "metadata": {},
       "output_type": "pyout",
       "png": "[encoded data removed]",
       "prompt_number": 12,
       "text": [
        "[\u03c9\u2081, \u03c9\u2082, \u03c9\u2083]"
       ]
      }
     ],
     "prompt_number": 12
    },
    {
     "cell_type": "heading",
     "level": 2,
     "metadata": {},
     "source": [
      "Exercise"
     ]
    },
    {
     "cell_type": "markdown",
     "metadata": {},
     "source": [
      "Make a list called `specified` that contains the three torque magnitude variables: $T_a$, $T_k$, and $T_h$."
     ]
    },
    {
     "cell_type": "code",
     "collapsed": false,
     "input": [],
     "language": "python",
     "metadata": {},
     "outputs": []
    },
    {
     "cell_type": "code",
     "collapsed": false,
     "input": [
      "## Solution\n",
      "%load exercise_solutions/n07_simulation_torque-magnitude.py"
     ],
     "language": "python",
     "metadata": {},
     "outputs": []
    },
    {
     "cell_type": "heading",
     "level": 1,
     "metadata": {},
     "source": [
      "Generate the Numerical ODE Function"
     ]
    },
    {
     "cell_type": "markdown",
     "metadata": {},
     "source": [
      "Ordinary differential equation integrators, like `scipy.integrate.odeint`, required a function that numerically evaluates the right hand side of the coupled first order ordinary differential equations. We have the symbolic form of the mass matrix and the forcing vector available. The `generate_ode_function` function generates a function from the symbolic expressions that fits the form needed for `odeint`.\n",
      "\n",
      "`odeint` is an ODE integrator based on the `lsoda` routine from ODEPACK that works well for both non-stiff and stiff ODEs. Notice that it requres the right hand side function, the initial conditions of the state, a time vector. We will also pass in a dictionary for the extra arguments, `args`, of the right hand side function."
     ]
    },
    {
     "cell_type": "code",
     "collapsed": false,
     "input": [
      "help(odeint)"
     ],
     "language": "python",
     "metadata": {},
     "outputs": [
      {
       "output_type": "stream",
       "stream": "stdout",
       "text": [
        "Help on function odeint in module scipy.integrate.odepack:\n",
        "\n",
        "odeint(func, y0, t, args=(), Dfun=None, col_deriv=0, full_output=0, ml=None, mu=None, rtol=None, atol=None, tcrit=None, h0=0.0, hmax=0.0, hmin=0.0, ixpr=0, mxstep=0, mxhnil=0, mxordn=12, mxords=5, printmessg=0)\n",
        "    Integrate a system of ordinary differential equations.\n",
        "    \n",
        "    Solve a system of ordinary differential equations using lsoda from the\n",
        "    FORTRAN library odepack.\n",
        "    \n",
        "    Solves the initial value problem for stiff or non-stiff systems\n",
        "    of first order ode-s::\n",
        "    \n",
        "        dy/dt = func(y,t0,...)\n",
        "    \n",
        "    where y can be a vector.\n",
        "    \n",
        "    Parameters\n",
        "    ----------\n",
        "    func : callable(y, t0, ...)\n",
        "        Computes the derivative of y at t0.\n",
        "    y0 : array\n",
        "        Initial condition on y (can be a vector).\n",
        "    t : array\n",
        "        A sequence of time points for which to solve for y.  The initial\n",
        "        value point should be the first element of this sequence.\n",
        "    args : tuple, optional\n",
        "        Extra arguments to pass to function.\n",
        "    Dfun : callable(y, t0, ...)\n",
        "        Gradient (Jacobian) of `func`.\n",
        "    col_deriv : bool, optional\n",
        "        True if `Dfun` defines derivatives down columns (faster),\n",
        "        otherwise `Dfun` should define derivatives across rows.\n",
        "    full_output : bool, optional\n",
        "        True if to return a dictionary of optional outputs as the second output\n",
        "    printmessg : bool, optional\n",
        "        Whether to print the convergence message\n",
        "    \n",
        "    Returns\n",
        "    -------\n",
        "    y : array, shape (len(t), len(y0))\n",
        "        Array containing the value of y for each desired time in t,\n",
        "        with the initial value `y0` in the first row.\n",
        "    infodict : dict, only returned if full_output == True\n",
        "        Dictionary containing additional output information\n",
        "    \n",
        "        =======  ============================================================\n",
        "        key      meaning\n",
        "        =======  ============================================================\n",
        "        'hu'     vector of step sizes successfully used for each time step.\n",
        "        'tcur'   vector with the value of t reached for each time step.\n",
        "                 (will always be at least as large as the input times).\n",
        "        'tolsf'  vector of tolerance scale factors, greater than 1.0,\n",
        "                 computed when a request for too much accuracy was detected.\n",
        "        'tsw'    value of t at the time of the last method switch\n",
        "                 (given for each time step)\n",
        "        'nst'    cumulative number of time steps\n",
        "        'nfe'    cumulative number of function evaluations for each time step\n",
        "        'nje'    cumulative number of jacobian evaluations for each time step\n",
        "        'nqu'    a vector of method orders for each successful step.\n",
        "        'imxer'  index of the component of largest magnitude in the\n",
        "                 weighted local error vector (e / ewt) on an error return, -1\n",
        "                 otherwise.\n",
        "        'lenrw'  the length of the double work array required.\n",
        "        'leniw'  the length of integer work array required.\n",
        "        'mused'  a vector of method indicators for each successful time step:\n",
        "                 1: adams (nonstiff), 2: bdf (stiff)\n",
        "        =======  ============================================================\n",
        "    \n",
        "    Other Parameters\n",
        "    ----------------\n",
        "    ml, mu : int, optional\n",
        "        If either of these are not None or non-negative, then the\n",
        "        Jacobian is assumed to be banded.  These give the number of\n",
        "        lower and upper non-zero diagonals in this banded matrix.\n",
        "        For the banded case, `Dfun` should return a matrix whose\n",
        "        columns contain the non-zero bands (starting with the\n",
        "        lowest diagonal).  Thus, the return matrix from `Dfun` should\n",
        "        have shape ``len(y0) * (ml + mu + 1)`` when ``ml >=0`` or ``mu >=0``.\n",
        "    rtol, atol : float, optional\n",
        "        The input parameters `rtol` and `atol` determine the error\n",
        "        control performed by the solver.  The solver will control the\n",
        "        vector, e, of estimated local errors in y, according to an\n",
        "        inequality of the form ``max-norm of (e / ewt) <= 1``,\n",
        "        where ewt is a vector of positive error weights computed as\n",
        "        ``ewt = rtol * abs(y) + atol``.\n",
        "        rtol and atol can be either vectors the same length as y or scalars.\n",
        "        Defaults to 1.49012e-8.\n",
        "    tcrit : ndarray, optional\n",
        "        Vector of critical points (e.g. singularities) where integration\n",
        "        care should be taken.\n",
        "    h0 : float, (0: solver-determined), optional\n",
        "        The step size to be attempted on the first step.\n",
        "    hmax : float, (0: solver-determined), optional\n",
        "        The maximum absolute step size allowed.\n",
        "    hmin : float, (0: solver-determined), optional\n",
        "        The minimum absolute step size allowed.\n",
        "    ixpr : bool, optional\n",
        "        Whether to generate extra printing at method switches.\n",
        "    mxstep : int, (0: solver-determined), optional\n",
        "        Maximum number of (internally defined) steps allowed for each\n",
        "        integration point in t.\n",
        "    mxhnil : int, (0: solver-determined), optional\n",
        "        Maximum number of messages printed.\n",
        "    mxordn : int, (0: solver-determined), optional\n",
        "        Maximum order to be allowed for the non-stiff (Adams) method.\n",
        "    mxords : int, (0: solver-determined), optional\n",
        "        Maximum order to be allowed for the stiff (BDF) method.\n",
        "    \n",
        "    See Also\n",
        "    --------\n",
        "    ode : a more object-oriented integrator based on VODE.\n",
        "    quad : for finding the area under a curve.\n",
        "\n"
       ]
      }
     ],
     "prompt_number": 14
    },
    {
     "cell_type": "markdown",
     "metadata": {},
     "source": [
      "To create the function, simply pass in $\\mathbf{M}$, $\\mathbf{f}$, and the lists of variables in the system."
     ]
    },
    {
     "cell_type": "code",
     "collapsed": false,
     "input": [
      "right_hand_side = generate_ode_function(mass_matrix, forcing_vector, \n",
      "                                        constants,\n",
      "                                        coordinates, speeds, specified)"
     ],
     "language": "python",
     "metadata": {},
     "outputs": [],
     "prompt_number": 15
    },
    {
     "cell_type": "markdown",
     "metadata": {},
     "source": [
      "We see that the result is a function."
     ]
    },
    {
     "cell_type": "code",
     "collapsed": false,
     "input": [
      "type(right_hand_side)"
     ],
     "language": "python",
     "metadata": {},
     "outputs": [
      {
       "metadata": {},
       "output_type": "pyout",
       "prompt_number": 16,
       "text": [
        "function"
       ]
      }
     ],
     "prompt_number": 16
    },
    {
     "cell_type": "markdown",
     "metadata": {},
     "source": [
      "And the doc string gives information on the type of the arguments needed to evaluate it:"
     ]
    },
    {
     "cell_type": "code",
     "collapsed": false,
     "input": [
      "help(right_hand_side)"
     ],
     "language": "python",
     "metadata": {},
     "outputs": [
      {
       "output_type": "stream",
       "stream": "stdout",
       "text": [
        "Help on function evaluate_ode in module pydy_code_gen.code:\n",
        "\n",
        "evaluate_ode(x, t, args)\n",
        "    Returns the derivatives of the states, i.e. numerically evaluates\n",
        "    the right hand side of the first order differential equation(s).\n",
        "    \n",
        "    x' = f(x, t)\n",
        "    \n",
        "    Parameters\n",
        "    ----------\n",
        "    x : ndarray, shape(6,)\n",
        "        The current state vector:\n",
        "            theta1(t), theta2(t), theta3(t), omega1(t), omega2(t), omega3(t)\n",
        "    t : float\n",
        "        The current time.\n",
        "    args : dictionary\n",
        "        constants : ndarray, shape(12,)\n",
        "            l_L, d_L, m_L, I_Lz, l_U, d_U, m_U, I_Uz, d_T, m_T, I_Tz, g\n",
        "        specified : ndarray, shape(3,) or a function\n",
        "            If this is a function it must be of the form f(x, t), where\n",
        "            x is the current state vector and t is the current time and\n",
        "            it must return an ndarray of the correct shape.\n",
        "            T_a(t), T_k(t), T_h(t)\n",
        "    \n",
        "    Returns\n",
        "    -------\n",
        "    dx : ndarray, shape(6,)\n",
        "        The derivative of the state vector.\n",
        "\n"
       ]
      }
     ],
     "prompt_number": 17
    },
    {
     "cell_type": "heading",
     "level": 1,
     "metadata": {},
     "source": [
      "Set the Initial Conditions, Parameter Values, and Time Array"
     ]
    },
    {
     "cell_type": "markdown",
     "metadata": {},
     "source": [
      "We will set the intial values of the speeds to be zero and the coordinates to be offset from vertical at 2 degrees. First make an array of zeros:"
     ]
    },
    {
     "cell_type": "code",
     "collapsed": false,
     "input": [
      "x0 = zeros(6)"
     ],
     "language": "python",
     "metadata": {},
     "outputs": [],
     "prompt_number": 18
    },
    {
     "cell_type": "markdown",
     "metadata": {},
     "source": [
      "And then set the first three values, $\\theta_{1,2,3}$, equals to 2 degrees:"
     ]
    },
    {
     "cell_type": "code",
     "collapsed": false,
     "input": [
      "x0[:3] = deg2rad(2.0)\n",
      "x0"
     ],
     "language": "python",
     "metadata": {},
     "outputs": [
      {
       "metadata": {},
       "output_type": "pyout",
       "prompt_number": 19,
       "text": [
        "array([ 0.03490659,  0.03490659,  0.03490659,  0.        ,  0.        ,  0.        ])"
       ]
      }
     ],
     "prompt_number": 19
    },
    {
     "cell_type": "markdown",
     "metadata": {},
     "source": [
      "The right hand side function requires numerical values of all the constants to be passed in and values for the specified joint torques. Here we will use typical values from body segment parameter measurements which were generated from the [Yeadon](http://yeadon.readthedocs.org/en/latest/) Python package (`male1.txt`). Make sure the units are all consistent!"
     ]
    },
    {
     "cell_type": "code",
     "collapsed": false,
     "input": [
      "numerical_constants = array([0.611,  # lower_leg_length [m]\n",
      "                             0.387,  # lower_leg_com_length [m]\n",
      "                             6.769,  # lower_leg_mass [kg]\n",
      "                             0.101,  # lower_leg_inertia [kg*m^2]\n",
      "                             0.424,  # upper_leg_length [m]\n",
      "                             0.193,  # upper_leg_com_length\n",
      "                             17.01,  # upper_leg_mass [kg]\n",
      "                             0.282,  # upper_leg_inertia [kg*m^2]\n",
      "                             0.305,  # torso_com_length [m]\n",
      "                             32.44,  # torso_mass [kg]\n",
      "                             1.485,  # torso_inertia [kg*m^2]\n",
      "                             9.81],  # acceleration due to gravity [m/s^2]\n",
      "                            ) "
     ],
     "language": "python",
     "metadata": {},
     "outputs": [],
     "prompt_number": 20
    },
    {
     "cell_type": "heading",
     "level": 2,
     "metadata": {},
     "source": [
      "Exercise"
     ]
    },
    {
     "cell_type": "markdown",
     "metadata": {},
     "source": [
      "For this first simulation we will set the three joint torques equal to zero for the duration of the simulation. Created a Python variale `numerical_specified` which is a NumPy array of length three and each entry is equal to zero."
     ]
    },
    {
     "cell_type": "code",
     "collapsed": false,
     "input": [],
     "language": "python",
     "metadata": {},
     "outputs": []
    },
    {
     "cell_type": "markdown",
     "metadata": {},
     "source": [
      "Now stored them in a dictionary as required by `right_hand_side`:"
     ]
    },
    {
     "cell_type": "code",
     "collapsed": false,
     "input": [],
     "language": "python",
     "metadata": {},
     "outputs": [],
     "prompt_number": 22
    },
    {
     "cell_type": "markdown",
     "metadata": {},
     "source": [
      "We can use the `linspace` function to generate a time vector over 10 secs such that `odeint` returns results at 60 Hz."
     ]
    },
    {
     "cell_type": "code",
     "collapsed": false,
     "input": [],
     "language": "python",
     "metadata": {},
     "outputs": [],
     "prompt_number": 23
    },
    {
     "cell_type": "code",
     "collapsed": false,
     "input": [
      "## Solution\n",
      "%load exercise_solutions/n07_simulation_sim-setup.py"
     ],
     "language": "python",
     "metadata": {},
     "outputs": []
    },
    {
     "cell_type": "heading",
     "level": 1,
     "metadata": {},
     "source": [
      "Integrate the Equations of Motion"
     ]
    },
    {
     "cell_type": "markdown",
     "metadata": {},
     "source": [
      "The right hand side function can now be evaluated numerically given a current value of the states, a value for time, and the numerical values for all the constants and specified values in the equations of motion:"
     ]
    },
    {
     "cell_type": "code",
     "collapsed": false,
     "input": [
      "right_hand_side(x0, 0.0, args)"
     ],
     "language": "python",
     "metadata": {},
     "outputs": [
      {
       "metadata": {},
       "output_type": "pyout",
       "prompt_number": 24,
       "text": [
        "array([ 0.        ,  0.        ,  0.        , -1.76725648,  5.52084443,\n",
        "       -2.62845189])"
       ]
      }
     ],
     "prompt_number": 24
    },
    {
     "cell_type": "markdown",
     "metadata": {},
     "source": [
      "Now we can solve the initial value problem and simulate the motion. As shown above, `odeint` requires the function to integrate `right_hand_side`, the initial conditions `x0`, the time vector `t`, and the extra arguments `args`:"
     ]
    },
    {
     "cell_type": "code",
     "collapsed": false,
     "input": [
      "y = odeint(right_hand_side, x0, t, args=(args,))"
     ],
     "language": "python",
     "metadata": {},
     "outputs": [],
     "prompt_number": 25
    },
    {
     "cell_type": "markdown",
     "metadata": {},
     "source": [
      "The `y` variable now contains a 2D array that gives the trajectories of the states as a function of time."
     ]
    },
    {
     "cell_type": "code",
     "collapsed": false,
     "input": [
      "y.shape"
     ],
     "language": "python",
     "metadata": {},
     "outputs": [
      {
       "latex": [
        "$$\\begin{pmatrix}300, & 6\\end{pmatrix}$$"
       ],
       "metadata": {},
       "output_type": "pyout",
       "png": "[encoded data removed]",
       "prompt_number": 26,
       "text": [
        "(300, 6)"
       ]
      }
     ],
     "prompt_number": 26
    },
    {
     "cell_type": "heading",
     "level": 1,
     "metadata": {},
     "source": [
      "Plot the results"
     ]
    },
    {
     "cell_type": "markdown",
     "metadata": {},
     "source": [
      "We can plot the first 3 columns of `y` versus `t` so see how the three angles change throughout time."
     ]
    },
    {
     "cell_type": "code",
     "collapsed": false,
     "input": [
      "plot(t, rad2deg(y[:, :3]))\n",
      "xlabel('Time [s]')\n",
      "ylabel('Angle [deg]')\n",
      "legend([\"${}$\".format(vlatex(c)) for c in coordinates])"
     ],
     "language": "python",
     "metadata": {},
     "outputs": [
      {
       "metadata": {},
       "output_type": "pyout",
       "prompt_number": 27,
       "text": [
        "<matplotlib.legend.Legend at 0x6900290>"
       ]
      },
      {
       "metadata": {},
       "output_type": "display_data",
       "png": "[encoded data removed]",
       "text": [
        "<matplotlib.figure.Figure at 0x6900c10>"
       ]
      }
     ],
     "prompt_number": 27
    },
    {
     "cell_type": "markdown",
     "metadata": {},
     "source": [
      "What does this graph tell us? How does the system behave?"
     ]
    },
    {
     "cell_type": "heading",
     "level": 2,
     "metadata": {},
     "source": [
      "Exercise"
     ]
    },
    {
     "cell_type": "markdown",
     "metadata": {},
     "source": [
      "Now as an exercise, plot the generalized speeds (i.e. the last three states)."
     ]
    },
    {
     "cell_type": "code",
     "collapsed": false,
     "input": [],
     "language": "python",
     "metadata": {},
     "outputs": []
    },
    {
     "cell_type": "code",
     "collapsed": false,
     "input": [
      "## Solution\n",
      "%load exercise_solutions/n07_simulation_plot-speeds.py"
     ],
     "language": "python",
     "metadata": {},
     "outputs": []
    }
   ],
   "metadata": {}
  }
 ]
}